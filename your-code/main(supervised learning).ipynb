{
 "cells": [
  {
   "cell_type": "markdown",
   "metadata": {},
   "source": [
    "# Before your start:\n",
    "- Read the README.md file\n",
    "- Comment as much as you can and use the resources in the README.md file\n",
    "- Happy learning!"
   ]
  },
  {
   "cell_type": "code",
   "execution_count": 9,
   "metadata": {},
   "outputs": [],
   "source": [
    "# Import your libraries:\n",
    "\n",
    "%matplotlib inline\n",
    "\n",
    "import numpy as np\n",
    "import pandas as pd"
   ]
  },
  {
   "cell_type": "markdown",
   "metadata": {},
   "source": [
    "In this lab, we will explore a dataset that describes websites with different features and labels them either benign or malicious . We will use supervised learning algorithms to figure out what feature patterns malicious websites are likely to have and use our model to predict malicious websites.\n",
    "\n",
    "# Challenge 1 - Explore The Dataset\n",
    "\n",
    "Let's start by exploring the dataset. First load the data file:"
   ]
  },
  {
   "cell_type": "code",
   "execution_count": 10,
   "metadata": {},
   "outputs": [],
   "source": [
    "websites = pd.read_csv('../data/website.csv')"
   ]
  },
  {
   "cell_type": "markdown",
   "metadata": {},
   "source": [
    "#### Explore the data from an bird's-eye view.\n",
    "\n",
    "You should already been very familiar with the procedures now so we won't provide the instructions step by step. Reflect on what you did in the previous labs and explore the dataset.\n",
    "\n",
    "Things you'll be looking for:\n",
    "\n",
    "* What the dataset looks like?\n",
    "* What are the data types?\n",
    "* Which columns contain the features of the websites?\n",
    "* Which column contains the feature we will predict? What is the code standing for benign vs malicious websites?\n",
    "* Do we need to transform any of the columns from categorical to ordinal values? If so what are these columns?\n",
    "\n",
    "Feel free to add additional cells for your explorations. Make sure to comment what you find out."
   ]
  },
  {
   "cell_type": "code",
   "execution_count": 11,
   "metadata": {},
   "outputs": [
    {
     "data": {
      "text/html": [
       "<div>\n",
       "<style scoped>\n",
       "    .dataframe tbody tr th:only-of-type {\n",
       "        vertical-align: middle;\n",
       "    }\n",
       "\n",
       "    .dataframe tbody tr th {\n",
       "        vertical-align: top;\n",
       "    }\n",
       "\n",
       "    .dataframe thead th {\n",
       "        text-align: right;\n",
       "    }\n",
       "</style>\n",
       "<table border=\"1\" class=\"dataframe\">\n",
       "  <thead>\n",
       "    <tr style=\"text-align: right;\">\n",
       "      <th></th>\n",
       "      <th>URL</th>\n",
       "      <th>URL_LENGTH</th>\n",
       "      <th>NUMBER_SPECIAL_CHARACTERS</th>\n",
       "      <th>CHARSET</th>\n",
       "      <th>SERVER</th>\n",
       "      <th>CONTENT_LENGTH</th>\n",
       "      <th>WHOIS_COUNTRY</th>\n",
       "      <th>WHOIS_STATEPRO</th>\n",
       "      <th>WHOIS_REGDATE</th>\n",
       "      <th>WHOIS_UPDATED_DATE</th>\n",
       "      <th>...</th>\n",
       "      <th>DIST_REMOTE_TCP_PORT</th>\n",
       "      <th>REMOTE_IPS</th>\n",
       "      <th>APP_BYTES</th>\n",
       "      <th>SOURCE_APP_PACKETS</th>\n",
       "      <th>REMOTE_APP_PACKETS</th>\n",
       "      <th>SOURCE_APP_BYTES</th>\n",
       "      <th>REMOTE_APP_BYTES</th>\n",
       "      <th>APP_PACKETS</th>\n",
       "      <th>DNS_QUERY_TIMES</th>\n",
       "      <th>Type</th>\n",
       "    </tr>\n",
       "  </thead>\n",
       "  <tbody>\n",
       "    <tr>\n",
       "      <th>0</th>\n",
       "      <td>M0_109</td>\n",
       "      <td>16</td>\n",
       "      <td>7</td>\n",
       "      <td>iso-8859-1</td>\n",
       "      <td>nginx</td>\n",
       "      <td>263.0</td>\n",
       "      <td>None</td>\n",
       "      <td>None</td>\n",
       "      <td>10/10/2015 18:21</td>\n",
       "      <td>None</td>\n",
       "      <td>...</td>\n",
       "      <td>0</td>\n",
       "      <td>2</td>\n",
       "      <td>700</td>\n",
       "      <td>9</td>\n",
       "      <td>10</td>\n",
       "      <td>1153</td>\n",
       "      <td>832</td>\n",
       "      <td>9</td>\n",
       "      <td>2.0</td>\n",
       "      <td>1</td>\n",
       "    </tr>\n",
       "    <tr>\n",
       "      <th>1</th>\n",
       "      <td>B0_2314</td>\n",
       "      <td>16</td>\n",
       "      <td>6</td>\n",
       "      <td>UTF-8</td>\n",
       "      <td>Apache/2.4.10</td>\n",
       "      <td>15087.0</td>\n",
       "      <td>None</td>\n",
       "      <td>None</td>\n",
       "      <td>None</td>\n",
       "      <td>None</td>\n",
       "      <td>...</td>\n",
       "      <td>7</td>\n",
       "      <td>4</td>\n",
       "      <td>1230</td>\n",
       "      <td>17</td>\n",
       "      <td>19</td>\n",
       "      <td>1265</td>\n",
       "      <td>1230</td>\n",
       "      <td>17</td>\n",
       "      <td>0.0</td>\n",
       "      <td>0</td>\n",
       "    </tr>\n",
       "    <tr>\n",
       "      <th>2</th>\n",
       "      <td>B0_911</td>\n",
       "      <td>16</td>\n",
       "      <td>6</td>\n",
       "      <td>us-ascii</td>\n",
       "      <td>Microsoft-HTTPAPI/2.0</td>\n",
       "      <td>324.0</td>\n",
       "      <td>None</td>\n",
       "      <td>None</td>\n",
       "      <td>None</td>\n",
       "      <td>None</td>\n",
       "      <td>...</td>\n",
       "      <td>0</td>\n",
       "      <td>0</td>\n",
       "      <td>0</td>\n",
       "      <td>0</td>\n",
       "      <td>0</td>\n",
       "      <td>0</td>\n",
       "      <td>0</td>\n",
       "      <td>0</td>\n",
       "      <td>0.0</td>\n",
       "      <td>0</td>\n",
       "    </tr>\n",
       "    <tr>\n",
       "      <th>3</th>\n",
       "      <td>B0_113</td>\n",
       "      <td>17</td>\n",
       "      <td>6</td>\n",
       "      <td>ISO-8859-1</td>\n",
       "      <td>nginx</td>\n",
       "      <td>162.0</td>\n",
       "      <td>US</td>\n",
       "      <td>AK</td>\n",
       "      <td>7/10/1997 4:00</td>\n",
       "      <td>12/09/2013 0:45</td>\n",
       "      <td>...</td>\n",
       "      <td>22</td>\n",
       "      <td>3</td>\n",
       "      <td>3812</td>\n",
       "      <td>39</td>\n",
       "      <td>37</td>\n",
       "      <td>18784</td>\n",
       "      <td>4380</td>\n",
       "      <td>39</td>\n",
       "      <td>8.0</td>\n",
       "      <td>0</td>\n",
       "    </tr>\n",
       "    <tr>\n",
       "      <th>4</th>\n",
       "      <td>B0_403</td>\n",
       "      <td>17</td>\n",
       "      <td>6</td>\n",
       "      <td>UTF-8</td>\n",
       "      <td>None</td>\n",
       "      <td>124140.0</td>\n",
       "      <td>US</td>\n",
       "      <td>TX</td>\n",
       "      <td>12/05/1996 0:00</td>\n",
       "      <td>11/04/2017 0:00</td>\n",
       "      <td>...</td>\n",
       "      <td>2</td>\n",
       "      <td>5</td>\n",
       "      <td>4278</td>\n",
       "      <td>61</td>\n",
       "      <td>62</td>\n",
       "      <td>129889</td>\n",
       "      <td>4586</td>\n",
       "      <td>61</td>\n",
       "      <td>4.0</td>\n",
       "      <td>0</td>\n",
       "    </tr>\n",
       "  </tbody>\n",
       "</table>\n",
       "<p>5 rows × 21 columns</p>\n",
       "</div>"
      ],
      "text/plain": [
       "       URL  URL_LENGTH  NUMBER_SPECIAL_CHARACTERS     CHARSET  \\\n",
       "0   M0_109          16                          7  iso-8859-1   \n",
       "1  B0_2314          16                          6       UTF-8   \n",
       "2   B0_911          16                          6    us-ascii   \n",
       "3   B0_113          17                          6  ISO-8859-1   \n",
       "4   B0_403          17                          6       UTF-8   \n",
       "\n",
       "                  SERVER  CONTENT_LENGTH WHOIS_COUNTRY WHOIS_STATEPRO  \\\n",
       "0                  nginx           263.0          None           None   \n",
       "1          Apache/2.4.10         15087.0          None           None   \n",
       "2  Microsoft-HTTPAPI/2.0           324.0          None           None   \n",
       "3                  nginx           162.0            US             AK   \n",
       "4                   None        124140.0            US             TX   \n",
       "\n",
       "      WHOIS_REGDATE WHOIS_UPDATED_DATE  ...  DIST_REMOTE_TCP_PORT  REMOTE_IPS  \\\n",
       "0  10/10/2015 18:21               None  ...                     0           2   \n",
       "1              None               None  ...                     7           4   \n",
       "2              None               None  ...                     0           0   \n",
       "3    7/10/1997 4:00    12/09/2013 0:45  ...                    22           3   \n",
       "4   12/05/1996 0:00    11/04/2017 0:00  ...                     2           5   \n",
       "\n",
       "   APP_BYTES  SOURCE_APP_PACKETS  REMOTE_APP_PACKETS  SOURCE_APP_BYTES  \\\n",
       "0        700                   9                  10              1153   \n",
       "1       1230                  17                  19              1265   \n",
       "2          0                   0                   0                 0   \n",
       "3       3812                  39                  37             18784   \n",
       "4       4278                  61                  62            129889   \n",
       "\n",
       "   REMOTE_APP_BYTES  APP_PACKETS  DNS_QUERY_TIMES  Type  \n",
       "0               832            9              2.0     1  \n",
       "1              1230           17              0.0     0  \n",
       "2                 0            0              0.0     0  \n",
       "3              4380           39              8.0     0  \n",
       "4              4586           61              4.0     0  \n",
       "\n",
       "[5 rows x 21 columns]"
      ]
     },
     "execution_count": 11,
     "metadata": {},
     "output_type": "execute_result"
    }
   ],
   "source": [
    "# Your code here\n",
    "#websites.shape = 21 columns 1782 rows\n",
    "#websites.describe()\n",
    "#websites.dtypes\n",
    "#websites.isna().sum()\n",
    "websites.head()"
   ]
  },
  {
   "cell_type": "code",
   "execution_count": 4,
   "metadata": {},
   "outputs": [
    {
     "ename": "SyntaxError",
     "evalue": "invalid syntax (<ipython-input-4-24c3a325dbde>, line 2)",
     "output_type": "error",
     "traceback": [
      "\u001b[1;36m  File \u001b[1;32m\"<ipython-input-4-24c3a325dbde>\"\u001b[1;36m, line \u001b[1;32m2\u001b[0m\n\u001b[1;33m    shape = 21 columns 1782 rows\u001b[0m\n\u001b[1;37m                     ^\u001b[0m\n\u001b[1;31mSyntaxError\u001b[0m\u001b[1;31m:\u001b[0m invalid syntax\n"
     ]
    }
   ],
   "source": [
    "# Your comment here\n",
    "shape = 21 columns 1782 rows\n",
    "\n",
    "\n",
    "URL                           object\n",
    "URL_LENGTH                     int64\n",
    "NUMBER_SPECIAL_CHARACTERS      int64\n",
    "CHARSET                       object\n",
    "SERVER                        object\n",
    "CONTENT_LENGTH               float64\n",
    "WHOIS_COUNTRY                 object\n",
    "WHOIS_STATEPRO                object\n",
    "WHOIS_REGDATE                 object\n",
    "WHOIS_UPDATED_DATE            object\n",
    "TCP_CONVERSATION_EXCHANGE      int64\n",
    "DIST_REMOTE_TCP_PORT           int64\n",
    "REMOTE_IPS                     int64\n",
    "APP_BYTES                      int64\n",
    "SOURCE_APP_PACKETS             int64\n",
    "REMOTE_APP_PACKETS             int64\n",
    "SOURCE_APP_BYTES               int64\n",
    "REMOTE_APP_BYTES               int64\n",
    "APP_PACKETS                    int64\n",
    "DNS_QUERY_TIMES              float64\n",
    "Type                           int64\n",
    "\n",
    "Nulls in:\n",
    "SERVER                         1\n",
    "CONTENT_LENGTH               812\n",
    "DNS_QUERY_TIMES                1"
   ]
  },
  {
   "cell_type": "markdown",
   "metadata": {},
   "source": [
    "#### Next, evaluate if the columns in this dataset are strongly correlated.\n",
    "\n",
    "If our dataset has strongly correlated columns, we need to choose certain ML algorithms instead of others. We need to evaluate this for our dataset now.\n",
    "\n",
    "Luckily, most of the columns in this dataset are ordinal which makes things a lot easier for us. In the next cells below, evaluate the level of collinearity of the data.\n",
    "\n",
    "We provide some general directions for you to consult in order to complete this step:\n",
    "\n",
    "1. You will create a correlation matrix using the numeric columns in the dataset.\n",
    "\n",
    "1. Create a heatmap using `seaborn` to visualize which columns have high collinearity.\n",
    "\n",
    "1. Comment on which columns you might need to remove due to high collinearity."
   ]
  },
  {
   "cell_type": "code",
   "execution_count": 12,
   "metadata": {},
   "outputs": [
    {
     "data": {
      "text/plain": [
       "[Text(0.5, 0, 'URL_LENGTH'),\n",
       " Text(1.5, 0, 'NUMBER_SPECIAL_CHARACTERS'),\n",
       " Text(2.5, 0, 'CONTENT_LENGTH'),\n",
       " Text(3.5, 0, 'TCP_CONVERSATION_EXCHANGE'),\n",
       " Text(4.5, 0, 'DIST_REMOTE_TCP_PORT'),\n",
       " Text(5.5, 0, 'REMOTE_IPS'),\n",
       " Text(6.5, 0, 'APP_BYTES'),\n",
       " Text(7.5, 0, 'SOURCE_APP_PACKETS'),\n",
       " Text(8.5, 0, 'REMOTE_APP_PACKETS'),\n",
       " Text(9.5, 0, 'SOURCE_APP_BYTES'),\n",
       " Text(10.5, 0, 'REMOTE_APP_BYTES'),\n",
       " Text(11.5, 0, 'APP_PACKETS'),\n",
       " Text(12.5, 0, 'DNS_QUERY_TIMES'),\n",
       " Text(13.5, 0, 'Type')]"
      ]
     },
     "execution_count": 12,
     "metadata": {},
     "output_type": "execute_result"
    },
    {
     "data": {
      "image/png": "[encoded data removed]",
      "text/plain": [
       "<Figure size 432x288 with 2 Axes>"
      ]
     },
     "metadata": {
      "needs_background": "light"
     },
     "output_type": "display_data"
    }
   ],
   "source": [
    "# Your code here\n",
    "import seaborn as sns\n",
    "\n",
    "\n",
    "corr = websites.corr()\n",
    "ax = sns.heatmap(\n",
    "    corr,\n",
    "    vmin=-1, vmax=1, center=0,\n",
    "    cmap=sns.diverging_palette(0, 0, n=5), #n= is just the number of steps\n",
    "    #cmap=sns.diverging_palette(90, 210, n=600), \n",
    "    square=True\n",
    ")\n",
    "ax.set_xticklabels(\n",
    "    ax.get_xticklabels(),\n",
    "    rotation=45,\n",
    "    horizontalalignment='right'\n",
    ")\n",
    "#plt.figtext(0.90,0.5, websites.corr().to_string())"
   ]
  },
  {
   "cell_type": "code",
   "execution_count": 6,
   "metadata": {},
   "outputs": [
    {
     "ename": "SyntaxError",
     "evalue": "invalid syntax (<ipython-input-6-11c22bba8e25>, line 2)",
     "output_type": "error",
     "traceback": [
      "\u001b[1;36m  File \u001b[1;32m\"<ipython-input-6-11c22bba8e25>\"\u001b[1;36m, line \u001b[1;32m2\u001b[0m\n\u001b[1;33m    TCP_CONVERSATION_EXCHANGE Vs.\u001b[0m\n\u001b[1;37m                               ^\u001b[0m\n\u001b[1;31mSyntaxError\u001b[0m\u001b[1;31m:\u001b[0m invalid syntax\n"
     ]
    }
   ],
   "source": [
    "# Your comment here\n",
    "TCP_CONVERSATION_EXCHANGE Vs.\n",
    "'SOURCE_APP_PACKETS'\n",
    "'REMOTE_APP_PACKETS'\n",
    "'SOURCE_APP_BYTES'"
   ]
  },
  {
   "cell_type": "markdown",
   "metadata": {},
   "source": [
    "# Challenge 2 - Remove Column Collinearity.\n",
    "\n",
    "From the heatmap you created, you should have seen at least 3 columns that can be removed due to high collinearity. Remove these columns from the dataset.\n",
    "\n",
    "Note that you should remove as few columns as you can. You don't have to remove all the columns at once. But instead, try removing one column, then produce the heatmap again to determine if additional columns should be removed. As long as the dataset no longer contains columns that are correlated for over 90%, you can stop. Also, keep in mind when two columns have high collinearity, you only need to remove one of them but not both.\n",
    "\n",
    "In the cells below, remove as few columns as you can to eliminate the high collinearity in the dataset. Make sure to comment on your way so that the instructional team can learn about your thinking process which allows them to give feedback. At the end, print the heatmap again."
   ]
  },
  {
   "cell_type": "code",
   "execution_count": 14,
   "metadata": {},
   "outputs": [
    {
     "data": {
      "text/plain": [
       "[Text(0.5, 0, 'URL_LENGTH'),\n",
       " Text(1.5, 0, 'CONTENT_LENGTH'),\n",
       " Text(2.5, 0, 'DIST_REMOTE_TCP_PORT'),\n",
       " Text(3.5, 0, 'REMOTE_IPS'),\n",
       " Text(4.5, 0, 'APP_BYTES'),\n",
       " Text(5.5, 0, 'REMOTE_APP_PACKETS'),\n",
       " Text(6.5, 0, 'DNS_QUERY_TIMES'),\n",
       " Text(7.5, 0, 'Type')]"
      ]
     },
     "execution_count": 14,
     "metadata": {},
     "output_type": "execute_result"
    },
    {
     "data": {
      "image/png": "[encoded data removed]",
      "text/plain": [
       "<Figure size 432x288 with 2 Axes>"
      ]
     },
     "metadata": {
      "needs_background": "light"
     },
     "output_type": "display_data"
    }
   ],
   "source": [
    "# Your code here\n",
    "df_working = websites\n",
    "df_working.drop(['NUMBER_SPECIAL_CHARACTERS'], axis=1)\n",
    "#Added one feature at a tme to ensure high correlation disappeared \n",
    "corr = df_working.drop(['NUMBER_SPECIAL_CHARACTERS','SOURCE_APP_PACKETS','TCP_CONVERSATION_EXCHANGE','SOURCE_APP_BYTES','REMOTE_APP_BYTES','APP_PACKETS'], axis=1).corr()\n",
    "ax = sns.heatmap(\n",
    "    corr,\n",
    "    vmin=-1, vmax=1, center=0,\n",
    "    cmap=sns.diverging_palette(0, 0, n=10), #n= is just the number of steps\n",
    "    #cmap=sns.diverging_palette(90, 210, n=600), \n",
    "    square=True\n",
    ")\n",
    "ax.set_xticklabels(\n",
    "    ax.get_xticklabels(),\n",
    "    rotation=45,\n",
    "    horizontalalignment='right'\n",
    ")"
   ]
  },
  {
   "cell_type": "code",
   "execution_count": null,
   "metadata": {},
   "outputs": [],
   "source": [
    "# Your comment here"
   ]
  },
  {
   "cell_type": "code",
   "execution_count": null,
   "metadata": {},
   "outputs": [],
   "source": [
    "# Print heatmap again\n"
   ]
  },
  {
   "cell_type": "markdown",
   "metadata": {},
   "source": [
    "# Challenge 3 - Handle Missing Values\n",
    "\n",
    "The next step would be handling missing values. **We start by examining the number of missing values in each column, which you will do in the next cell.**"
   ]
  },
  {
   "cell_type": "code",
   "execution_count": 15,
   "metadata": {},
   "outputs": [
    {
     "data": {
      "text/plain": [
       "URL                       0\n",
       "URL_LENGTH                0\n",
       "CHARSET                   0\n",
       "SERVER                    1\n",
       "CONTENT_LENGTH          812\n",
       "WHOIS_COUNTRY             0\n",
       "WHOIS_STATEPRO            0\n",
       "WHOIS_REGDATE             0\n",
       "WHOIS_UPDATED_DATE        0\n",
       "DIST_REMOTE_TCP_PORT      0\n",
       "REMOTE_IPS                0\n",
       "APP_BYTES                 0\n",
       "REMOTE_APP_PACKETS        0\n",
       "DNS_QUERY_TIMES           1\n",
       "Type                      0\n",
       "dtype: int64"
      ]
     },
     "execution_count": 15,
     "metadata": {},
     "output_type": "execute_result"
    }
   ],
   "source": [
    "# Your code here\n",
    "df_working.drop(['NUMBER_SPECIAL_CHARACTERS','SOURCE_APP_PACKETS','TCP_CONVERSATION_EXCHANGE','SOURCE_APP_BYTES','REMOTE_APP_BYTES','APP_PACKETS'], axis=1).isna().sum()"
   ]
  },
  {
   "cell_type": "markdown",
   "metadata": {},
   "source": [
    "If you remember in the previous labs, we drop a column if the column contains a high proportion of missing values. After dropping those problematic columns, we drop the rows with missing values.\n",
    "\n",
    "#### In the cells below, handle the missing values from the dataset. Remember to comment the rationale of your decisions."
   ]
  },
  {
   "cell_type": "code",
   "execution_count": 16,
   "metadata": {},
   "outputs": [
    {
     "name": "stdout",
     "output_type": "stream",
     "text": [
      "<class 'pandas.core.frame.DataFrame'>\n",
      "RangeIndex: 1781 entries, 0 to 1780\n",
      "Data columns (total 14 columns):\n",
      "URL                     1781 non-null object\n",
      "URL_LENGTH              1781 non-null int64\n",
      "CHARSET                 1781 non-null object\n",
      "SERVER                  1780 non-null object\n",
      "WHOIS_COUNTRY           1781 non-null object\n",
      "WHOIS_STATEPRO          1781 non-null object\n",
      "WHOIS_REGDATE           1781 non-null object\n",
      "WHOIS_UPDATED_DATE      1781 non-null object\n",
      "DIST_REMOTE_TCP_PORT    1781 non-null int64\n",
      "REMOTE_IPS              1781 non-null int64\n",
      "APP_BYTES               1781 non-null int64\n",
      "REMOTE_APP_PACKETS      1781 non-null int64\n",
      "DNS_QUERY_TIMES         1780 non-null float64\n",
      "Type                    1781 non-null int64\n",
      "dtypes: float64(1), int64(6), object(7)\n",
      "memory usage: 194.9+ KB\n"
     ]
    }
   ],
   "source": [
    "# Your code here\n",
    "df_clean = df_working.drop(['NUMBER_SPECIAL_CHARACTERS','SOURCE_APP_PACKETS','TCP_CONVERSATION_EXCHANGE','SOURCE_APP_BYTES','REMOTE_APP_BYTES','APP_PACKETS'], axis=1)\n",
    "df_clean.drop(['CONTENT_LENGTH'] , axis =1, inplace=True )\n",
    "df_clean.info()\n",
    "#df_clean.dropna(subset=['SERVER'], inplace=True)"
   ]
  },
  {
   "cell_type": "code",
   "execution_count": null,
   "metadata": {},
   "outputs": [],
   "source": [
    "# Your comment here\n",
    "Dropped content as probably not useful and also dropped row in server with null value\n"
   ]
  },
  {
   "cell_type": "markdown",
   "metadata": {},
   "source": [
    "#### Again, examine the number of missing values in each column. \n",
    "\n",
    "If all cleaned, proceed. Otherwise, go back and do more cleaning."
   ]
  },
  {
   "cell_type": "code",
   "execution_count": 17,
   "metadata": {},
   "outputs": [
    {
     "name": "stdout",
     "output_type": "stream",
     "text": [
      "<class 'pandas.core.frame.DataFrame'>\n",
      "RangeIndex: 1781 entries, 0 to 1780\n",
      "Data columns (total 14 columns):\n",
      "URL                     1781 non-null object\n",
      "URL_LENGTH              1781 non-null int64\n",
      "CHARSET                 1781 non-null object\n",
      "SERVER                  1780 non-null object\n",
      "WHOIS_COUNTRY           1781 non-null object\n",
      "WHOIS_STATEPRO          1781 non-null object\n",
      "WHOIS_REGDATE           1781 non-null object\n",
      "WHOIS_UPDATED_DATE      1781 non-null object\n",
      "DIST_REMOTE_TCP_PORT    1781 non-null int64\n",
      "REMOTE_IPS              1781 non-null int64\n",
      "APP_BYTES               1781 non-null int64\n",
      "REMOTE_APP_PACKETS      1781 non-null int64\n",
      "DNS_QUERY_TIMES         1780 non-null float64\n",
      "Type                    1781 non-null int64\n",
      "dtypes: float64(1), int64(6), object(7)\n",
      "memory usage: 194.9+ KB\n"
     ]
    }
   ],
   "source": [
    "# Examine missing values in each column\n",
    "df_clean.info()"
   ]
  },
  {
   "cell_type": "markdown",
   "metadata": {},
   "source": [
    "# Challenge 4 - Handle `WHOIS_*` Categorical Data"
   ]
  },
  {
   "cell_type": "markdown",
   "metadata": {},
   "source": [
    "There are several categorical columns we need to handle. These columns are:\n",
    "\n",
    "* `URL`\n",
    "* `CHARSET`\n",
    "* `SERVER`\n",
    "* `WHOIS_COUNTRY`\n",
    "* `WHOIS_STATEPRO`\n",
    "* `WHOIS_REGDATE`\n",
    "* `WHOIS_UPDATED_DATE`\n",
    "\n",
    "How to handle string columns is always case by case. Let's start by working on `WHOIS_COUNTRY`. Your steps are:\n",
    "\n",
    "1. List out the unique values of `WHOIS_COUNTRY`.\n",
    "1. Consolidate the country values with consistent country codes. For example, the following values refer to the same country and should use consistent country code:\n",
    "    * `CY` and `Cyprus`\n",
    "    * `US` and `us`\n",
    "    * `SE` and `se`\n",
    "    * `GB`, `United Kingdom`, and `[u'GB'; u'UK']`\n",
    "\n",
    "#### In the cells below, fix the country values as intructed above."
   ]
  },
  {
   "cell_type": "code",
   "execution_count": 18,
   "metadata": {},
   "outputs": [
    {
     "data": {
      "text/plain": [
       "0       None\n",
       "1       None\n",
       "2       None\n",
       "3         US\n",
       "4         US\n",
       "5         SC\n",
       "6         US\n",
       "7         US\n",
       "8       None\n",
       "9       None\n",
       "10        US\n",
       "11        US\n",
       "12        UK\n",
       "13      None\n",
       "14      None\n",
       "15        UK\n",
       "16        RU\n",
       "17      None\n",
       "18      None\n",
       "19        US\n",
       "20        US\n",
       "21        US\n",
       "22      None\n",
       "23        AU\n",
       "24        US\n",
       "25        US\n",
       "26        US\n",
       "27        CA\n",
       "28        US\n",
       "29        PA\n",
       "        ... \n",
       "1751      US\n",
       "1752      ES\n",
       "1753      ES\n",
       "1754      US\n",
       "1755    None\n",
       "1756      ES\n",
       "1757      ES\n",
       "1758      ES\n",
       "1759      US\n",
       "1760      ES\n",
       "1761      ES\n",
       "1762      US\n",
       "1763      CA\n",
       "1764      ES\n",
       "1765      ES\n",
       "1766      US\n",
       "1767      ES\n",
       "1768      US\n",
       "1769    None\n",
       "1770      BS\n",
       "1771      ES\n",
       "1772      ES\n",
       "1773      ES\n",
       "1774      US\n",
       "1775      ES\n",
       "1776      ES\n",
       "1777      ES\n",
       "1778      US\n",
       "1779      US\n",
       "1780      US\n",
       "Name: WHOIS_COUNTRY, Length: 1781, dtype: object"
      ]
     },
     "execution_count": 18,
     "metadata": {},
     "output_type": "execute_result"
    }
   ],
   "source": [
    "#OPTION 1\n",
    "df_clean.WHOIS_COUNTRY.replace({'Cyprus':'CY','us':'US','se':'SE','United Kingdom':'UK',\"[u'GB'; u'UK']\":'UK','GB':'UK','ru':'RU'})\n"
   ]
  },
  {
   "cell_type": "code",
   "execution_count": 26,
   "metadata": {},
   "outputs": [
    {
     "data": {
      "text/plain": [
       "US    1106\n",
       "CA      84\n",
       "ES      63\n",
       "AU      35\n",
       "UK      35\n",
       "PA      21\n",
       "JP      11\n",
       "CN      10\n",
       "IN      10\n",
       "FR       9\n",
       "CZ       9\n",
       "RU       6\n",
       "NL       6\n",
       "CH       6\n",
       "KR       5\n",
       "AT       4\n",
       "PH       4\n",
       "SE       4\n",
       "BS       4\n",
       "TR       3\n",
       "BE       3\n",
       "DE       3\n",
       "KY       3\n",
       "SC       3\n",
       "HK       3\n",
       "UY       2\n",
       "SI       2\n",
       "IL       2\n",
       "UA       2\n",
       "BR       2\n",
       "CY       2\n",
       "NO       2\n",
       "KG       2\n",
       "IT       1\n",
       "LU       1\n",
       "UG       1\n",
       "AE       1\n",
       "TH       1\n",
       "BY       1\n",
       "IE       1\n",
       "LV       1\n",
       "PK       1\n",
       "Name: WHOIS_COUNTRY_cl, dtype: int64"
      ]
     },
     "execution_count": 26,
     "metadata": {},
     "output_type": "execute_result"
    }
   ],
   "source": [
    "# Your code here\n",
    "#OPTION 2\n",
    "df_clean.WHOIS_COUNTRY.unique()\n",
    "\n",
    "def cleancountry(row):\n",
    "    if row['WHOIS_COUNTRY'] == 'Cyprus':\n",
    "        return 'CY' \n",
    "    elif row['WHOIS_COUNTRY'] == 'us':\n",
    "        return 'US' \n",
    "    elif row['WHOIS_COUNTRY'] == 'se':\n",
    "        return 'SE' \n",
    "    elif row['WHOIS_COUNTRY'] == 'United Kingdom':\n",
    "        return 'UK' \n",
    "    elif row['WHOIS_COUNTRY'] == \"[u'GB'; u'UK']\":\n",
    "        return 'UK' \n",
    "    elif row['WHOIS_COUNTRY'] == 'GB':\n",
    "        return 'UK' \n",
    "    elif row['WHOIS_COUNTRY'] == 'ru':\n",
    "        return 'RU' \n",
    "    else:\n",
    "        return row['WHOIS_COUNTRY']\n",
    "    \n",
    "df_clean['WHOIS_COUNTRY_cl'] = df_clean.apply(cleancountry ,axis=1)\n",
    "\n",
    "df_clean.WHOIS_COUNTRY_cl.unique()\n",
    "df_clean.WHOIS_COUNTRY_cl.value_counts()\n",
    "#there are 306 'none' countries. Will drop them\n",
    "dfx = df_clean[df_clean.WHOIS_COUNTRY_cl != 'None']\n",
    "dfx.WHOIS_COUNTRY_cl.value_counts()"
   ]
  },
  {
   "cell_type": "code",
   "execution_count": 27,
   "metadata": {},
   "outputs": [
    {
     "data": {
      "text/plain": [
       "US    1106\n",
       "CA      84\n",
       "ES      63\n",
       "AU      35\n",
       "UK      35\n",
       "PA      21\n",
       "JP      11\n",
       "CN      10\n",
       "IN      10\n",
       "FR       9\n",
       "CZ       9\n",
       "RU       6\n",
       "NL       6\n",
       "CH       6\n",
       "KR       5\n",
       "AT       4\n",
       "PH       4\n",
       "SE       4\n",
       "BS       4\n",
       "TR       3\n",
       "BE       3\n",
       "DE       3\n",
       "KY       3\n",
       "SC       3\n",
       "HK       3\n",
       "UY       2\n",
       "SI       2\n",
       "IL       2\n",
       "UA       2\n",
       "BR       2\n",
       "CY       2\n",
       "NO       2\n",
       "KG       2\n",
       "IT       1\n",
       "LU       1\n",
       "UG       1\n",
       "AE       1\n",
       "TH       1\n",
       "BY       1\n",
       "IE       1\n",
       "LV       1\n",
       "PK       1\n",
       "Name: WHOIS_COUNTRY_cl, dtype: int64"
      ]
     },
     "execution_count": 27,
     "metadata": {},
     "output_type": "execute_result"
    }
   ],
   "source": [
    "#df_clean['WHOIS_COUNTRY_cl'] = df_clean.apply(cleancountry ,axis=1)\n",
    "\n",
    "#df_clean.WHOIS_COUNTRY_cl.unique()\n",
    "#df_clean.WHOIS_COUNTRY_cl.value_counts()\n",
    "#there are 306 'none' countries. Will drop them\n",
    "dfx = df_clean[df_clean.WHOIS_COUNTRY != 'None']\n",
    "dfx.WHOIS_COUNTRY_cl.value_counts()"
   ]
  },
  {
   "cell_type": "markdown",
   "metadata": {},
   "source": [
    "Since we have fixed the country values, can we convert this column to ordinal now?\n",
    "\n",
    "Not yet. If you reflect on the previous labs how we handle categorical columns, you probably remember we ended up dropping a lot of those columns because there are too many unique values. Too many unique values in a column is not desirable in machine learning because it makes prediction inaccurate. But there are workarounds under certain conditions. One of the fixable conditions is:\n",
    "\n",
    "#### If a limited number of values account for the majority of data, we can retain these top values and re-label all other rare values.\n",
    "\n",
    "The `WHOIS_COUNTRY` column happens to be this case. You can verify it by print a bar chart of the `value_counts` in the next cell to verify:"
   ]
  },
  {
   "cell_type": "code",
   "execution_count": 28,
   "metadata": {},
   "outputs": [
    {
     "data": {
      "text/plain": [
       "Index(['US', 'CA', 'ES', 'AU', 'UK', 'PA', 'JP', 'CN', 'IN', 'FR', 'CZ', 'RU',\n",
       "       'NL', 'CH', 'KR', 'AT', 'PH', 'SE', 'BS', 'TR', 'BE', 'DE', 'KY', 'SC',\n",
       "       'HK', 'UY', 'SI', 'IL', 'UA', 'BR', 'CY', 'NO', 'KG', 'IT', 'LU', 'UG',\n",
       "       'AE', 'TH', 'BY', 'IE', 'LV', 'PK'],\n",
       "      dtype='object')"
      ]
     },
     "execution_count": 28,
     "metadata": {},
     "output_type": "execute_result"
    }
   ],
   "source": [
    "# Your code here\n",
    "dfx.WHOIS_COUNTRY_cl.value_counts().index\n",
    "\n",
    "#dfx['WHOIS_COUNTRY_cl'].apply(pd.value_counts).plot.pie(subplots=True)"
   ]
  },
  {
   "cell_type": "code",
   "execution_count": 29,
   "metadata": {},
   "outputs": [
    {
     "data": {
      "image/png": "[encoded data removed]",
      "text/plain": [
       "<Figure size 432x288 with 1 Axes>"
      ]
     },
     "metadata": {},
     "output_type": "display_data"
    }
   ],
   "source": [
    "import matplotlib.pyplot as plt\n",
    "labels = list(dfx.WHOIS_COUNTRY_cl.value_counts().index[0:5]) + [''] * (len(dfx.WHOIS_COUNTRY_cl.value_counts())-5)\n",
    "\n",
    "plt.pie( dfx.WHOIS_COUNTRY_cl.value_counts(), explode=([.1] * len(dfx.WHOIS_COUNTRY_cl.value_counts())) , labels =labels )\n",
    "plt.show()\n",
    "    "
   ]
  },
  {
   "cell_type": "markdown",
   "metadata": {},
   "source": [
    "#### After verifying, now let's keep the top 10 values of the column and re-label other columns with `OTHER`."
   ]
  },
  {
   "cell_type": "code",
   "execution_count": 30,
   "metadata": {
    "scrolled": true
   },
   "outputs": [
    {
     "name": "stderr",
     "output_type": "stream",
     "text": [
      "C:\\Users\\ellio\\Anaconda3\\lib\\site-packages\\ipykernel_launcher.py:2: SettingWithCopyWarning: \n",
      "A value is trying to be set on a copy of a slice from a DataFrame.\n",
      "Try using .loc[row_indexer,col_indexer] = value instead\n",
      "\n",
      "See the caveats in the documentation: http://pandas.pydata.org/pandas-docs/stable/indexing.html#indexing-view-versus-copy\n",
      "  \n"
     ]
    },
    {
     "data": {
      "text/plain": [
       "US       1106\n",
       "OTHER      91\n",
       "CA         84\n",
       "ES         63\n",
       "AU         35\n",
       "UK         35\n",
       "PA         21\n",
       "JP         11\n",
       "CN         10\n",
       "IN         10\n",
       "FR          9\n",
       "Name: cuntry, dtype: int64"
      ]
     },
     "execution_count": 30,
     "metadata": {},
     "output_type": "execute_result"
    }
   ],
   "source": [
    "# Your code here\n",
    "dfx['cuntry'] = dfx['WHOIS_COUNTRY_cl'].apply(lambda x: 'OTHER' if x not in ['US','CA','ES','AU','UK','PA','JP','IN','CN','FR'] else x)\n",
    "dfx['cuntry'].value_counts()\n"
   ]
  },
  {
   "cell_type": "markdown",
   "metadata": {},
   "source": [
    "Now since `WHOIS_COUNTRY` has been re-labelled, we don't need `WHOIS_STATEPRO` any more because the values of the states or provinces may not be relevant any more. We'll drop this column.\n",
    "\n",
    "In addition, we will also drop `WHOIS_REGDATE` and `WHOIS_UPDATED_DATE`. These are the registration and update dates of the website domains. Not of our concerns.\n",
    "\n",
    "#### In the next cell, drop `['WHOIS_STATEPRO', 'WHOIS_REGDATE', 'WHOIS_UPDATED_DATE']`."
   ]
  },
  {
   "cell_type": "code",
   "execution_count": 60,
   "metadata": {},
   "outputs": [],
   "source": [
    "# Your code here\n",
    "dfx2 = dfx.drop(['WHOIS_STATEPRO', 'WHOIS_REGDATE', 'WHOIS_UPDATED_DATE','WHOIS_COUNTRY_cl','WHOIS_COUNTRY'], axis=1)"
   ]
  },
  {
   "cell_type": "markdown",
   "metadata": {},
   "source": [
    "# Challenge 5 - Handle Remaining Categorical Data & Convert to Ordinal\n",
    "\n",
    "Now print the `dtypes` of the data again. Besides `WHOIS_COUNTRY` which we already fixed, there should be 3 categorical columns left: `URL`, `CHARSET`, and `SERVER`."
   ]
  },
  {
   "cell_type": "code",
   "execution_count": 61,
   "metadata": {},
   "outputs": [
    {
     "data": {
      "text/plain": [
       "URL                      object\n",
       "URL_LENGTH                int64\n",
       "CHARSET                  object\n",
       "SERVER                   object\n",
       "DIST_REMOTE_TCP_PORT      int64\n",
       "REMOTE_IPS                int64\n",
       "APP_BYTES                 int64\n",
       "REMOTE_APP_PACKETS        int64\n",
       "DNS_QUERY_TIMES         float64\n",
       "Type                      int64\n",
       "cuntry                   object\n",
       "dtype: object"
      ]
     },
     "execution_count": 61,
     "metadata": {},
     "output_type": "execute_result"
    }
   ],
   "source": [
    "# Your code here\n",
    "dfx2.dtypes"
   ]
  },
  {
   "cell_type": "markdown",
   "metadata": {},
   "source": [
    "#### `URL` is easy. We'll simply drop it because it has too many unique values that there's no way for us to consolidate."
   ]
  },
  {
   "cell_type": "code",
   "execution_count": 62,
   "metadata": {},
   "outputs": [],
   "source": [
    "# Your code here\n",
    "dfx2 = dfx2.drop(['URL'], axis=1)"
   ]
  },
  {
   "cell_type": "markdown",
   "metadata": {},
   "source": [
    "#### Print the unique value counts of `CHARSET`. You see there are only a few unique values. So we can keep it as it is."
   ]
  },
  {
   "cell_type": "code",
   "execution_count": 63,
   "metadata": {},
   "outputs": [
    {
     "data": {
      "text/plain": [
       "UTF-8           565\n",
       "ISO-8859-1      364\n",
       "utf-8           322\n",
       "us-ascii        121\n",
       "iso-8859-1       94\n",
       "None              7\n",
       "windows-1251      1\n",
       "windows-1252      1\n",
       "Name: CHARSET, dtype: int64"
      ]
     },
     "execution_count": 63,
     "metadata": {},
     "output_type": "execute_result"
    }
   ],
   "source": [
    "# Your code here\n",
    "dfx2.CHARSET.value_counts()"
   ]
  },
  {
   "cell_type": "markdown",
   "metadata": {},
   "source": [
    "`SERVER` is a little more complicated. Print its unique values and think about how you can consolidate those values.\n",
    "\n",
    "#### Before you think of your own solution, don't read the instructions that come next."
   ]
  },
  {
   "cell_type": "code",
   "execution_count": 64,
   "metadata": {},
   "outputs": [
    {
     "data": {
      "text/plain": [
       "Apache                                                                                                                324\n",
       "None                                                                                                                  154\n",
       "nginx                                                                                                                 147\n",
       "Microsoft-HTTPAPI/2.0                                                                                                  86\n",
       "cloudflare-nginx                                                                                                       81\n",
       "GSE                                                                                                                    49\n",
       "Server                                                                                                                 48\n",
       "Microsoft-IIS/7.5                                                                                                      43\n",
       "YouTubeFrontEnd                                                                                                        41\n",
       "nginx/1.12.0                                                                                                           31\n",
       "ATS                                                                                                                    30\n",
       "Apache/2.2.15 (CentOS)                                                                                                 23\n",
       "Apache-Coyote/1.1                                                                                                      16\n",
       "Microsoft-IIS/6.0                                                                                                      14\n",
       "Apache/2                                                                                                               13\n",
       "Apache/2.2.14 (FreeBSD) mod_ssl/2.2.14 OpenSSL/0.9.8y DAV/2 PHP/5.2.12 with Suhosin-Patch                              13\n",
       "Apache/2.2.22 (Debian)                                                                                                 12\n",
       "Microsoft-IIS/8.5                                                                                                      11\n",
       "Apache/2.4.7 (Ubuntu)                                                                                                  10\n",
       "nginx/1.8.1                                                                                                             8\n",
       "nginx/1.4.6 (Ubuntu)                                                                                                    8\n",
       "Varnish                                                                                                                 7\n",
       "Apache/2.4.23 (Unix) OpenSSL/1.0.1e-fips mod_bwlimited/1.4                                                              5\n",
       "nginx/1.8.0                                                                                                             5\n",
       "LiteSpeed                                                                                                               5\n",
       "nginx/1.10.3                                                                                                            5\n",
       "Apache/2.4.25                                                                                                           5\n",
       "nginx/1.10.1 + Phusion Passenger 5.0.30                                                                                 4\n",
       "Apache/2.4.25 (Amazon) OpenSSL/1.0.1k-fips                                                                              4\n",
       "mw2239.codfw.wmnet                                                                                                      4\n",
       "                                                                                                                     ... \n",
       "nginx/1.6.3                                                                                                             1\n",
       "Apache/2.2.21 (Unix) mod_ssl/2.2.21 OpenSSL/0.9.8e-fips-rhel5 PHP/5.3.10                                                1\n",
       "Apache/2.4.25 (Amazon) PHP/7.0.14                                                                                       1\n",
       "nginx/0.8.35                                                                                                            1\n",
       "nxfps                                                                                                                   1\n",
       "Apache/2.4.18 (Unix) OpenSSL/1.0.2e Communique/4.1.10                                                                   1\n",
       "Apache/2.4.6 (Unix) mod_jk/1.2.37                                                                                       1\n",
       "Apache/2.4.23 (Unix)                                                                                                    1\n",
       "mw2198.codfw.wmnet                                                                                                      1\n",
       "Virtuoso/07.20.3217 (Linux) i686-generic-linux-glibc212-64  VDB                                                         1\n",
       "marrakesh 1.12.2                                                                                                        1\n",
       "mw2187.codfw.wmnet                                                                                                      1\n",
       "Apache/2.0.63 (Unix) mod_ssl/2.0.63 OpenSSL/0.9.8e-fips-rhel5 mod_auth_passthrough/2.1 mod_bwlimited/1.4 PHP/5.3.6      1\n",
       "IdeaWebServer/v0.80                                                                                                     1\n",
       "Apache/2.2.11 (Unix) PHP/5.2.6                                                                                          1\n",
       "Apache/2.2.10 (Linux/SUSE)                                                                                              1\n",
       "mw2182.codfw.wmnet                                                                                                      1\n",
       "Microsoft-IIS/8.0                                                                                                       1\n",
       "mw2236.codfw.wmnet                                                                                                      1\n",
       "Apache/1.3.37 (Unix) mod_perl/1.29 mod_ssl/2.8.28 OpenSSL/0.9.7e-p1                                                     1\n",
       "mw2104.codfw.wmnet                                                                                                      1\n",
       "Apache/2.2.22 (Debian) mod_python/3.3.1 Python/2.7.3 mod_ssl/2.2.22 OpenSSL/1.0.1t                                      1\n",
       "mw2103.codfw.wmnet                                                                                                      1\n",
       "SSWS                                                                                                                    1\n",
       "Apache/2.2.16 (Debian)                                                                                                  1\n",
       "Apache/2.4.6 (CentOS) OpenSSL/1.0.1e-fips                                                                               1\n",
       "mw2110.codfw.wmnet                                                                                                      1\n",
       "Apache/1.3.34 (Unix) PHP/4.4.4                                                                                          1\n",
       "mw2225.codfw.wmnet                                                                                                      1\n",
       "Apache/2.4.17 (Unix) OpenSSL/1.0.1e-fips PHP/5.6.19                                                                     1\n",
       "Name: SERVER, Length: 208, dtype: int64"
      ]
     },
     "execution_count": 64,
     "metadata": {},
     "output_type": "execute_result"
    }
   ],
   "source": [
    "# Your code here\n",
    "dfx2.SERVER.value_counts()"
   ]
  },
  {
   "cell_type": "markdown",
   "metadata": {},
   "source": [
    "![Think Hard](../images/think-hard.jpg)"
   ]
  },
  {
   "cell_type": "code",
   "execution_count": null,
   "metadata": {},
   "outputs": [],
   "source": [
    "# Your comment here\n"
   ]
  },
  {
   "cell_type": "markdown",
   "metadata": {},
   "source": [
    "Although there are so many unique values in the `SERVER` column, there are actually only 3 main server types: `Microsoft`, `Apache`, and `nginx`. Just check if each `SERVER` value contains any of those server types and re-label them. For `SERVER` values that don't contain any of those substrings, label with `Other`.\n",
    "\n",
    "At the end, your `SERVER` column should only contain 4 unique values: `Microsoft`, `Apache`, `nginx`, and `Other`."
   ]
  },
  {
   "cell_type": "code",
   "execution_count": 66,
   "metadata": {},
   "outputs": [
    {
     "data": {
      "text/plain": [
       "3                    nginx\n",
       "4                     None\n",
       "5                    nginx\n",
       "6                   Apache\n",
       "7                Microsoft\n",
       "10                  Apache\n",
       "11               Microsoft\n",
       "12                    None\n",
       "15                  Apache\n",
       "16                   nginx\n",
       "19               Microsoft\n",
       "20      openresty/1.11.2.1\n",
       "21                   nginx\n",
       "23                  Apache\n",
       "24            nginx/1.12.0\n",
       "25                  Apache\n",
       "26            nginx/1.12.0\n",
       "27                   nginx\n",
       "28                  Apache\n",
       "29                  Apache\n",
       "30               Microsoft\n",
       "33                    None\n",
       "35                    None\n",
       "36                    None\n",
       "37                    None\n",
       "38        cloudflare-nginx\n",
       "39            nginx/1.12.0\n",
       "40                  Apache\n",
       "41                  Apache\n",
       "44                  Apache\n",
       "               ...        \n",
       "1749                   ATS\n",
       "1750             openresty\n",
       "1751                Apache\n",
       "1752                Apache\n",
       "1753                Apache\n",
       "1754           AkamaiGHost\n",
       "1756                Apache\n",
       "1757                Apache\n",
       "1758                Apache\n",
       "1759                  None\n",
       "1760                Apache\n",
       "1761                Apache\n",
       "1762                 nginx\n",
       "1763                  None\n",
       "1764                Apache\n",
       "1765                Apache\n",
       "1766                  None\n",
       "1767                Apache\n",
       "1768                  None\n",
       "1770      cloudflare-nginx\n",
       "1771                Apache\n",
       "1772                Apache\n",
       "1773                Apache\n",
       "1774             Microsoft\n",
       "1775                Apache\n",
       "1776                Apache\n",
       "1777                Apache\n",
       "1778                Apache\n",
       "1779      cloudflare-nginx\n",
       "1780             Microsoft\n",
       "Name: SERVER, Length: 1475, dtype: object"
      ]
     },
     "execution_count": 66,
     "metadata": {},
     "output_type": "execute_result"
    }
   ],
   "source": [
    "# Your code here\n",
    "replacements = {\n",
    "   'SERVER': {\n",
    "      r'.*Microsoft.+': 'Microsoft',\n",
    "      r'.*Apache.+': 'Apache',\n",
    "    r'.+nginx.+':'nginx'}}\n",
    "dfx2 = dfx2.replace(replacements, regex = True)\n",
    "dfx2.SERVER\n",
    "\n",
    "#dfx2['SERVER'] = dfx2['SERVER'].apply(lambda x: 'Other' if x not in ['Microsoft', 'Apache', 'nginx'] else x)\n"
   ]
  },
  {
   "cell_type": "code",
   "execution_count": 67,
   "metadata": {},
   "outputs": [
    {
     "data": {
      "text/plain": [
       "3           nginx\n",
       "4           Other\n",
       "5           nginx\n",
       "6          Apache\n",
       "7       Microsoft\n",
       "10         Apache\n",
       "11      Microsoft\n",
       "12          Other\n",
       "15         Apache\n",
       "16          nginx\n",
       "19      Microsoft\n",
       "20          Other\n",
       "21          nginx\n",
       "23         Apache\n",
       "24          Other\n",
       "25         Apache\n",
       "26          Other\n",
       "27          nginx\n",
       "28         Apache\n",
       "29         Apache\n",
       "30      Microsoft\n",
       "33          Other\n",
       "35          Other\n",
       "36          Other\n",
       "37          Other\n",
       "38          Other\n",
       "39          Other\n",
       "40         Apache\n",
       "41         Apache\n",
       "44         Apache\n",
       "          ...    \n",
       "1749        Other\n",
       "1750        Other\n",
       "1751       Apache\n",
       "1752       Apache\n",
       "1753       Apache\n",
       "1754        Other\n",
       "1756       Apache\n",
       "1757       Apache\n",
       "1758       Apache\n",
       "1759        Other\n",
       "1760       Apache\n",
       "1761       Apache\n",
       "1762        nginx\n",
       "1763        Other\n",
       "1764       Apache\n",
       "1765       Apache\n",
       "1766        Other\n",
       "1767       Apache\n",
       "1768        Other\n",
       "1770        Other\n",
       "1771       Apache\n",
       "1772       Apache\n",
       "1773       Apache\n",
       "1774    Microsoft\n",
       "1775       Apache\n",
       "1776       Apache\n",
       "1777       Apache\n",
       "1778       Apache\n",
       "1779        Other\n",
       "1780    Microsoft\n",
       "Name: SERVER, Length: 1475, dtype: object"
      ]
     },
     "execution_count": 67,
     "metadata": {},
     "output_type": "execute_result"
    }
   ],
   "source": [
    "dfx2['SERVER'] = dfx2['SERVER'].apply(lambda x: 'Other' if x not in ['Microsoft', 'Apache', 'nginx'] else x)\n",
    "dfx2['SERVER']"
   ]
  },
  {
   "cell_type": "code",
   "execution_count": null,
   "metadata": {},
   "outputs": [],
   "source": []
  },
  {
   "cell_type": "code",
   "execution_count": 68,
   "metadata": {
    "scrolled": false
   },
   "outputs": [
    {
     "data": {
      "text/plain": [
       "Other        650\n",
       "Apache       520\n",
       "Microsoft    158\n",
       "nginx        147\n",
       "Name: SERVER, dtype: int64"
      ]
     },
     "execution_count": 68,
     "metadata": {},
     "output_type": "execute_result"
    }
   ],
   "source": [
    "# Count `SERVER` value counts here\n",
    "dfx2.SERVER.value_counts()"
   ]
  },
  {
   "cell_type": "markdown",
   "metadata": {},
   "source": [
    "OK, all our categorical data are fixed now. **Let's convert them to ordinal data using Pandas' `get_dummies` function ([documentation](https://pandas.pydata.org/pandas-docs/stable/generated/pandas.get_dummies.html)).** Make sure you drop the categorical columns by passing `drop_first=True` to `get_dummies` as we don't need them any more. **Also, assign the data with dummy values to a new variable `website_dummy`.**"
   ]
  },
  {
   "cell_type": "code",
   "execution_count": 69,
   "metadata": {},
   "outputs": [],
   "source": [
    "# Your code here\n",
    "#dfx2.drop(['SERVER2'], axis=1, inplace=True)\n",
    "website_dummy = pd.get_dummies(dfx2, drop_first=True)"
   ]
  },
  {
   "cell_type": "markdown",
   "metadata": {},
   "source": [
    "Now, inspect `website_dummy` to make sure the data and types are intended - there shouldn't be any categorical columns at this point."
   ]
  },
  {
   "cell_type": "code",
   "execution_count": 70,
   "metadata": {},
   "outputs": [
    {
     "name": "stdout",
     "output_type": "stream",
     "text": [
      "<class 'pandas.core.frame.DataFrame'>\n",
      "Int64Index: 1475 entries, 3 to 1780\n",
      "Data columns (total 27 columns):\n",
      "URL_LENGTH              1475 non-null int64\n",
      "DIST_REMOTE_TCP_PORT    1475 non-null int64\n",
      "REMOTE_IPS              1475 non-null int64\n",
      "APP_BYTES               1475 non-null int64\n",
      "REMOTE_APP_PACKETS      1475 non-null int64\n",
      "DNS_QUERY_TIMES         1474 non-null float64\n",
      "Type                    1475 non-null int64\n",
      "CHARSET_None            1475 non-null uint8\n",
      "CHARSET_UTF-8           1475 non-null uint8\n",
      "CHARSET_iso-8859-1      1475 non-null uint8\n",
      "CHARSET_us-ascii        1475 non-null uint8\n",
      "CHARSET_utf-8           1475 non-null uint8\n",
      "CHARSET_windows-1251    1475 non-null uint8\n",
      "CHARSET_windows-1252    1475 non-null uint8\n",
      "SERVER_Microsoft        1475 non-null uint8\n",
      "SERVER_Other            1475 non-null uint8\n",
      "SERVER_nginx            1475 non-null uint8\n",
      "cuntry_CA               1475 non-null uint8\n",
      "cuntry_CN               1475 non-null uint8\n",
      "cuntry_ES               1475 non-null uint8\n",
      "cuntry_FR               1475 non-null uint8\n",
      "cuntry_IN               1475 non-null uint8\n",
      "cuntry_JP               1475 non-null uint8\n",
      "cuntry_OTHER            1475 non-null uint8\n",
      "cuntry_PA               1475 non-null uint8\n",
      "cuntry_UK               1475 non-null uint8\n",
      "cuntry_US               1475 non-null uint8\n",
      "dtypes: float64(1), int64(6), uint8(20)\n",
      "memory usage: 121.0 KB\n"
     ]
    }
   ],
   "source": [
    "# Your code here\n",
    "website_dummy.info()"
   ]
  },
  {
   "cell_type": "markdown",
   "metadata": {},
   "source": [
    "# Challenge 6 - Modeling, Prediction, and Evaluation\n",
    "\n",
    "We'll start off this section by splitting the data to train and test. **Name your 4 variables `X_train`, `X_test`, `y_train`, and `y_test`. Select 80% of the data for training and 20% for testing.**"
   ]
  },
  {
   "cell_type": "code",
   "execution_count": 78,
   "metadata": {},
   "outputs": [],
   "source": [
    "website_dummy = website_dummy.dropna()"
   ]
  },
  {
   "cell_type": "code",
   "execution_count": 71,
   "metadata": {},
   "outputs": [
    {
     "data": {
      "text/html": [
       "<div>\n",
       "<style scoped>\n",
       "    .dataframe tbody tr th:only-of-type {\n",
       "        vertical-align: middle;\n",
       "    }\n",
       "\n",
       "    .dataframe tbody tr th {\n",
       "        vertical-align: top;\n",
       "    }\n",
       "\n",
       "    .dataframe thead th {\n",
       "        text-align: right;\n",
       "    }\n",
       "</style>\n",
       "<table border=\"1\" class=\"dataframe\">\n",
       "  <thead>\n",
       "    <tr style=\"text-align: right;\">\n",
       "      <th></th>\n",
       "      <th>URL_LENGTH</th>\n",
       "      <th>DIST_REMOTE_TCP_PORT</th>\n",
       "      <th>REMOTE_IPS</th>\n",
       "      <th>APP_BYTES</th>\n",
       "      <th>REMOTE_APP_PACKETS</th>\n",
       "      <th>DNS_QUERY_TIMES</th>\n",
       "      <th>Type</th>\n",
       "      <th>CHARSET_None</th>\n",
       "      <th>CHARSET_UTF-8</th>\n",
       "      <th>CHARSET_iso-8859-1</th>\n",
       "      <th>...</th>\n",
       "      <th>cuntry_CA</th>\n",
       "      <th>cuntry_CN</th>\n",
       "      <th>cuntry_ES</th>\n",
       "      <th>cuntry_FR</th>\n",
       "      <th>cuntry_IN</th>\n",
       "      <th>cuntry_JP</th>\n",
       "      <th>cuntry_OTHER</th>\n",
       "      <th>cuntry_PA</th>\n",
       "      <th>cuntry_UK</th>\n",
       "      <th>cuntry_US</th>\n",
       "    </tr>\n",
       "  </thead>\n",
       "  <tbody>\n",
       "    <tr>\n",
       "      <th>3</th>\n",
       "      <td>17</td>\n",
       "      <td>22</td>\n",
       "      <td>3</td>\n",
       "      <td>3812</td>\n",
       "      <td>37</td>\n",
       "      <td>8.0</td>\n",
       "      <td>0</td>\n",
       "      <td>0</td>\n",
       "      <td>0</td>\n",
       "      <td>0</td>\n",
       "      <td>...</td>\n",
       "      <td>0</td>\n",
       "      <td>0</td>\n",
       "      <td>0</td>\n",
       "      <td>0</td>\n",
       "      <td>0</td>\n",
       "      <td>0</td>\n",
       "      <td>0</td>\n",
       "      <td>0</td>\n",
       "      <td>0</td>\n",
       "      <td>1</td>\n",
       "    </tr>\n",
       "    <tr>\n",
       "      <th>4</th>\n",
       "      <td>17</td>\n",
       "      <td>2</td>\n",
       "      <td>5</td>\n",
       "      <td>4278</td>\n",
       "      <td>62</td>\n",
       "      <td>4.0</td>\n",
       "      <td>0</td>\n",
       "      <td>0</td>\n",
       "      <td>1</td>\n",
       "      <td>0</td>\n",
       "      <td>...</td>\n",
       "      <td>0</td>\n",
       "      <td>0</td>\n",
       "      <td>0</td>\n",
       "      <td>0</td>\n",
       "      <td>0</td>\n",
       "      <td>0</td>\n",
       "      <td>0</td>\n",
       "      <td>0</td>\n",
       "      <td>0</td>\n",
       "      <td>1</td>\n",
       "    </tr>\n",
       "    <tr>\n",
       "      <th>5</th>\n",
       "      <td>18</td>\n",
       "      <td>6</td>\n",
       "      <td>9</td>\n",
       "      <td>894</td>\n",
       "      <td>13</td>\n",
       "      <td>0.0</td>\n",
       "      <td>0</td>\n",
       "      <td>0</td>\n",
       "      <td>1</td>\n",
       "      <td>0</td>\n",
       "      <td>...</td>\n",
       "      <td>0</td>\n",
       "      <td>0</td>\n",
       "      <td>0</td>\n",
       "      <td>0</td>\n",
       "      <td>0</td>\n",
       "      <td>0</td>\n",
       "      <td>1</td>\n",
       "      <td>0</td>\n",
       "      <td>0</td>\n",
       "      <td>0</td>\n",
       "    </tr>\n",
       "    <tr>\n",
       "      <th>6</th>\n",
       "      <td>18</td>\n",
       "      <td>0</td>\n",
       "      <td>3</td>\n",
       "      <td>1189</td>\n",
       "      <td>13</td>\n",
       "      <td>2.0</td>\n",
       "      <td>0</td>\n",
       "      <td>0</td>\n",
       "      <td>0</td>\n",
       "      <td>1</td>\n",
       "      <td>...</td>\n",
       "      <td>0</td>\n",
       "      <td>0</td>\n",
       "      <td>0</td>\n",
       "      <td>0</td>\n",
       "      <td>0</td>\n",
       "      <td>0</td>\n",
       "      <td>0</td>\n",
       "      <td>0</td>\n",
       "      <td>0</td>\n",
       "      <td>1</td>\n",
       "    </tr>\n",
       "    <tr>\n",
       "      <th>7</th>\n",
       "      <td>19</td>\n",
       "      <td>0</td>\n",
       "      <td>0</td>\n",
       "      <td>0</td>\n",
       "      <td>0</td>\n",
       "      <td>0.0</td>\n",
       "      <td>0</td>\n",
       "      <td>0</td>\n",
       "      <td>0</td>\n",
       "      <td>0</td>\n",
       "      <td>...</td>\n",
       "      <td>0</td>\n",
       "      <td>0</td>\n",
       "      <td>0</td>\n",
       "      <td>0</td>\n",
       "      <td>0</td>\n",
       "      <td>0</td>\n",
       "      <td>0</td>\n",
       "      <td>0</td>\n",
       "      <td>0</td>\n",
       "      <td>1</td>\n",
       "    </tr>\n",
       "  </tbody>\n",
       "</table>\n",
       "<p>5 rows × 27 columns</p>\n",
       "</div>"
      ],
      "text/plain": [
       "   URL_LENGTH  DIST_REMOTE_TCP_PORT  REMOTE_IPS  APP_BYTES  \\\n",
       "3          17                    22           3       3812   \n",
       "4          17                     2           5       4278   \n",
       "5          18                     6           9        894   \n",
       "6          18                     0           3       1189   \n",
       "7          19                     0           0          0   \n",
       "\n",
       "   REMOTE_APP_PACKETS  DNS_QUERY_TIMES  Type  CHARSET_None  CHARSET_UTF-8  \\\n",
       "3                  37              8.0     0             0              0   \n",
       "4                  62              4.0     0             0              1   \n",
       "5                  13              0.0     0             0              1   \n",
       "6                  13              2.0     0             0              0   \n",
       "7                   0              0.0     0             0              0   \n",
       "\n",
       "   CHARSET_iso-8859-1  ...  cuntry_CA  cuntry_CN  cuntry_ES  cuntry_FR  \\\n",
       "3                   0  ...          0          0          0          0   \n",
       "4                   0  ...          0          0          0          0   \n",
       "5                   0  ...          0          0          0          0   \n",
       "6                   1  ...          0          0          0          0   \n",
       "7                   0  ...          0          0          0          0   \n",
       "\n",
       "   cuntry_IN  cuntry_JP  cuntry_OTHER  cuntry_PA  cuntry_UK  cuntry_US  \n",
       "3          0          0             0          0          0          1  \n",
       "4          0          0             0          0          0          1  \n",
       "5          0          0             1          0          0          0  \n",
       "6          0          0             0          0          0          1  \n",
       "7          0          0             0          0          0          1  \n",
       "\n",
       "[5 rows x 27 columns]"
      ]
     },
     "execution_count": 71,
     "metadata": {},
     "output_type": "execute_result"
    }
   ],
   "source": [
    "#website_dummy_y = website_dummy['Type']\n",
    "website_dummy.head()\n",
    "\n",
    "#website_variables = website_dummy\n",
    "#website_dummy_x = website_variables.drop(['Type'])\n",
    "#website_dummy_x.info()"
   ]
  },
  {
   "cell_type": "code",
   "execution_count": 79,
   "metadata": {},
   "outputs": [],
   "source": [
    "website_dummy_y = website_dummy['Type']\n",
    "\n",
    "website_test = website_dummy\n",
    "website_dummy_x  = website_test.drop(['Type'], axis=1)\n",
    "\n"
   ]
  },
  {
   "cell_type": "code",
   "execution_count": 80,
   "metadata": {},
   "outputs": [],
   "source": [
    "from sklearn.model_selection import train_test_split\n",
    "\n",
    "# Your code here:\n",
    "X_train, X_test, y_train,  y_test = train_test_split(website_dummy_x, website_dummy_y, test_size=0.2)"
   ]
  },
  {
   "cell_type": "markdown",
   "metadata": {},
   "source": [
    "#### In this lab, we will try two different models and compare our results.\n",
    "\n",
    "The first model we will use in this lab is logistic regression. We have previously learned about logistic regression as a classification algorithm. In the cell below, load `LogisticRegression` from scikit-learn and initialize the model."
   ]
  },
  {
   "cell_type": "code",
   "execution_count": 81,
   "metadata": {},
   "outputs": [],
   "source": [
    "# Your code here:\n",
    "from sklearn.linear_model import LogisticRegression\n",
    "\n",
    "\n"
   ]
  },
  {
   "cell_type": "markdown",
   "metadata": {},
   "source": [
    "Next, fit the model to our training data. We have already separated our data into 4 parts. Use those in your model."
   ]
  },
  {
   "cell_type": "code",
   "execution_count": 82,
   "metadata": {},
   "outputs": [
    {
     "name": "stderr",
     "output_type": "stream",
     "text": [
      "C:\\Users\\ellio\\Anaconda3\\lib\\site-packages\\sklearn\\linear_model\\logistic.py:432: FutureWarning: Default solver will be changed to 'lbfgs' in 0.22. Specify a solver to silence this warning.\n",
      "  FutureWarning)\n",
      "C:\\Users\\ellio\\Anaconda3\\lib\\site-packages\\sklearn\\svm\\base.py:929: ConvergenceWarning: Liblinear failed to converge, increase the number of iterations.\n",
      "  \"the number of iterations.\", ConvergenceWarning)\n"
     ]
    }
   ],
   "source": [
    "# Your code here:\n",
    "\n",
    "ks_model = LogisticRegression().fit(X_train, y_train)"
   ]
  },
  {
   "cell_type": "markdown",
   "metadata": {},
   "source": [
    "finally, import `confusion_matrix` and `accuracy_score` from `sklearn.metrics` and fit our testing data. Assign the fitted data to `y_pred` and print the confusion matrix as well as the accuracy score"
   ]
  },
  {
   "cell_type": "code",
   "execution_count": 83,
   "metadata": {},
   "outputs": [
    {
     "data": {
      "text/plain": [
       "array([[261,   2],\n",
       "       [ 18,  14]], dtype=int64)"
      ]
     },
     "execution_count": 83,
     "metadata": {},
     "output_type": "execute_result"
    }
   ],
   "source": [
    "# Your code here:\n",
    "from sklearn.metrics import confusion_matrix\n",
    "\n",
    "y_pred_test = ks_model.predict(X_test)\n",
    "#y_pred_test\n",
    "confusion_matrix(y_test, y_pred_test)\n"
   ]
  },
  {
   "cell_type": "markdown",
   "metadata": {},
   "source": [
    "What are your thoughts on the performance of the model? Write your conclusions below."
   ]
  },
  {
   "cell_type": "code",
   "execution_count": 84,
   "metadata": {},
   "outputs": [
    {
     "data": {
      "text/plain": [
       "0.9322033898305084"
      ]
     },
     "execution_count": 84,
     "metadata": {},
     "output_type": "execute_result"
    }
   ],
   "source": [
    "# Your conclusions here:\n",
    "acc = (261+14)/(261+14+2+18)\n",
    "acc\n"
   ]
  },
  {
   "cell_type": "code",
   "execution_count": 85,
   "metadata": {},
   "outputs": [
    {
     "data": {
      "text/plain": [
       "[<matplotlib.lines.Line2D at 0x252298b54a8>]"
      ]
     },
     "execution_count": 85,
     "metadata": {},
     "output_type": "execute_result"
    },
    {
     "data": {
      "image/png": "[encoded data removed]",
      "text/plain": [
       "<Figure size 432x288 with 1 Axes>"
      ]
     },
     "metadata": {
      "needs_background": "light"
     },
     "output_type": "display_data"
    }
   ],
   "source": [
    "from sklearn import metrics\n",
    "\n",
    "y_pred_proba = ks_model.predict_proba(X_test)[::,1]\n",
    "fpr, tpr, dummy = metrics.roc_curve(y_test,  y_pred_proba)\n",
    "auc = metrics.roc_auc_score(y_test, y_pred_proba)\n",
    "plt.plot(fpr,tpr)"
   ]
  },
  {
   "cell_type": "markdown",
   "metadata": {},
   "source": [
    "#### Our second algorithm is is K-Nearest Neighbors. \n",
    "\n",
    "Though is it not required, we will fit a model using the training data and then test the performance of the model using the testing data. Start by loading `KNeighborsClassifier` from scikit-learn and then initializing and fitting the model. We'll start off with a model where k=3."
   ]
  },
  {
   "cell_type": "code",
   "execution_count": 98,
   "metadata": {},
   "outputs": [
    {
     "data": {
      "text/plain": [
       "KNeighborsClassifier(algorithm='auto', leaf_size=30, metric='minkowski',\n",
       "                     metric_params=None, n_jobs=None, n_neighbors=3, p=2,\n",
       "                     weights='uniform')"
      ]
     },
     "execution_count": 98,
     "metadata": {},
     "output_type": "execute_result"
    }
   ],
   "source": [
    "# Your code here:\n",
    "from sklearn.neighbors import KNeighborsClassifier\n",
    "neigh = KNeighborsClassifier(n_neighbors=3)\n",
    "neigh.fit(X_train, y_train)"
   ]
  },
  {
   "cell_type": "markdown",
   "metadata": {},
   "source": [
    "To test your model, compute the predicted values for the testing sample and print the confusion matrix as well as the accuracy score."
   ]
  },
  {
   "cell_type": "code",
   "execution_count": 99,
   "metadata": {},
   "outputs": [
    {
     "data": {
      "text/plain": [
       "array([[259,   4],\n",
       "       [ 13,  19]], dtype=int64)"
      ]
     },
     "execution_count": 99,
     "metadata": {},
     "output_type": "execute_result"
    }
   ],
   "source": [
    "# Your code here:\n",
    "\n",
    "y_expect = y_test\n",
    "y_pred = neigh.predict(X_test)\n",
    "\n",
    "#print(metrics.classification_report(y_expect, y_pred))\n",
    "confusion_matrix(y_test, y_pred)"
   ]
  },
  {
   "cell_type": "markdown",
   "metadata": {},
   "source": [
    "#### We'll create another K-Nearest Neighbors model with k=5. \n",
    "\n",
    "Initialize and fit the model below and print the confusion matrix and the accuracy score."
   ]
  },
  {
   "cell_type": "code",
   "execution_count": 96,
   "metadata": {},
   "outputs": [
    {
     "name": "stdout",
     "output_type": "stream",
     "text": [
      "              precision    recall  f1-score   support\n",
      "\n",
      "           0       0.95      0.99      0.97       263\n",
      "           1       0.86      0.56      0.68        32\n",
      "\n",
      "    accuracy                           0.94       295\n",
      "   macro avg       0.90      0.78      0.82       295\n",
      "weighted avg       0.94      0.94      0.94       295\n",
      "\n"
     ]
    }
   ],
   "source": [
    "# Your code here:\n",
    "neigh2 = KNeighborsClassifier(n_neighbors=5)\n",
    "neigh2.fit(X_train, y_train)\n",
    "\n",
    "y_expect = y_test\n",
    "y_pred = neigh2.predict(X_test)\n",
    "\n",
    "print(metrics.classification_report(y_expect, y_pred))\n"
   ]
  },
  {
   "cell_type": "code",
   "execution_count": 97,
   "metadata": {},
   "outputs": [
    {
     "data": {
      "text/plain": [
       "array([[260,   3],\n",
       "       [ 14,  18]], dtype=int64)"
      ]
     },
     "execution_count": 97,
     "metadata": {},
     "output_type": "execute_result"
    }
   ],
   "source": [
    "confusion_matrix(y_test, y_pred)"
   ]
  },
  {
   "cell_type": "markdown",
   "metadata": {},
   "source": [
    "Did you see an improvement in the confusion matrix when increasing k to 5? Did you see an improvement in the accuracy score? Write your conclusions below."
   ]
  },
  {
   "cell_type": "code",
   "execution_count": null,
   "metadata": {},
   "outputs": [],
   "source": [
    "# Your conclusions here:\n",
    "\n"
   ]
  },
  {
   "cell_type": "markdown",
   "metadata": {},
   "source": [
    "# Bonus Challenge - Feature Scaling\n",
    "\n",
    "Problem-solving in machine learning is iterative. You can improve your model prediction with various techniques (there is a sweetspot for the time you spend and the improvement you receive though). Now you've completed only one iteration of ML analysis. There are more iterations you can conduct to make improvements. In order to be able to do that, you will need deeper knowledge in statistics and master more data analysis techniques. In this bootcamp, we don't have time to achieve that advanced goal. But you will make constant efforts after the bootcamp to eventually get there.\n",
    "\n",
    "However, now we do want you to learn one of the advanced techniques which is called *feature scaling*. The idea of feature scaling is to standardize/normalize the range of independent variables or features of the data. This can make the outliers more apparent so that you can remove them. This step needs to happen during Challenge 6 after you split the training and test data because you don't want to split the data again which makes it impossible to compare your results with and without feature scaling. For general concepts about feature scaling, click [here](https://en.wikipedia.org/wiki/Feature_scaling). To read deeper, click [here](https://medium.com/greyatom/why-how-and-when-to-scale-your-features-4b30ab09db5e).\n",
    "\n",
    "In the next cell, attempt to improve your model prediction accuracy by means of feature scaling. A library you can utilize is `sklearn.preprocessing.RobustScaler` ([documentation](https://scikit-learn.org/stable/modules/generated/sklearn.preprocessing.RobustScaler.html)). You'll use the `RobustScaler` to fit and transform your `X_train`, then transform `X_test`. You will use logistic regression to fit and predict your transformed data and obtain the accuracy score in the same way. Compare the accuracy score with your normalized data with the previous accuracy data. Is there an improvement?"
   ]
  },
  {
   "cell_type": "code",
   "execution_count": null,
   "metadata": {},
   "outputs": [],
   "source": [
    "# Your code here"
   ]
  }
 ],
 "metadata": {
  "kernelspec": {
   "display_name": "Python 3",
   "language": "python",
   "name": "python3"
  },
  "language_info": {
   "codemirror_mode": {
    "name": "ipython",
    "version": 3
   },
   "file_extension": ".py",
   "mimetype": "text/x-python",
   "name": "python",
   "nbconvert_exporter": "python",
   "pygments_lexer": "ipython3",
   "version": "3.7.3"
  }
 },
 "nbformat": 4,
 "nbformat_minor": 2
}
