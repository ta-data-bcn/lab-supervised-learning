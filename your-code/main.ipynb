{
 "cells": [
  {
   "cell_type": "markdown",
   "metadata": {},
   "source": [
    "# Before your start:\n",
    "- Read the README.md file\n",
    "- Comment as much as you can and use the resources in the README.md file\n",
    "- Happy learning!"
   ]
  },
  {
   "cell_type": "code",
   "execution_count": 2,
   "metadata": {},
   "outputs": [],
   "source": [
    "# Import your libraries:\n",
    "\n",
    "%matplotlib inline\n",
    "\n",
    "import numpy as np\n",
    "import pandas as pd\n",
    "pd.set_option('display.max_columns', None)\n",
    "import datetime\n",
    "\n",
    "from string import ascii_letters\n",
    "import numpy as np\n",
    "import pandas as pd\n",
    "import seaborn as sns\n",
    "import matplotlib.pyplot as plt\n",
    "import seaborn as sn"
   ]
  },
  {
   "cell_type": "markdown",
   "metadata": {},
   "source": [
    "In this lab, we will explore a dataset that describes websites with different features and labels them either benign or malicious . We will use supervised learning algorithms to figure out what feature patterns malicious websites are likely to have and use our model to predict malicious websites.\n",
    "\n",
    "# Challenge 1 - Explore The Dataset\n",
    "\n",
    "Let's start by exploring the dataset. First load the data file:"
   ]
  },
  {
   "cell_type": "code",
   "execution_count": 3,
   "metadata": {},
   "outputs": [],
   "source": [
    "df = pd.read_csv('../data/website.csv')"
   ]
  },
  {
   "cell_type": "markdown",
   "metadata": {},
   "source": [
    "#### Explore the data from an bird's-eye view.\n",
    "\n",
    "You should already been very familiar with the procedures now so we won't provide the instructions step by step. Reflect on what you did in the previous labs and explore the dataset.\n",
    "\n",
    "Things you'll be looking for:\n",
    "\n",
    "* What the dataset looks like?\n",
    "* What are the data types?\n",
    "* Which columns contain the features of the websites?\n",
    "* Which column contains the feature we will predict? What is the code standing for benign vs malicious websites?\n",
    "* Do we need to transform any of the columns from categorical to ordinal values? If so what are these columns?\n",
    "\n",
    "Feel free to add additional cells for your explorations. Make sure to comment what you find out."
   ]
  },
  {
   "cell_type": "code",
   "execution_count": 4,
   "metadata": {
    "scrolled": false
   },
   "outputs": [
    {
     "data": {
      "text/html": [
       "<div>\n",
       "<style scoped>\n",
       "    .dataframe tbody tr th:only-of-type {\n",
       "        vertical-align: middle;\n",
       "    }\n",
       "\n",
       "    .dataframe tbody tr th {\n",
       "        vertical-align: top;\n",
       "    }\n",
       "\n",
       "    .dataframe thead th {\n",
       "        text-align: right;\n",
       "    }\n",
       "</style>\n",
       "<table border=\"1\" class=\"dataframe\">\n",
       "  <thead>\n",
       "    <tr style=\"text-align: right;\">\n",
       "      <th></th>\n",
       "      <th>URL</th>\n",
       "      <th>URL_LENGTH</th>\n",
       "      <th>NUMBER_SPECIAL_CHARACTERS</th>\n",
       "      <th>CHARSET</th>\n",
       "      <th>SERVER</th>\n",
       "      <th>CONTENT_LENGTH</th>\n",
       "      <th>WHOIS_COUNTRY</th>\n",
       "      <th>WHOIS_STATEPRO</th>\n",
       "      <th>WHOIS_REGDATE</th>\n",
       "      <th>WHOIS_UPDATED_DATE</th>\n",
       "      <th>TCP_CONVERSATION_EXCHANGE</th>\n",
       "      <th>DIST_REMOTE_TCP_PORT</th>\n",
       "      <th>REMOTE_IPS</th>\n",
       "      <th>APP_BYTES</th>\n",
       "      <th>SOURCE_APP_PACKETS</th>\n",
       "      <th>REMOTE_APP_PACKETS</th>\n",
       "      <th>SOURCE_APP_BYTES</th>\n",
       "      <th>REMOTE_APP_BYTES</th>\n",
       "      <th>APP_PACKETS</th>\n",
       "      <th>DNS_QUERY_TIMES</th>\n",
       "      <th>Type</th>\n",
       "    </tr>\n",
       "  </thead>\n",
       "  <tbody>\n",
       "    <tr>\n",
       "      <th>0</th>\n",
       "      <td>M0_109</td>\n",
       "      <td>16</td>\n",
       "      <td>7</td>\n",
       "      <td>iso-8859-1</td>\n",
       "      <td>nginx</td>\n",
       "      <td>263.0</td>\n",
       "      <td>None</td>\n",
       "      <td>None</td>\n",
       "      <td>10/10/2015 18:21</td>\n",
       "      <td>None</td>\n",
       "      <td>7</td>\n",
       "      <td>0</td>\n",
       "      <td>2</td>\n",
       "      <td>700</td>\n",
       "      <td>9</td>\n",
       "      <td>10</td>\n",
       "      <td>1153</td>\n",
       "      <td>832</td>\n",
       "      <td>9</td>\n",
       "      <td>2.0</td>\n",
       "      <td>1</td>\n",
       "    </tr>\n",
       "    <tr>\n",
       "      <th>1</th>\n",
       "      <td>B0_2314</td>\n",
       "      <td>16</td>\n",
       "      <td>6</td>\n",
       "      <td>UTF-8</td>\n",
       "      <td>Apache/2.4.10</td>\n",
       "      <td>15087.0</td>\n",
       "      <td>None</td>\n",
       "      <td>None</td>\n",
       "      <td>None</td>\n",
       "      <td>None</td>\n",
       "      <td>17</td>\n",
       "      <td>7</td>\n",
       "      <td>4</td>\n",
       "      <td>1230</td>\n",
       "      <td>17</td>\n",
       "      <td>19</td>\n",
       "      <td>1265</td>\n",
       "      <td>1230</td>\n",
       "      <td>17</td>\n",
       "      <td>0.0</td>\n",
       "      <td>0</td>\n",
       "    </tr>\n",
       "    <tr>\n",
       "      <th>2</th>\n",
       "      <td>B0_911</td>\n",
       "      <td>16</td>\n",
       "      <td>6</td>\n",
       "      <td>us-ascii</td>\n",
       "      <td>Microsoft-HTTPAPI/2.0</td>\n",
       "      <td>324.0</td>\n",
       "      <td>None</td>\n",
       "      <td>None</td>\n",
       "      <td>None</td>\n",
       "      <td>None</td>\n",
       "      <td>0</td>\n",
       "      <td>0</td>\n",
       "      <td>0</td>\n",
       "      <td>0</td>\n",
       "      <td>0</td>\n",
       "      <td>0</td>\n",
       "      <td>0</td>\n",
       "      <td>0</td>\n",
       "      <td>0</td>\n",
       "      <td>0.0</td>\n",
       "      <td>0</td>\n",
       "    </tr>\n",
       "    <tr>\n",
       "      <th>3</th>\n",
       "      <td>B0_113</td>\n",
       "      <td>17</td>\n",
       "      <td>6</td>\n",
       "      <td>ISO-8859-1</td>\n",
       "      <td>nginx</td>\n",
       "      <td>162.0</td>\n",
       "      <td>US</td>\n",
       "      <td>AK</td>\n",
       "      <td>7/10/1997 4:00</td>\n",
       "      <td>12/09/2013 0:45</td>\n",
       "      <td>31</td>\n",
       "      <td>22</td>\n",
       "      <td>3</td>\n",
       "      <td>3812</td>\n",
       "      <td>39</td>\n",
       "      <td>37</td>\n",
       "      <td>18784</td>\n",
       "      <td>4380</td>\n",
       "      <td>39</td>\n",
       "      <td>8.0</td>\n",
       "      <td>0</td>\n",
       "    </tr>\n",
       "    <tr>\n",
       "      <th>4</th>\n",
       "      <td>B0_403</td>\n",
       "      <td>17</td>\n",
       "      <td>6</td>\n",
       "      <td>UTF-8</td>\n",
       "      <td>None</td>\n",
       "      <td>124140.0</td>\n",
       "      <td>US</td>\n",
       "      <td>TX</td>\n",
       "      <td>12/05/1996 0:00</td>\n",
       "      <td>11/04/2017 0:00</td>\n",
       "      <td>57</td>\n",
       "      <td>2</td>\n",
       "      <td>5</td>\n",
       "      <td>4278</td>\n",
       "      <td>61</td>\n",
       "      <td>62</td>\n",
       "      <td>129889</td>\n",
       "      <td>4586</td>\n",
       "      <td>61</td>\n",
       "      <td>4.0</td>\n",
       "      <td>0</td>\n",
       "    </tr>\n",
       "    <tr>\n",
       "      <th>5</th>\n",
       "      <td>B0_2064</td>\n",
       "      <td>18</td>\n",
       "      <td>7</td>\n",
       "      <td>UTF-8</td>\n",
       "      <td>nginx</td>\n",
       "      <td>NaN</td>\n",
       "      <td>SC</td>\n",
       "      <td>Mahe</td>\n",
       "      <td>3/08/2016 14:30</td>\n",
       "      <td>3/10/2016 3:45</td>\n",
       "      <td>11</td>\n",
       "      <td>6</td>\n",
       "      <td>9</td>\n",
       "      <td>894</td>\n",
       "      <td>11</td>\n",
       "      <td>13</td>\n",
       "      <td>838</td>\n",
       "      <td>894</td>\n",
       "      <td>11</td>\n",
       "      <td>0.0</td>\n",
       "      <td>0</td>\n",
       "    </tr>\n",
       "    <tr>\n",
       "      <th>6</th>\n",
       "      <td>B0_462</td>\n",
       "      <td>18</td>\n",
       "      <td>6</td>\n",
       "      <td>iso-8859-1</td>\n",
       "      <td>Apache/2</td>\n",
       "      <td>345.0</td>\n",
       "      <td>US</td>\n",
       "      <td>CO</td>\n",
       "      <td>29/07/2002 0:00</td>\n",
       "      <td>1/07/2016 0:00</td>\n",
       "      <td>12</td>\n",
       "      <td>0</td>\n",
       "      <td>3</td>\n",
       "      <td>1189</td>\n",
       "      <td>14</td>\n",
       "      <td>13</td>\n",
       "      <td>8559</td>\n",
       "      <td>1327</td>\n",
       "      <td>14</td>\n",
       "      <td>2.0</td>\n",
       "      <td>0</td>\n",
       "    </tr>\n",
       "    <tr>\n",
       "      <th>7</th>\n",
       "      <td>B0_1128</td>\n",
       "      <td>19</td>\n",
       "      <td>6</td>\n",
       "      <td>us-ascii</td>\n",
       "      <td>Microsoft-HTTPAPI/2.0</td>\n",
       "      <td>324.0</td>\n",
       "      <td>US</td>\n",
       "      <td>FL</td>\n",
       "      <td>18/03/1997 0:00</td>\n",
       "      <td>19/03/2017 0:00</td>\n",
       "      <td>0</td>\n",
       "      <td>0</td>\n",
       "      <td>0</td>\n",
       "      <td>0</td>\n",
       "      <td>0</td>\n",
       "      <td>0</td>\n",
       "      <td>0</td>\n",
       "      <td>0</td>\n",
       "      <td>0</td>\n",
       "      <td>0.0</td>\n",
       "      <td>0</td>\n",
       "    </tr>\n",
       "    <tr>\n",
       "      <th>8</th>\n",
       "      <td>M2_17</td>\n",
       "      <td>20</td>\n",
       "      <td>5</td>\n",
       "      <td>utf-8</td>\n",
       "      <td>nginx/1.10.1</td>\n",
       "      <td>NaN</td>\n",
       "      <td>None</td>\n",
       "      <td>None</td>\n",
       "      <td>8/11/2014 7:41</td>\n",
       "      <td>None</td>\n",
       "      <td>0</td>\n",
       "      <td>0</td>\n",
       "      <td>0</td>\n",
       "      <td>0</td>\n",
       "      <td>2</td>\n",
       "      <td>3</td>\n",
       "      <td>213</td>\n",
       "      <td>146</td>\n",
       "      <td>2</td>\n",
       "      <td>2.0</td>\n",
       "      <td>1</td>\n",
       "    </tr>\n",
       "    <tr>\n",
       "      <th>9</th>\n",
       "      <td>M3_75</td>\n",
       "      <td>20</td>\n",
       "      <td>5</td>\n",
       "      <td>utf-8</td>\n",
       "      <td>nginx/1.10.1</td>\n",
       "      <td>NaN</td>\n",
       "      <td>None</td>\n",
       "      <td>None</td>\n",
       "      <td>8/11/2014 7:41</td>\n",
       "      <td>None</td>\n",
       "      <td>0</td>\n",
       "      <td>0</td>\n",
       "      <td>0</td>\n",
       "      <td>0</td>\n",
       "      <td>2</td>\n",
       "      <td>1</td>\n",
       "      <td>62</td>\n",
       "      <td>146</td>\n",
       "      <td>2</td>\n",
       "      <td>2.0</td>\n",
       "      <td>1</td>\n",
       "    </tr>\n",
       "    <tr>\n",
       "      <th>10</th>\n",
       "      <td>B0_1013</td>\n",
       "      <td>20</td>\n",
       "      <td>6</td>\n",
       "      <td>utf-8</td>\n",
       "      <td>Apache</td>\n",
       "      <td>NaN</td>\n",
       "      <td>US</td>\n",
       "      <td>Kansas</td>\n",
       "      <td>14/09/2007 0:00</td>\n",
       "      <td>9/09/2015 0:00</td>\n",
       "      <td>0</td>\n",
       "      <td>0</td>\n",
       "      <td>0</td>\n",
       "      <td>0</td>\n",
       "      <td>0</td>\n",
       "      <td>0</td>\n",
       "      <td>0</td>\n",
       "      <td>0</td>\n",
       "      <td>0</td>\n",
       "      <td>0.0</td>\n",
       "      <td>0</td>\n",
       "    </tr>\n",
       "    <tr>\n",
       "      <th>11</th>\n",
       "      <td>B0_1102</td>\n",
       "      <td>20</td>\n",
       "      <td>6</td>\n",
       "      <td>us-ascii</td>\n",
       "      <td>Microsoft-HTTPAPI/2.0</td>\n",
       "      <td>324.0</td>\n",
       "      <td>US</td>\n",
       "      <td>CO</td>\n",
       "      <td>22/11/2016 0:00</td>\n",
       "      <td>23/11/2016 0:00</td>\n",
       "      <td>0</td>\n",
       "      <td>0</td>\n",
       "      <td>0</td>\n",
       "      <td>0</td>\n",
       "      <td>0</td>\n",
       "      <td>0</td>\n",
       "      <td>0</td>\n",
       "      <td>0</td>\n",
       "      <td>0</td>\n",
       "      <td>0.0</td>\n",
       "      <td>0</td>\n",
       "    </tr>\n",
       "    <tr>\n",
       "      <th>12</th>\n",
       "      <td>B0_22</td>\n",
       "      <td>20</td>\n",
       "      <td>7</td>\n",
       "      <td>utf-8</td>\n",
       "      <td>None</td>\n",
       "      <td>13716.0</td>\n",
       "      <td>GB</td>\n",
       "      <td>None</td>\n",
       "      <td>11/10/2002 0:00</td>\n",
       "      <td>6/10/2016 0:00</td>\n",
       "      <td>16</td>\n",
       "      <td>6</td>\n",
       "      <td>8</td>\n",
       "      <td>1492</td>\n",
       "      <td>20</td>\n",
       "      <td>20</td>\n",
       "      <td>2334</td>\n",
       "      <td>1784</td>\n",
       "      <td>20</td>\n",
       "      <td>4.0</td>\n",
       "      <td>0</td>\n",
       "    </tr>\n",
       "    <tr>\n",
       "      <th>13</th>\n",
       "      <td>B0_482</td>\n",
       "      <td>20</td>\n",
       "      <td>6</td>\n",
       "      <td>ISO-8859-1</td>\n",
       "      <td>nginx</td>\n",
       "      <td>3692.0</td>\n",
       "      <td>None</td>\n",
       "      <td>None</td>\n",
       "      <td>14/11/2002 0:00</td>\n",
       "      <td>19/04/2015 0:00</td>\n",
       "      <td>25</td>\n",
       "      <td>19</td>\n",
       "      <td>4</td>\n",
       "      <td>3946</td>\n",
       "      <td>35</td>\n",
       "      <td>29</td>\n",
       "      <td>16408</td>\n",
       "      <td>4746</td>\n",
       "      <td>35</td>\n",
       "      <td>10.0</td>\n",
       "      <td>0</td>\n",
       "    </tr>\n",
       "    <tr>\n",
       "      <th>14</th>\n",
       "      <td>B0_869</td>\n",
       "      <td>20</td>\n",
       "      <td>7</td>\n",
       "      <td>ISO-8859-1</td>\n",
       "      <td>Apache/2.2.15 (Red Hat)</td>\n",
       "      <td>13054.0</td>\n",
       "      <td>None</td>\n",
       "      <td>None</td>\n",
       "      <td>None</td>\n",
       "      <td>None</td>\n",
       "      <td>0</td>\n",
       "      <td>0</td>\n",
       "      <td>0</td>\n",
       "      <td>0</td>\n",
       "      <td>0</td>\n",
       "      <td>0</td>\n",
       "      <td>0</td>\n",
       "      <td>0</td>\n",
       "      <td>0</td>\n",
       "      <td>0.0</td>\n",
       "      <td>0</td>\n",
       "    </tr>\n",
       "    <tr>\n",
       "      <th>15</th>\n",
       "      <td>M0_71</td>\n",
       "      <td>21</td>\n",
       "      <td>7</td>\n",
       "      <td>ISO-8859-1</td>\n",
       "      <td>Apache/2.4.23 (Unix) OpenSSL/1.0.1e-fips mod_b...</td>\n",
       "      <td>957.0</td>\n",
       "      <td>UK</td>\n",
       "      <td>None</td>\n",
       "      <td>16/07/2000 0:00</td>\n",
       "      <td>4/07/2015 0:00</td>\n",
       "      <td>7</td>\n",
       "      <td>0</td>\n",
       "      <td>1</td>\n",
       "      <td>717</td>\n",
       "      <td>11</td>\n",
       "      <td>10</td>\n",
       "      <td>1960</td>\n",
       "      <td>1011</td>\n",
       "      <td>11</td>\n",
       "      <td>4.0</td>\n",
       "      <td>1</td>\n",
       "    </tr>\n",
       "    <tr>\n",
       "      <th>16</th>\n",
       "      <td>M0_97</td>\n",
       "      <td>21</td>\n",
       "      <td>7</td>\n",
       "      <td>iso-8859-1</td>\n",
       "      <td>nginx</td>\n",
       "      <td>686.0</td>\n",
       "      <td>RU</td>\n",
       "      <td>Novosibirskaya obl.</td>\n",
       "      <td>25/05/2013 0:00</td>\n",
       "      <td>23/05/2016 0:00</td>\n",
       "      <td>6</td>\n",
       "      <td>0</td>\n",
       "      <td>2</td>\n",
       "      <td>603</td>\n",
       "      <td>8</td>\n",
       "      <td>9</td>\n",
       "      <td>1580</td>\n",
       "      <td>745</td>\n",
       "      <td>8</td>\n",
       "      <td>2.0</td>\n",
       "      <td>1</td>\n",
       "    </tr>\n",
       "    <tr>\n",
       "      <th>17</th>\n",
       "      <td>B0_2303</td>\n",
       "      <td>21</td>\n",
       "      <td>6</td>\n",
       "      <td>us-ascii</td>\n",
       "      <td>Microsoft-HTTPAPI/2.0</td>\n",
       "      <td>324.0</td>\n",
       "      <td>None</td>\n",
       "      <td>None</td>\n",
       "      <td>9/08/1999 0:00</td>\n",
       "      <td>10/02/2015 0:00</td>\n",
       "      <td>7</td>\n",
       "      <td>7</td>\n",
       "      <td>3</td>\n",
       "      <td>618</td>\n",
       "      <td>7</td>\n",
       "      <td>9</td>\n",
       "      <td>562</td>\n",
       "      <td>618</td>\n",
       "      <td>7</td>\n",
       "      <td>0.0</td>\n",
       "      <td>0</td>\n",
       "    </tr>\n",
       "    <tr>\n",
       "      <th>18</th>\n",
       "      <td>B0_584</td>\n",
       "      <td>21</td>\n",
       "      <td>6</td>\n",
       "      <td>utf-8</td>\n",
       "      <td>nginx</td>\n",
       "      <td>15025.0</td>\n",
       "      <td>None</td>\n",
       "      <td>None</td>\n",
       "      <td>None</td>\n",
       "      <td>None</td>\n",
       "      <td>13</td>\n",
       "      <td>1</td>\n",
       "      <td>5</td>\n",
       "      <td>1099</td>\n",
       "      <td>15</td>\n",
       "      <td>17</td>\n",
       "      <td>15476</td>\n",
       "      <td>1243</td>\n",
       "      <td>15</td>\n",
       "      <td>2.0</td>\n",
       "      <td>0</td>\n",
       "    </tr>\n",
       "    <tr>\n",
       "      <th>19</th>\n",
       "      <td>M0_69</td>\n",
       "      <td>22</td>\n",
       "      <td>7</td>\n",
       "      <td>us-ascii</td>\n",
       "      <td>Microsoft-HTTPAPI/2.0</td>\n",
       "      <td>324.0</td>\n",
       "      <td>US</td>\n",
       "      <td>CO</td>\n",
       "      <td>15/09/2013 0:00</td>\n",
       "      <td>25/02/2017 0:00</td>\n",
       "      <td>9</td>\n",
       "      <td>0</td>\n",
       "      <td>4</td>\n",
       "      <td>850</td>\n",
       "      <td>11</td>\n",
       "      <td>9</td>\n",
       "      <td>1354</td>\n",
       "      <td>994</td>\n",
       "      <td>11</td>\n",
       "      <td>2.0</td>\n",
       "      <td>1</td>\n",
       "    </tr>\n",
       "  </tbody>\n",
       "</table>\n",
       "</div>"
      ],
      "text/plain": [
       "        URL  URL_LENGTH  NUMBER_SPECIAL_CHARACTERS     CHARSET  \\\n",
       "0    M0_109          16                          7  iso-8859-1   \n",
       "1   B0_2314          16                          6       UTF-8   \n",
       "2    B0_911          16                          6    us-ascii   \n",
       "3    B0_113          17                          6  ISO-8859-1   \n",
       "4    B0_403          17                          6       UTF-8   \n",
       "5   B0_2064          18                          7       UTF-8   \n",
       "6    B0_462          18                          6  iso-8859-1   \n",
       "7   B0_1128          19                          6    us-ascii   \n",
       "8     M2_17          20                          5       utf-8   \n",
       "9     M3_75          20                          5       utf-8   \n",
       "10  B0_1013          20                          6       utf-8   \n",
       "11  B0_1102          20                          6    us-ascii   \n",
       "12    B0_22          20                          7       utf-8   \n",
       "13   B0_482          20                          6  ISO-8859-1   \n",
       "14   B0_869          20                          7  ISO-8859-1   \n",
       "15    M0_71          21                          7  ISO-8859-1   \n",
       "16    M0_97          21                          7  iso-8859-1   \n",
       "17  B0_2303          21                          6    us-ascii   \n",
       "18   B0_584          21                          6       utf-8   \n",
       "19    M0_69          22                          7    us-ascii   \n",
       "\n",
       "                                               SERVER  CONTENT_LENGTH  \\\n",
       "0                                               nginx           263.0   \n",
       "1                                       Apache/2.4.10         15087.0   \n",
       "2                               Microsoft-HTTPAPI/2.0           324.0   \n",
       "3                                               nginx           162.0   \n",
       "4                                                None        124140.0   \n",
       "5                                               nginx             NaN   \n",
       "6                                            Apache/2           345.0   \n",
       "7                               Microsoft-HTTPAPI/2.0           324.0   \n",
       "8                                        nginx/1.10.1             NaN   \n",
       "9                                        nginx/1.10.1             NaN   \n",
       "10                                             Apache             NaN   \n",
       "11                              Microsoft-HTTPAPI/2.0           324.0   \n",
       "12                                               None         13716.0   \n",
       "13                                              nginx          3692.0   \n",
       "14                            Apache/2.2.15 (Red Hat)         13054.0   \n",
       "15  Apache/2.4.23 (Unix) OpenSSL/1.0.1e-fips mod_b...           957.0   \n",
       "16                                              nginx           686.0   \n",
       "17                              Microsoft-HTTPAPI/2.0           324.0   \n",
       "18                                              nginx         15025.0   \n",
       "19                              Microsoft-HTTPAPI/2.0           324.0   \n",
       "\n",
       "   WHOIS_COUNTRY       WHOIS_STATEPRO     WHOIS_REGDATE WHOIS_UPDATED_DATE  \\\n",
       "0           None                 None  10/10/2015 18:21               None   \n",
       "1           None                 None              None               None   \n",
       "2           None                 None              None               None   \n",
       "3             US                   AK    7/10/1997 4:00    12/09/2013 0:45   \n",
       "4             US                   TX   12/05/1996 0:00    11/04/2017 0:00   \n",
       "5             SC                 Mahe   3/08/2016 14:30     3/10/2016 3:45   \n",
       "6             US                   CO   29/07/2002 0:00     1/07/2016 0:00   \n",
       "7             US                   FL   18/03/1997 0:00    19/03/2017 0:00   \n",
       "8           None                 None    8/11/2014 7:41               None   \n",
       "9           None                 None    8/11/2014 7:41               None   \n",
       "10            US               Kansas   14/09/2007 0:00     9/09/2015 0:00   \n",
       "11            US                   CO   22/11/2016 0:00    23/11/2016 0:00   \n",
       "12            GB                 None   11/10/2002 0:00     6/10/2016 0:00   \n",
       "13          None                 None   14/11/2002 0:00    19/04/2015 0:00   \n",
       "14          None                 None              None               None   \n",
       "15            UK                 None   16/07/2000 0:00     4/07/2015 0:00   \n",
       "16            RU  Novosibirskaya obl.   25/05/2013 0:00    23/05/2016 0:00   \n",
       "17          None                 None    9/08/1999 0:00    10/02/2015 0:00   \n",
       "18          None                 None              None               None   \n",
       "19            US                   CO   15/09/2013 0:00    25/02/2017 0:00   \n",
       "\n",
       "    TCP_CONVERSATION_EXCHANGE  DIST_REMOTE_TCP_PORT  REMOTE_IPS  APP_BYTES  \\\n",
       "0                           7                     0           2        700   \n",
       "1                          17                     7           4       1230   \n",
       "2                           0                     0           0          0   \n",
       "3                          31                    22           3       3812   \n",
       "4                          57                     2           5       4278   \n",
       "5                          11                     6           9        894   \n",
       "6                          12                     0           3       1189   \n",
       "7                           0                     0           0          0   \n",
       "8                           0                     0           0          0   \n",
       "9                           0                     0           0          0   \n",
       "10                          0                     0           0          0   \n",
       "11                          0                     0           0          0   \n",
       "12                         16                     6           8       1492   \n",
       "13                         25                    19           4       3946   \n",
       "14                          0                     0           0          0   \n",
       "15                          7                     0           1        717   \n",
       "16                          6                     0           2        603   \n",
       "17                          7                     7           3        618   \n",
       "18                         13                     1           5       1099   \n",
       "19                          9                     0           4        850   \n",
       "\n",
       "    SOURCE_APP_PACKETS  REMOTE_APP_PACKETS  SOURCE_APP_BYTES  \\\n",
       "0                    9                  10              1153   \n",
       "1                   17                  19              1265   \n",
       "2                    0                   0                 0   \n",
       "3                   39                  37             18784   \n",
       "4                   61                  62            129889   \n",
       "5                   11                  13               838   \n",
       "6                   14                  13              8559   \n",
       "7                    0                   0                 0   \n",
       "8                    2                   3               213   \n",
       "9                    2                   1                62   \n",
       "10                   0                   0                 0   \n",
       "11                   0                   0                 0   \n",
       "12                  20                  20              2334   \n",
       "13                  35                  29             16408   \n",
       "14                   0                   0                 0   \n",
       "15                  11                  10              1960   \n",
       "16                   8                   9              1580   \n",
       "17                   7                   9               562   \n",
       "18                  15                  17             15476   \n",
       "19                  11                   9              1354   \n",
       "\n",
       "    REMOTE_APP_BYTES  APP_PACKETS  DNS_QUERY_TIMES  Type  \n",
       "0                832            9              2.0     1  \n",
       "1               1230           17              0.0     0  \n",
       "2                  0            0              0.0     0  \n",
       "3               4380           39              8.0     0  \n",
       "4               4586           61              4.0     0  \n",
       "5                894           11              0.0     0  \n",
       "6               1327           14              2.0     0  \n",
       "7                  0            0              0.0     0  \n",
       "8                146            2              2.0     1  \n",
       "9                146            2              2.0     1  \n",
       "10                 0            0              0.0     0  \n",
       "11                 0            0              0.0     0  \n",
       "12              1784           20              4.0     0  \n",
       "13              4746           35             10.0     0  \n",
       "14                 0            0              0.0     0  \n",
       "15              1011           11              4.0     1  \n",
       "16               745            8              2.0     1  \n",
       "17               618            7              0.0     0  \n",
       "18              1243           15              2.0     0  \n",
       "19               994           11              2.0     1  "
      ]
     },
     "execution_count": 4,
     "metadata": {},
     "output_type": "execute_result"
    }
   ],
   "source": [
    "# Your code here\n",
    "df.head(20)"
   ]
  },
  {
   "cell_type": "code",
   "execution_count": 5,
   "metadata": {
    "scrolled": false
   },
   "outputs": [
    {
     "data": {
      "text/plain": [
       "URL                           object\n",
       "URL_LENGTH                     int64\n",
       "NUMBER_SPECIAL_CHARACTERS      int64\n",
       "CHARSET                       object\n",
       "SERVER                        object\n",
       "CONTENT_LENGTH               float64\n",
       "WHOIS_COUNTRY                 object\n",
       "WHOIS_STATEPRO                object\n",
       "WHOIS_REGDATE                 object\n",
       "WHOIS_UPDATED_DATE            object\n",
       "TCP_CONVERSATION_EXCHANGE      int64\n",
       "DIST_REMOTE_TCP_PORT           int64\n",
       "REMOTE_IPS                     int64\n",
       "APP_BYTES                      int64\n",
       "SOURCE_APP_PACKETS             int64\n",
       "REMOTE_APP_PACKETS             int64\n",
       "SOURCE_APP_BYTES               int64\n",
       "REMOTE_APP_BYTES               int64\n",
       "APP_PACKETS                    int64\n",
       "DNS_QUERY_TIMES              float64\n",
       "Type                           int64\n",
       "dtype: object"
      ]
     },
     "execution_count": 5,
     "metadata": {},
     "output_type": "execute_result"
    }
   ],
   "source": [
    "df.dtypes"
   ]
  },
  {
   "cell_type": "code",
   "execution_count": 6,
   "metadata": {},
   "outputs": [
    {
     "data": {
      "text/plain": [
       "0    1565\n",
       "1     216\n",
       "Name: Type, dtype: int64"
      ]
     },
     "execution_count": 6,
     "metadata": {},
     "output_type": "execute_result"
    }
   ],
   "source": [
    "df[\"Type\"].value_counts()"
   ]
  },
  {
   "cell_type": "markdown",
   "metadata": {},
   "source": [
    "### Your comment here\n",
    "\n",
    "All the data types make sense. Our target variable is \"Type\". \"1\" is code for malicious, whereas \"0\" is code for benign. The charset and Server columns need to be coded.\n"
   ]
  },
  {
   "cell_type": "markdown",
   "metadata": {},
   "source": [
    "#### Next, evaluate if the columns in this dataset are strongly correlated.\n",
    "\n",
    "If our dataset has strongly correlated columns, we need to choose certain ML algorithms instead of others. We need to evaluate this for our dataset now.\n",
    "\n",
    "Luckily, most of the columns in this dataset are ordinal which makes things a lot easier for us. In the next cells below, evaluate the level of collinearity of the data.\n",
    "\n",
    "We provide some general directions for you to consult in order to complete this step:\n",
    "\n",
    "1. You will create a correlation matrix using the numeric columns in the dataset.\n",
    "\n",
    "1. Create a heatmap using `seaborn` to visualize which columns have high collinearity.\n",
    "\n",
    "1. Comment on which columns you might need to remove due to high collinearity."
   ]
  },
  {
   "cell_type": "code",
   "execution_count": 8,
   "metadata": {},
   "outputs": [
    {
     "data": {
      "image/png": "[encoded data removed]",
      "text/plain": [
       "<Figure size 1152x432 with 2 Axes>"
      ]
     },
     "metadata": {
      "needs_background": "light"
     },
     "output_type": "display_data"
    }
   ],
   "source": [
    "# Your code here\n",
    "# Compute the correlation matrix\n",
    "\n",
    "plt.figure(figsize=(16, 6))\n",
    "mask=np.triu(np.ones_like(df.corr()))\n",
    "sns.heatmap(df.corr(), annot=True,vmin=-1,vmax=1,mask=mask);\n"
   ]
  },
  {
   "cell_type": "markdown",
   "metadata": {},
   "source": [
    "### Your comment here\n",
    "There is a high degree of collinearity among several columns."
   ]
  },
  {
   "cell_type": "markdown",
   "metadata": {},
   "source": [
    "# Challenge 2 - Remove Column Collinearity.\n",
    "\n",
    "From the heatmap you created, you should have seen at least 3 columns that can be removed due to high collinearity. Remove these columns from the dataset.\n",
    "\n",
    "Note that you should remove as few columns as you can. You don't have to remove all the columns at once. But instead, try removing one column, then produce the heatmap again to determine if additional columns should be removed. As long as the dataset no longer contains columns that are correlated for over 90%, you can stop. Also, keep in mind when two columns have high collinearity, you only need to remove one of them but not both.\n",
    "\n",
    "In the cells below, remove as few columns as you can to eliminate the high collinearity in the dataset. Make sure to comment on your way so that the instructional team can learn about your thinking process which allows them to give feedback. At the end, print the heatmap again."
   ]
  },
  {
   "cell_type": "code",
   "execution_count": 9,
   "metadata": {},
   "outputs": [],
   "source": [
    "df.drop([\"TCP_CONVERSATION_EXCHANGE\",\"APP_PACKETS\",\"REMOTE_APP_PACKETS\",\"APP_BYTES\"], axis=\"columns\",inplace=True)"
   ]
  },
  {
   "cell_type": "code",
   "execution_count": 10,
   "metadata": {},
   "outputs": [
    {
     "data": {
      "image/png": "[encoded data removed]",
      "text/plain": [
       "<Figure size 1152x432 with 2 Axes>"
      ]
     },
     "metadata": {
      "needs_background": "light"
     },
     "output_type": "display_data"
    }
   ],
   "source": [
    "# Print heatmap again\n",
    "# Your code here\n",
    "plt.figure(figsize=(16, 6))\n",
    "mask=np.triu(np.ones_like(df.corr()))\n",
    "sns.heatmap(df.corr(), annot=True,vmin=-1,vmax=1,mask=mask);"
   ]
  },
  {
   "cell_type": "markdown",
   "metadata": {},
   "source": [
    "# Challenge 3 - Handle Missing Values\n",
    "\n",
    "The next step would be handling missing values. **We start by examining the number of missing values in each column, which you will do in the next cell.**"
   ]
  },
  {
   "cell_type": "code",
   "execution_count": 11,
   "metadata": {
    "scrolled": true
   },
   "outputs": [
    {
     "data": {
      "text/plain": [
       "URL                           0.000000\n",
       "URL_LENGTH                    0.000000\n",
       "NUMBER_SPECIAL_CHARACTERS     0.000000\n",
       "CHARSET                       0.000000\n",
       "SERVER                        0.056148\n",
       "CONTENT_LENGTH               45.592364\n",
       "WHOIS_COUNTRY                 0.000000\n",
       "WHOIS_STATEPRO                0.000000\n",
       "WHOIS_REGDATE                 0.000000\n",
       "WHOIS_UPDATED_DATE            0.000000\n",
       "DIST_REMOTE_TCP_PORT          0.000000\n",
       "REMOTE_IPS                    0.000000\n",
       "SOURCE_APP_PACKETS            0.000000\n",
       "SOURCE_APP_BYTES              0.000000\n",
       "REMOTE_APP_BYTES              0.000000\n",
       "DNS_QUERY_TIMES               0.056148\n",
       "Type                          0.000000\n",
       "dtype: float64"
      ]
     },
     "execution_count": 11,
     "metadata": {},
     "output_type": "execute_result"
    }
   ],
   "source": [
    "# Your code here\n",
    "df.isna().sum()*100/len(df)"
   ]
  },
  {
   "cell_type": "markdown",
   "metadata": {},
   "source": [
    "If you remember in the previous labs, we drop a column if the column contains a high proportion of missing values. After dropping those problematic columns, we drop the rows with missing values.\n",
    "\n",
    "#### In the cells below, handle the missing values from the dataset. Remember to comment the rationale of your decisions."
   ]
  },
  {
   "cell_type": "code",
   "execution_count": 12,
   "metadata": {},
   "outputs": [],
   "source": [
    "# Your code here\n",
    "df.drop(\"CONTENT_LENGTH\",axis=\"columns\",inplace=True)"
   ]
  },
  {
   "cell_type": "code",
   "execution_count": 13,
   "metadata": {
    "scrolled": true
   },
   "outputs": [
    {
     "data": {
      "text/html": [
       "<div>\n",
       "<style scoped>\n",
       "    .dataframe tbody tr th:only-of-type {\n",
       "        vertical-align: middle;\n",
       "    }\n",
       "\n",
       "    .dataframe tbody tr th {\n",
       "        vertical-align: top;\n",
       "    }\n",
       "\n",
       "    .dataframe thead th {\n",
       "        text-align: right;\n",
       "    }\n",
       "</style>\n",
       "<table border=\"1\" class=\"dataframe\">\n",
       "  <thead>\n",
       "    <tr style=\"text-align: right;\">\n",
       "      <th></th>\n",
       "      <th>URL</th>\n",
       "      <th>URL_LENGTH</th>\n",
       "      <th>NUMBER_SPECIAL_CHARACTERS</th>\n",
       "      <th>CHARSET</th>\n",
       "      <th>SERVER</th>\n",
       "      <th>WHOIS_COUNTRY</th>\n",
       "      <th>WHOIS_STATEPRO</th>\n",
       "      <th>WHOIS_REGDATE</th>\n",
       "      <th>WHOIS_UPDATED_DATE</th>\n",
       "      <th>DIST_REMOTE_TCP_PORT</th>\n",
       "      <th>REMOTE_IPS</th>\n",
       "      <th>SOURCE_APP_PACKETS</th>\n",
       "      <th>SOURCE_APP_BYTES</th>\n",
       "      <th>REMOTE_APP_BYTES</th>\n",
       "      <th>DNS_QUERY_TIMES</th>\n",
       "      <th>Type</th>\n",
       "    </tr>\n",
       "  </thead>\n",
       "  <tbody>\n",
       "    <tr>\n",
       "      <th>1306</th>\n",
       "      <td>B0_2134</td>\n",
       "      <td>66</td>\n",
       "      <td>11</td>\n",
       "      <td>UTF-8</td>\n",
       "      <td>NaN</td>\n",
       "      <td>US</td>\n",
       "      <td>District of Columbia</td>\n",
       "      <td>1/02/2003 16:44</td>\n",
       "      <td>2/02/2017 17:11</td>\n",
       "      <td>2</td>\n",
       "      <td>4</td>\n",
       "      <td>15</td>\n",
       "      <td>246</td>\n",
       "      <td>1026</td>\n",
       "      <td>0.0</td>\n",
       "      <td>0</td>\n",
       "    </tr>\n",
       "    <tr>\n",
       "      <th>1659</th>\n",
       "      <td>B0_772</td>\n",
       "      <td>101</td>\n",
       "      <td>15</td>\n",
       "      <td>UTF-8</td>\n",
       "      <td>Apache</td>\n",
       "      <td>CA</td>\n",
       "      <td>ON</td>\n",
       "      <td>14/12/2009 0:00</td>\n",
       "      <td>13/12/2016 0:00</td>\n",
       "      <td>2</td>\n",
       "      <td>2</td>\n",
       "      <td>4</td>\n",
       "      <td>416</td>\n",
       "      <td>276</td>\n",
       "      <td>NaN</td>\n",
       "      <td>0</td>\n",
       "    </tr>\n",
       "  </tbody>\n",
       "</table>\n",
       "</div>"
      ],
      "text/plain": [
       "          URL  URL_LENGTH  NUMBER_SPECIAL_CHARACTERS CHARSET  SERVER  \\\n",
       "1306  B0_2134          66                         11   UTF-8     NaN   \n",
       "1659   B0_772         101                         15   UTF-8  Apache   \n",
       "\n",
       "     WHOIS_COUNTRY        WHOIS_STATEPRO    WHOIS_REGDATE WHOIS_UPDATED_DATE  \\\n",
       "1306            US  District of Columbia  1/02/2003 16:44    2/02/2017 17:11   \n",
       "1659            CA                    ON  14/12/2009 0:00    13/12/2016 0:00   \n",
       "\n",
       "      DIST_REMOTE_TCP_PORT  REMOTE_IPS  SOURCE_APP_PACKETS  SOURCE_APP_BYTES  \\\n",
       "1306                     2           4                  15               246   \n",
       "1659                     2           2                   4               416   \n",
       "\n",
       "      REMOTE_APP_BYTES  DNS_QUERY_TIMES  Type  \n",
       "1306              1026              0.0     0  \n",
       "1659               276              NaN     0  "
      ]
     },
     "execution_count": 13,
     "metadata": {},
     "output_type": "execute_result"
    }
   ],
   "source": [
    "missing_values=df[df.isnull().any(axis=1)]\n",
    "missing_values"
   ]
  },
  {
   "cell_type": "code",
   "execution_count": 14,
   "metadata": {},
   "outputs": [],
   "source": [
    "df.dropna(axis=0,inplace=True)\n",
    "df=df.reset_index(drop=True)"
   ]
  },
  {
   "cell_type": "code",
   "execution_count": 15,
   "metadata": {
    "scrolled": true
   },
   "outputs": [
    {
     "data": {
      "text/html": [
       "<div>\n",
       "<style scoped>\n",
       "    .dataframe tbody tr th:only-of-type {\n",
       "        vertical-align: middle;\n",
       "    }\n",
       "\n",
       "    .dataframe tbody tr th {\n",
       "        vertical-align: top;\n",
       "    }\n",
       "\n",
       "    .dataframe thead th {\n",
       "        text-align: right;\n",
       "    }\n",
       "</style>\n",
       "<table border=\"1\" class=\"dataframe\">\n",
       "  <thead>\n",
       "    <tr style=\"text-align: right;\">\n",
       "      <th></th>\n",
       "      <th>URL</th>\n",
       "      <th>URL_LENGTH</th>\n",
       "      <th>NUMBER_SPECIAL_CHARACTERS</th>\n",
       "      <th>CHARSET</th>\n",
       "      <th>SERVER</th>\n",
       "      <th>WHOIS_COUNTRY</th>\n",
       "      <th>WHOIS_STATEPRO</th>\n",
       "      <th>WHOIS_REGDATE</th>\n",
       "      <th>WHOIS_UPDATED_DATE</th>\n",
       "      <th>DIST_REMOTE_TCP_PORT</th>\n",
       "      <th>REMOTE_IPS</th>\n",
       "      <th>SOURCE_APP_PACKETS</th>\n",
       "      <th>SOURCE_APP_BYTES</th>\n",
       "      <th>REMOTE_APP_BYTES</th>\n",
       "      <th>DNS_QUERY_TIMES</th>\n",
       "      <th>Type</th>\n",
       "    </tr>\n",
       "  </thead>\n",
       "  <tbody>\n",
       "  </tbody>\n",
       "</table>\n",
       "</div>"
      ],
      "text/plain": [
       "Empty DataFrame\n",
       "Columns: [URL, URL_LENGTH, NUMBER_SPECIAL_CHARACTERS, CHARSET, SERVER, WHOIS_COUNTRY, WHOIS_STATEPRO, WHOIS_REGDATE, WHOIS_UPDATED_DATE, DIST_REMOTE_TCP_PORT, REMOTE_IPS, SOURCE_APP_PACKETS, SOURCE_APP_BYTES, REMOTE_APP_BYTES, DNS_QUERY_TIMES, Type]\n",
       "Index: []"
      ]
     },
     "execution_count": 15,
     "metadata": {},
     "output_type": "execute_result"
    }
   ],
   "source": [
    "missing_values=df[df.isnull().any(axis=1)]\n",
    "missing_values"
   ]
  },
  {
   "cell_type": "markdown",
   "metadata": {},
   "source": [
    "### Your comment here\n",
    "We drop the CONTENT_LEGTH column because 45% of the values are missing. Moreover we drop the missing rows, as there are only two."
   ]
  },
  {
   "cell_type": "markdown",
   "metadata": {},
   "source": [
    "#### Again, examine the number of missing values in each column. \n",
    "\n",
    "If all cleaned, proceed. Otherwise, go back and do more cleaning."
   ]
  },
  {
   "cell_type": "code",
   "execution_count": 16,
   "metadata": {},
   "outputs": [
    {
     "data": {
      "text/plain": [
       "URL                          0.0\n",
       "URL_LENGTH                   0.0\n",
       "NUMBER_SPECIAL_CHARACTERS    0.0\n",
       "CHARSET                      0.0\n",
       "SERVER                       0.0\n",
       "WHOIS_COUNTRY                0.0\n",
       "WHOIS_STATEPRO               0.0\n",
       "WHOIS_REGDATE                0.0\n",
       "WHOIS_UPDATED_DATE           0.0\n",
       "DIST_REMOTE_TCP_PORT         0.0\n",
       "REMOTE_IPS                   0.0\n",
       "SOURCE_APP_PACKETS           0.0\n",
       "SOURCE_APP_BYTES             0.0\n",
       "REMOTE_APP_BYTES             0.0\n",
       "DNS_QUERY_TIMES              0.0\n",
       "Type                         0.0\n",
       "dtype: float64"
      ]
     },
     "execution_count": 16,
     "metadata": {},
     "output_type": "execute_result"
    }
   ],
   "source": [
    "# Examine missing values in each column\n",
    "# Your code here\n",
    "df.isna().sum()*100/len(df)"
   ]
  },
  {
   "cell_type": "markdown",
   "metadata": {},
   "source": [
    "# Challenge 4 - Handle `WHOIS_*` Categorical Data"
   ]
  },
  {
   "cell_type": "markdown",
   "metadata": {},
   "source": [
    "There are several categorical columns we need to handle. These columns are:\n",
    "\n",
    "* `URL`\n",
    "* `CHARSET`\n",
    "* `SERVER`\n",
    "* `WHOIS_COUNTRY`\n",
    "* `WHOIS_STATEPRO`\n",
    "* `WHOIS_REGDATE`\n",
    "* `WHOIS_UPDATED_DATE`\n",
    "\n",
    "How to handle string columns is always case by case. Let's start by working on `WHOIS_COUNTRY`. Your steps are:\n",
    "\n",
    "1. List out the unique values of `WHOIS_COUNTRY`.\n",
    "1. Consolidate the country values with consistent country codes. For example, the following values refer to the same country and should use consistent country code:\n",
    "    * `CY` and `Cyprus`\n",
    "    * `US` and `us`\n",
    "    * `SE` and `se`\n",
    "    * `GB`, `United Kingdom`, and `[u'GB'; u'UK']`\n",
    "\n",
    "#### In the cells below, fix the country values as intructed above."
   ]
  },
  {
   "cell_type": "code",
   "execution_count": 17,
   "metadata": {
    "scrolled": true
   },
   "outputs": [
    {
     "name": "stdout",
     "output_type": "stream",
     "text": [
      "49\n"
     ]
    },
    {
     "data": {
      "text/plain": [
       "US                1102\n",
       "None               306\n",
       "CA                  83\n",
       "ES                  63\n",
       "AU                  35\n",
       "PA                  21\n",
       "GB                  19\n",
       "JP                  11\n",
       "CN                  10\n",
       "IN                  10\n",
       "UK                  10\n",
       "FR                   9\n",
       "CZ                   9\n",
       "NL                   6\n",
       "CH                   6\n",
       "KR                   5\n",
       "[u'GB'; u'UK']       5\n",
       "BS                   4\n",
       "ru                   4\n",
       "AT                   4\n",
       "PH                   4\n",
       "KY                   3\n",
       "SE                   3\n",
       "us                   3\n",
       "HK                   3\n",
       "SC                   3\n",
       "DE                   3\n",
       "BE                   3\n",
       "TR                   3\n",
       "RU                   2\n",
       "IL                   2\n",
       "UY                   2\n",
       "NO                   2\n",
       "UA                   2\n",
       "Cyprus               2\n",
       "KG                   2\n",
       "BR                   2\n",
       "SI                   2\n",
       "United Kingdom       1\n",
       "PK                   1\n",
       "se                   1\n",
       "BY                   1\n",
       "AE                   1\n",
       "LU                   1\n",
       "UG                   1\n",
       "TH                   1\n",
       "IE                   1\n",
       "IT                   1\n",
       "LV                   1\n",
       "Name: WHOIS_COUNTRY, dtype: int64"
      ]
     },
     "execution_count": 17,
     "metadata": {},
     "output_type": "execute_result"
    }
   ],
   "source": [
    "# Your code here\n",
    "print(df[\"WHOIS_COUNTRY\"].value_counts().count())\n",
    "df[\"WHOIS_COUNTRY\"].value_counts()"
   ]
  },
  {
   "cell_type": "code",
   "execution_count": 19,
   "metadata": {},
   "outputs": [
    {
     "name": "stdout",
     "output_type": "stream",
     "text": [
      "45\n"
     ]
    }
   ],
   "source": [
    "print(df[\"WHOIS_COUNTRY\"].value_counts().count())\n",
    "df[\"WHOIS_COUNTRY\"].value_counts()\n",
    "df_country_fix=df\n",
    "df_country_fix[\"WHOIS_COUNTRY\"]=df[\"WHOIS_COUNTRY\"].replace({\"Cyprus\":\"CY\",\"us\":\"US\",\"se\":\"SE\",\"United Kingdom\":\"UK\",\"Ru\":\"RU\",\"ru\":\"RU\"}, regex=True)"
   ]
  },
  {
   "cell_type": "code",
   "execution_count": 20,
   "metadata": {},
   "outputs": [],
   "source": [
    "df_country_fix[\"WHOIS_COUNTRY\"].replace(\"[u'GB'; u'UK']\",\"UK\",inplace=True)"
   ]
  },
  {
   "cell_type": "code",
   "execution_count": 21,
   "metadata": {},
   "outputs": [
    {
     "data": {
      "text/plain": [
       "array(['None', 'US', 'SC', 'GB', 'UK', 'RU', 'AU', 'CA', 'PA', 'SE', 'IN',\n",
       "       'LU', 'TH', 'FR', 'NL', 'UG', 'JP', 'CN', 'SI', 'IL', 'KY', 'AT',\n",
       "       'CZ', 'PH', 'BE', 'NO', 'TR', 'LV', 'DE', 'ES', 'BR', 'KR', 'HK',\n",
       "       'UA', 'CH', 'BS', 'PK', 'IT', 'CY', 'BY', 'AE', 'IE', 'UY', 'KG'],\n",
       "      dtype=object)"
      ]
     },
     "execution_count": 21,
     "metadata": {},
     "output_type": "execute_result"
    }
   ],
   "source": [
    "df_country_fix[\"WHOIS_COUNTRY\"].unique()"
   ]
  },
  {
   "cell_type": "markdown",
   "metadata": {},
   "source": [
    "Since we have fixed the country values, can we convert this column to ordinal now?\n",
    "\n",
    "Not yet. If you reflect on the previous labs how we handle categorical columns, you probably remember we ended up dropping a lot of those columns because there are too many unique values. Too many unique values in a column is not desirable in machine learning because it makes prediction inaccurate. But there are workarounds under certain conditions. One of the fixable conditions is:\n",
    "\n",
    "#### If a limited number of values account for the majority of data, we can retain these top values and re-label all other rare values.\n",
    "\n",
    "The `WHOIS_COUNTRY` column happens to be this case. You can verify it by print a bar chart of the `value_counts` in the next cell to verify:"
   ]
  },
  {
   "cell_type": "code",
   "execution_count": 22,
   "metadata": {},
   "outputs": [
    {
     "data": {
      "image/png": "[encoded data removed]",
      "text/plain": [
       "<Figure size 720x216 with 1 Axes>"
      ]
     },
     "metadata": {
      "needs_background": "light"
     },
     "output_type": "display_data"
    }
   ],
   "source": [
    "plt.figure(figsize=(10,3))\n",
    "df_country_fix[\"WHOIS_COUNTRY\"].value_counts().plot.bar()\n",
    "plt.show()"
   ]
  },
  {
   "cell_type": "markdown",
   "metadata": {},
   "source": [
    "**We don't do this manually. We make sure that we can reproduce the process by sorting the countries by count and saving the value of the 10th country into a variable called \"threshold\".**"
   ]
  },
  {
   "cell_type": "code",
   "execution_count": 24,
   "metadata": {
    "scrolled": true
   },
   "outputs": [
    {
     "data": {
      "text/plain": [
       "10"
      ]
     },
     "execution_count": 24,
     "metadata": {},
     "output_type": "execute_result"
    }
   ],
   "source": [
    "#We create a variable to identify the 10th highest count.\n",
    "threshold=df_country_fix[\"WHOIS_COUNTRY\"].value_counts()[9]\n",
    "threshold"
   ]
  },
  {
   "cell_type": "markdown",
   "metadata": {},
   "source": [
    "**We then bin any country with a value below the threshold into a value called \"Other\".**"
   ]
  },
  {
   "cell_type": "code",
   "execution_count": 25,
   "metadata": {
    "scrolled": true
   },
   "outputs": [],
   "source": [
    "# Your code here\n",
    "s=df_country_fix[\"WHOIS_COUNTRY\"].value_counts()\n",
    "df_other=df_country_fix\n",
    "df_other[\"WHOIS_COUNTRY\"]=np.where(df_other[\"WHOIS_COUNTRY\"].isin(s.index[s > threshold]), df_other[\"WHOIS_COUNTRY\"], 'Other')"
   ]
  },
  {
   "cell_type": "code",
   "execution_count": 27,
   "metadata": {
    "scrolled": false
   },
   "outputs": [
    {
     "data": {
      "text/plain": [
       "<matplotlib.axes._subplots.AxesSubplot at 0x2249c341cd0>"
      ]
     },
     "execution_count": 27,
     "metadata": {},
     "output_type": "execute_result"
    },
    {
     "data": {
      "image/png": "[encoded data removed]",
      "text/plain": [
       "<Figure size 432x288 with 1 Axes>"
      ]
     },
     "metadata": {
      "needs_background": "light"
     },
     "output_type": "display_data"
    }
   ],
   "source": [
    "df_other[\"WHOIS_COUNTRY\"].value_counts().plot.bar()"
   ]
  },
  {
   "cell_type": "markdown",
   "metadata": {},
   "source": [
    "**We also drop `WHOIS_STATEPRO`, since provinces are not relevant now that we have relabelled countries.**\n",
    "\n",
    "**Moreover, we drop `WHOIS_REGDATE` and `WHOIS_UPDATED_DATE`, since the registration and update dates of each domain are not relevant.**"
   ]
  },
  {
   "cell_type": "code",
   "execution_count": 28,
   "metadata": {},
   "outputs": [],
   "source": [
    "# Your code here\n",
    "df_other.drop(['WHOIS_STATEPRO', 'WHOIS_REGDATE', 'WHOIS_UPDATED_DATE'], axis=\"columns\",inplace=True)"
   ]
  },
  {
   "cell_type": "markdown",
   "metadata": {},
   "source": [
    "# Challenge 5 - Handle Remaining Categorical Data & Convert to Ordinal\n",
    "\n",
    "Now print the `dtypes` of the data again. Besides `WHOIS_COUNTRY` which we already fixed, there should be 3 categorical columns left: `URL`, `CHARSET`, and `SERVER`."
   ]
  },
  {
   "cell_type": "code",
   "execution_count": 30,
   "metadata": {},
   "outputs": [
    {
     "data": {
      "text/plain": [
       "URL                           object\n",
       "URL_LENGTH                     int64\n",
       "NUMBER_SPECIAL_CHARACTERS      int64\n",
       "CHARSET                       object\n",
       "SERVER                        object\n",
       "WHOIS_COUNTRY                 object\n",
       "DIST_REMOTE_TCP_PORT           int64\n",
       "REMOTE_IPS                     int64\n",
       "SOURCE_APP_PACKETS             int64\n",
       "SOURCE_APP_BYTES               int64\n",
       "REMOTE_APP_BYTES               int64\n",
       "DNS_QUERY_TIMES              float64\n",
       "Type                           int64\n",
       "dtype: object"
      ]
     },
     "execution_count": 30,
     "metadata": {},
     "output_type": "execute_result"
    }
   ],
   "source": [
    "# Your code here\n",
    "df_other.dtypes"
   ]
  },
  {
   "cell_type": "markdown",
   "metadata": {},
   "source": [
    "#### `URL` is easy. We'll simply drop it because it has too many unique values that there's no way for us to consolidate."
   ]
  },
  {
   "cell_type": "code",
   "execution_count": 31,
   "metadata": {},
   "outputs": [],
   "source": [
    "# Your code here\n",
    "df_other.drop(\"URL\", axis=\"columns\",inplace=True)"
   ]
  },
  {
   "cell_type": "markdown",
   "metadata": {},
   "source": [
    "#### Print the unique value counts of `CHARSET`. You see there are only a few unique values. So we can keep it as it is."
   ]
  },
  {
   "cell_type": "code",
   "execution_count": 32,
   "metadata": {},
   "outputs": [
    {
     "data": {
      "text/plain": [
       "UTF-8           674\n",
       "ISO-8859-1      427\n",
       "utf-8           379\n",
       "us-ascii        155\n",
       "iso-8859-1      134\n",
       "None              7\n",
       "windows-1251      1\n",
       "ISO-8859          1\n",
       "windows-1252      1\n",
       "Name: CHARSET, dtype: int64"
      ]
     },
     "execution_count": 32,
     "metadata": {},
     "output_type": "execute_result"
    }
   ],
   "source": [
    "# Your code here\n",
    "df_other[\"CHARSET\"].value_counts()"
   ]
  },
  {
   "cell_type": "markdown",
   "metadata": {},
   "source": [
    "`SERVER` is a little more complicated. Print its unique values and think about how you can consolidate those values.\n",
    "\n",
    "#### Before you think of your own solution, don't read the instructions that come next."
   ]
  },
  {
   "cell_type": "code",
   "execution_count": 33,
   "metadata": {
    "scrolled": true
   },
   "outputs": [
    {
     "data": {
      "text/plain": [
       "Apache                                                                        385\n",
       "nginx                                                                         211\n",
       "None                                                                          175\n",
       "Microsoft-HTTPAPI/2.0                                                         113\n",
       "cloudflare-nginx                                                               94\n",
       "                                                                             ... \n",
       "Apache/2.4.6 (Unix) mod_jk/1.2.37 PHP/5.5.1 OpenSSL/1.0.1g mod_fcgid/2.3.9      1\n",
       "mw2113.codfw.wmnet                                                              1\n",
       "mw2097.codfw.wmnet                                                              1\n",
       "Resin/3.1.8                                                                     1\n",
       "nginx/1.10.0 (Ubuntu)                                                           1\n",
       "Name: SERVER, Length: 239, dtype: int64"
      ]
     },
     "execution_count": 33,
     "metadata": {},
     "output_type": "execute_result"
    }
   ],
   "source": [
    "# Your code here\n",
    "df_other[\"SERVER\"].value_counts()"
   ]
  },
  {
   "cell_type": "code",
   "execution_count": 35,
   "metadata": {},
   "outputs": [
    {
     "data": {
      "text/plain": [
       "Apache                                                                        0.216414\n",
       "nginx                                                                         0.118606\n",
       "None                                                                          0.098370\n",
       "Microsoft-HTTPAPI/2.0                                                         0.063519\n",
       "cloudflare-nginx                                                              0.052839\n",
       "                                                                                ...   \n",
       "Apache/2.4.6 (Unix) mod_jk/1.2.37 PHP/5.5.1 OpenSSL/1.0.1g mod_fcgid/2.3.9    0.000562\n",
       "mw2113.codfw.wmnet                                                            0.000562\n",
       "mw2097.codfw.wmnet                                                            0.000562\n",
       "Resin/3.1.8                                                                   0.000562\n",
       "nginx/1.10.0 (Ubuntu)                                                         0.000562\n",
       "Name: SERVER, Length: 239, dtype: float64"
      ]
     },
     "execution_count": 35,
     "metadata": {},
     "output_type": "execute_result"
    }
   ],
   "source": [
    "df_other[\"SERVER\"].value_counts()\n",
    "df_other[\"SERVER\"].value_counts()/len(df_other)"
   ]
  },
  {
   "cell_type": "code",
   "execution_count": 36,
   "metadata": {
    "scrolled": true
   },
   "outputs": [
    {
     "name": "stdout",
     "output_type": "stream",
     "text": [
      "0.3608768971332209\n"
     ]
    },
    {
     "data": {
      "text/html": [
       "<div>\n",
       "<style scoped>\n",
       "    .dataframe tbody tr th:only-of-type {\n",
       "        vertical-align: middle;\n",
       "    }\n",
       "\n",
       "    .dataframe tbody tr th {\n",
       "        vertical-align: top;\n",
       "    }\n",
       "\n",
       "    .dataframe thead th {\n",
       "        text-align: right;\n",
       "    }\n",
       "</style>\n",
       "<table border=\"1\" class=\"dataframe\">\n",
       "  <thead>\n",
       "    <tr style=\"text-align: right;\">\n",
       "      <th></th>\n",
       "      <th>URL_LENGTH</th>\n",
       "      <th>NUMBER_SPECIAL_CHARACTERS</th>\n",
       "      <th>CHARSET</th>\n",
       "      <th>SERVER</th>\n",
       "      <th>WHOIS_COUNTRY</th>\n",
       "      <th>DIST_REMOTE_TCP_PORT</th>\n",
       "      <th>REMOTE_IPS</th>\n",
       "      <th>SOURCE_APP_PACKETS</th>\n",
       "      <th>SOURCE_APP_BYTES</th>\n",
       "      <th>REMOTE_APP_BYTES</th>\n",
       "      <th>DNS_QUERY_TIMES</th>\n",
       "      <th>Type</th>\n",
       "    </tr>\n",
       "  </thead>\n",
       "  <tbody>\n",
       "    <tr>\n",
       "      <th>1</th>\n",
       "      <td>16</td>\n",
       "      <td>6</td>\n",
       "      <td>UTF-8</td>\n",
       "      <td>Apache/2.4.10</td>\n",
       "      <td>None</td>\n",
       "      <td>7</td>\n",
       "      <td>4</td>\n",
       "      <td>17</td>\n",
       "      <td>1265</td>\n",
       "      <td>1230</td>\n",
       "      <td>0.0</td>\n",
       "      <td>0</td>\n",
       "    </tr>\n",
       "    <tr>\n",
       "      <th>6</th>\n",
       "      <td>18</td>\n",
       "      <td>6</td>\n",
       "      <td>iso-8859-1</td>\n",
       "      <td>Apache/2</td>\n",
       "      <td>US</td>\n",
       "      <td>0</td>\n",
       "      <td>3</td>\n",
       "      <td>14</td>\n",
       "      <td>8559</td>\n",
       "      <td>1327</td>\n",
       "      <td>2.0</td>\n",
       "      <td>0</td>\n",
       "    </tr>\n",
       "    <tr>\n",
       "      <th>10</th>\n",
       "      <td>20</td>\n",
       "      <td>6</td>\n",
       "      <td>utf-8</td>\n",
       "      <td>Apache</td>\n",
       "      <td>US</td>\n",
       "      <td>0</td>\n",
       "      <td>0</td>\n",
       "      <td>0</td>\n",
       "      <td>0</td>\n",
       "      <td>0</td>\n",
       "      <td>0.0</td>\n",
       "      <td>0</td>\n",
       "    </tr>\n",
       "    <tr>\n",
       "      <th>14</th>\n",
       "      <td>20</td>\n",
       "      <td>7</td>\n",
       "      <td>ISO-8859-1</td>\n",
       "      <td>Apache/2.2.15 (Red Hat)</td>\n",
       "      <td>None</td>\n",
       "      <td>0</td>\n",
       "      <td>0</td>\n",
       "      <td>0</td>\n",
       "      <td>0</td>\n",
       "      <td>0</td>\n",
       "      <td>0.0</td>\n",
       "      <td>0</td>\n",
       "    </tr>\n",
       "    <tr>\n",
       "      <th>15</th>\n",
       "      <td>21</td>\n",
       "      <td>7</td>\n",
       "      <td>ISO-8859-1</td>\n",
       "      <td>Apache/2.4.23 (Unix) OpenSSL/1.0.1e-fips mod_b...</td>\n",
       "      <td>UK</td>\n",
       "      <td>0</td>\n",
       "      <td>1</td>\n",
       "      <td>11</td>\n",
       "      <td>1960</td>\n",
       "      <td>1011</td>\n",
       "      <td>4.0</td>\n",
       "      <td>1</td>\n",
       "    </tr>\n",
       "    <tr>\n",
       "      <th>...</th>\n",
       "      <td>...</td>\n",
       "      <td>...</td>\n",
       "      <td>...</td>\n",
       "      <td>...</td>\n",
       "      <td>...</td>\n",
       "      <td>...</td>\n",
       "      <td>...</td>\n",
       "      <td>...</td>\n",
       "      <td>...</td>\n",
       "      <td>...</td>\n",
       "      <td>...</td>\n",
       "      <td>...</td>\n",
       "    </tr>\n",
       "    <tr>\n",
       "      <th>1771</th>\n",
       "      <td>178</td>\n",
       "      <td>16</td>\n",
       "      <td>UTF-8</td>\n",
       "      <td>Apache</td>\n",
       "      <td>ES</td>\n",
       "      <td>0</td>\n",
       "      <td>0</td>\n",
       "      <td>0</td>\n",
       "      <td>186</td>\n",
       "      <td>0</td>\n",
       "      <td>0.0</td>\n",
       "      <td>1</td>\n",
       "    </tr>\n",
       "    <tr>\n",
       "      <th>1773</th>\n",
       "      <td>194</td>\n",
       "      <td>17</td>\n",
       "      <td>UTF-8</td>\n",
       "      <td>Apache</td>\n",
       "      <td>ES</td>\n",
       "      <td>0</td>\n",
       "      <td>0</td>\n",
       "      <td>0</td>\n",
       "      <td>186</td>\n",
       "      <td>0</td>\n",
       "      <td>0.0</td>\n",
       "      <td>1</td>\n",
       "    </tr>\n",
       "    <tr>\n",
       "      <th>1774</th>\n",
       "      <td>194</td>\n",
       "      <td>16</td>\n",
       "      <td>UTF-8</td>\n",
       "      <td>Apache</td>\n",
       "      <td>ES</td>\n",
       "      <td>0</td>\n",
       "      <td>0</td>\n",
       "      <td>0</td>\n",
       "      <td>186</td>\n",
       "      <td>0</td>\n",
       "      <td>0.0</td>\n",
       "      <td>1</td>\n",
       "    </tr>\n",
       "    <tr>\n",
       "      <th>1775</th>\n",
       "      <td>198</td>\n",
       "      <td>17</td>\n",
       "      <td>UTF-8</td>\n",
       "      <td>Apache</td>\n",
       "      <td>ES</td>\n",
       "      <td>0</td>\n",
       "      <td>0</td>\n",
       "      <td>0</td>\n",
       "      <td>124</td>\n",
       "      <td>0</td>\n",
       "      <td>0.0</td>\n",
       "      <td>1</td>\n",
       "    </tr>\n",
       "    <tr>\n",
       "      <th>1776</th>\n",
       "      <td>201</td>\n",
       "      <td>34</td>\n",
       "      <td>utf-8</td>\n",
       "      <td>Apache/2.2.16 (Debian)</td>\n",
       "      <td>US</td>\n",
       "      <td>2</td>\n",
       "      <td>6</td>\n",
       "      <td>87</td>\n",
       "      <td>132181</td>\n",
       "      <td>6945</td>\n",
       "      <td>4.0</td>\n",
       "      <td>0</td>\n",
       "    </tr>\n",
       "  </tbody>\n",
       "</table>\n",
       "<p>642 rows × 12 columns</p>\n",
       "</div>"
      ],
      "text/plain": [
       "      URL_LENGTH  NUMBER_SPECIAL_CHARACTERS     CHARSET  \\\n",
       "1             16                          6       UTF-8   \n",
       "6             18                          6  iso-8859-1   \n",
       "10            20                          6       utf-8   \n",
       "14            20                          7  ISO-8859-1   \n",
       "15            21                          7  ISO-8859-1   \n",
       "...          ...                        ...         ...   \n",
       "1771         178                         16       UTF-8   \n",
       "1773         194                         17       UTF-8   \n",
       "1774         194                         16       UTF-8   \n",
       "1775         198                         17       UTF-8   \n",
       "1776         201                         34       utf-8   \n",
       "\n",
       "                                                 SERVER WHOIS_COUNTRY  \\\n",
       "1                                         Apache/2.4.10          None   \n",
       "6                                              Apache/2            US   \n",
       "10                                               Apache            US   \n",
       "14                              Apache/2.2.15 (Red Hat)          None   \n",
       "15    Apache/2.4.23 (Unix) OpenSSL/1.0.1e-fips mod_b...            UK   \n",
       "...                                                 ...           ...   \n",
       "1771                                             Apache            ES   \n",
       "1773                                             Apache            ES   \n",
       "1774                                             Apache            ES   \n",
       "1775                                             Apache            ES   \n",
       "1776                             Apache/2.2.16 (Debian)            US   \n",
       "\n",
       "      DIST_REMOTE_TCP_PORT  REMOTE_IPS  SOURCE_APP_PACKETS  SOURCE_APP_BYTES  \\\n",
       "1                        7           4                  17              1265   \n",
       "6                        0           3                  14              8559   \n",
       "10                       0           0                   0                 0   \n",
       "14                       0           0                   0                 0   \n",
       "15                       0           1                  11              1960   \n",
       "...                    ...         ...                 ...               ...   \n",
       "1771                     0           0                   0               186   \n",
       "1773                     0           0                   0               186   \n",
       "1774                     0           0                   0               186   \n",
       "1775                     0           0                   0               124   \n",
       "1776                     2           6                  87            132181   \n",
       "\n",
       "      REMOTE_APP_BYTES  DNS_QUERY_TIMES  Type  \n",
       "1                 1230              0.0     0  \n",
       "6                 1327              2.0     0  \n",
       "10                   0              0.0     0  \n",
       "14                   0              0.0     0  \n",
       "15                1011              4.0     1  \n",
       "...                ...              ...   ...  \n",
       "1771                 0              0.0     1  \n",
       "1773                 0              0.0     1  \n",
       "1774                 0              0.0     1  \n",
       "1775                 0              0.0     1  \n",
       "1776              6945              4.0     0  \n",
       "\n",
       "[642 rows x 12 columns]"
      ]
     },
     "execution_count": 36,
     "metadata": {},
     "output_type": "execute_result"
    }
   ],
   "source": [
    "#We print the percentage of all apache servers and all rows that have them.\n",
    "\n",
    "print(len(df_other[df_other[\"SERVER\"].str.contains(\"Apache\")==True])/len(df_other))\n",
    "df_other[df_other[\"SERVER\"].str.contains(\"Apache\")==True]"
   ]
  },
  {
   "cell_type": "code",
   "execution_count": 37,
   "metadata": {},
   "outputs": [
    {
     "name": "stdout",
     "output_type": "stream",
     "text": [
      "nginx: 0.24451939291736932\n",
      "Microsoft: 0.11129848229342328\n"
     ]
    }
   ],
   "source": [
    "#We do the same for nginx and Microsoft\n",
    "print(\"nginx: \" + str(len(df_other[df_other[\"SERVER\"].str.contains(\"nginx\")==True])/len(df_other)))\n",
    "print(\"Microsoft: \" + str(len(df_other[df_other[\"SERVER\"].str.contains(\"Microsoft\")==True])/len(df_other)))"
   ]
  },
  {
   "cell_type": "markdown",
   "metadata": {},
   "source": [
    "**Together, these three server types account for around 70% of the instances.**"
   ]
  },
  {
   "cell_type": "code",
   "execution_count": 38,
   "metadata": {},
   "outputs": [
    {
     "data": {
      "text/plain": [
       "0                        nginx\n",
       "1                Apache/2.4.10\n",
       "2        Microsoft-HTTPAPI/2.0\n",
       "3                        nginx\n",
       "4                         None\n",
       "                 ...          \n",
       "1774                    Apache\n",
       "1775                    Apache\n",
       "1776    Apache/2.2.16 (Debian)\n",
       "1777          cloudflare-nginx\n",
       "1778         Microsoft-IIS/8.5\n",
       "Name: SERVER, Length: 1779, dtype: object"
      ]
     },
     "execution_count": 38,
     "metadata": {},
     "output_type": "execute_result"
    }
   ],
   "source": [
    "df_other[\"SERVER\"]"
   ]
  },
  {
   "cell_type": "markdown",
   "metadata": {},
   "source": [
    "Although there are so many unique values in the `SERVER` column, there are actually only 3 main server types: `Microsoft`, `Apache`, and `nginx`. Just check if each `SERVER` value contains any of those server types and re-label them. For `SERVER` values that don't contain any of those substrings, label with `Other`.\n",
    "\n",
    "At the end, your `SERVER` column should only contain 4 unique values: `Microsoft`, `Apache`, `nginx`, and `Other`."
   ]
  },
  {
   "cell_type": "code",
   "execution_count": 39,
   "metadata": {},
   "outputs": [
    {
     "name": "stderr",
     "output_type": "stream",
     "text": [
      "<ipython-input-39-447c5733c296>:6: SettingWithCopyWarning: \n",
      "A value is trying to be set on a copy of a slice from a DataFrame\n",
      "\n",
      "See the caveats in the documentation: https://pandas.pydata.org/pandas-docs/stable/user_guide/indexing.html#returning-a-view-versus-a-copy\n",
      "  df_other[\"SERVER\"][i]=s\n"
     ]
    }
   ],
   "source": [
    "#We'll create a loop to replace each value.\n",
    "servers=[\"Apache\",\"nginx\",\"Microsoft\"]\n",
    "for s in servers:\n",
    "    for i in range(len(df_other)):\n",
    "        if s in df_other[\"SERVER\"][i]:\n",
    "            df_other[\"SERVER\"][i]=s"
   ]
  },
  {
   "cell_type": "code",
   "execution_count": 40,
   "metadata": {},
   "outputs": [
    {
     "name": "stderr",
     "output_type": "stream",
     "text": [
      "<ipython-input-40-15281b40d49f>:4: SettingWithCopyWarning: \n",
      "A value is trying to be set on a copy of a slice from a DataFrame\n",
      "\n",
      "See the caveats in the documentation: https://pandas.pydata.org/pandas-docs/stable/user_guide/indexing.html#returning-a-view-versus-a-copy\n",
      "  df_other[\"SERVER\"][i]=\"Other\"\n"
     ]
    }
   ],
   "source": [
    "for i in range(len(df_other)):\n",
    "    for s in servers:\n",
    "        if all(s not in df_other[\"SERVER\"][i] for s in servers):\n",
    "            df_other[\"SERVER\"][i]=\"Other\""
   ]
  },
  {
   "cell_type": "markdown",
   "metadata": {},
   "source": [
    "**Let's confirm that the changes are made and that the percentages have not shifted**"
   ]
  },
  {
   "cell_type": "code",
   "execution_count": 42,
   "metadata": {
    "scrolled": false
   },
   "outputs": [
    {
     "name": "stdout",
     "output_type": "stream",
     "text": [
      "Apache       642\n",
      "Other        504\n",
      "nginx        435\n",
      "Microsoft    198\n",
      "Name: SERVER, dtype: int64\n",
      "Apache       0.360877\n",
      "Other        0.283305\n",
      "nginx        0.244519\n",
      "Microsoft    0.111298\n",
      "Name: SERVER, dtype: float64\n"
     ]
    }
   ],
   "source": [
    "print(df_other[\"SERVER\"].value_counts())\n",
    "print(df_other[\"SERVER\"].value_counts()/len(df_other))"
   ]
  },
  {
   "cell_type": "markdown",
   "metadata": {},
   "source": [
    "**Everything is in order**"
   ]
  },
  {
   "cell_type": "markdown",
   "metadata": {},
   "source": [
    "OK, all our categorical data are fixed now. **Let's convert them to ordinal data using Pandas' `get_dummies` function ([documentation](https://pandas.pydata.org/pandas-docs/stable/generated/pandas.get_dummies.html)).** Make sure you drop the categorical columns by passing `drop_first=True` to `get_dummies` as we don't need them any more. **Also, assign the data with dummy values to a new variable `website_dummy`.**"
   ]
  },
  {
   "cell_type": "code",
   "execution_count": 43,
   "metadata": {},
   "outputs": [],
   "source": [
    "# Your code here\n",
    "df_dummy=pd.get_dummies(df_other,drop_first=True)"
   ]
  },
  {
   "cell_type": "markdown",
   "metadata": {},
   "source": [
    "Now, inspect `website_dummy` to make sure the data and types are intended - there shouldn't be any categorical columns at this point."
   ]
  },
  {
   "cell_type": "code",
   "execution_count": 44,
   "metadata": {},
   "outputs": [
    {
     "data": {
      "text/plain": [
       "URL_LENGTH                     int64\n",
       "NUMBER_SPECIAL_CHARACTERS      int64\n",
       "DIST_REMOTE_TCP_PORT           int64\n",
       "REMOTE_IPS                     int64\n",
       "SOURCE_APP_PACKETS             int64\n",
       "SOURCE_APP_BYTES               int64\n",
       "REMOTE_APP_BYTES               int64\n",
       "DNS_QUERY_TIMES              float64\n",
       "Type                           int64\n",
       "CHARSET_ISO-8859-1             uint8\n",
       "CHARSET_None                   uint8\n",
       "CHARSET_UTF-8                  uint8\n",
       "CHARSET_iso-8859-1             uint8\n",
       "CHARSET_us-ascii               uint8\n",
       "CHARSET_utf-8                  uint8\n",
       "CHARSET_windows-1251           uint8\n",
       "CHARSET_windows-1252           uint8\n",
       "SERVER_Microsoft               uint8\n",
       "SERVER_Other                   uint8\n",
       "SERVER_nginx                   uint8\n",
       "WHOIS_COUNTRY_CA               uint8\n",
       "WHOIS_COUNTRY_ES               uint8\n",
       "WHOIS_COUNTRY_GB               uint8\n",
       "WHOIS_COUNTRY_JP               uint8\n",
       "WHOIS_COUNTRY_None             uint8\n",
       "WHOIS_COUNTRY_Other            uint8\n",
       "WHOIS_COUNTRY_PA               uint8\n",
       "WHOIS_COUNTRY_UK               uint8\n",
       "WHOIS_COUNTRY_US               uint8\n",
       "dtype: object"
      ]
     },
     "execution_count": 44,
     "metadata": {},
     "output_type": "execute_result"
    }
   ],
   "source": [
    "# Your code here\n",
    "df_dummy.dtypes"
   ]
  },
  {
   "cell_type": "markdown",
   "metadata": {},
   "source": [
    "# Challenge 6 - Modeling, Prediction, and Evaluation\n",
    "\n",
    "We'll start off this section by splitting the data to train and test. **Name your 4 variables `X_train`, `X_test`, `y_train`, and `y_test`. Select 80% of the data for training and 20% for testing.**"
   ]
  },
  {
   "cell_type": "code",
   "execution_count": 46,
   "metadata": {},
   "outputs": [
    {
     "name": "stdout",
     "output_type": "stream",
     "text": [
      "(1423,) (356,)\n"
     ]
    },
    {
     "data": {
      "text/plain": [
       "((1423, 28), (356, 28))"
      ]
     },
     "execution_count": 46,
     "metadata": {},
     "output_type": "execute_result"
    }
   ],
   "source": [
    "#We split the data into testing and training sets. The target variable, \"Type\" goes into the Y variable, whereas the others, as predictors, go into the \"X\".\n",
    "\n",
    "from sklearn.model_selection import train_test_split\n",
    "\n",
    "# Your code here:\n",
    "y=df_dummy[\"Type\"]\n",
    "x=df_dummy.drop([\"Type\"],axis=\"columns\")\n",
    "x_train, x_test, y_train, y_test=train_test_split(x,y,test_size=.2)\n",
    "print(y_train.shape,y_test.shape)\n",
    "x_train.shape,x_test.shape"
   ]
  },
  {
   "cell_type": "markdown",
   "metadata": {},
   "source": [
    "#### In this lab, we will try two different models and compare our results.\n",
    "\n",
    "The first model we will use in this lab is logistic regression. We have previously learned about logistic regression as a classification algorithm. In the cell below, load `LogisticRegression` from scikit-learn and initialize the model."
   ]
  },
  {
   "cell_type": "code",
   "execution_count": 51,
   "metadata": {},
   "outputs": [],
   "source": [
    "# Your code here:\n",
    "from sklearn.linear_model import LogisticRegression\n",
    "log_reg=LogisticRegression(random_state=0,max_iter=10000)"
   ]
  },
  {
   "cell_type": "markdown",
   "metadata": {},
   "source": [
    "Next, fit the model to our training data. We have already separated our data into 4 parts. Use those in your model."
   ]
  },
  {
   "cell_type": "code",
   "execution_count": 52,
   "metadata": {},
   "outputs": [
    {
     "data": {
      "text/plain": [
       "LogisticRegression(max_iter=10000, random_state=0)"
      ]
     },
     "execution_count": 52,
     "metadata": {},
     "output_type": "execute_result"
    }
   ],
   "source": [
    "# Your code here:\n",
    "log_reg.fit(x_train,y_train)"
   ]
  },
  {
   "cell_type": "markdown",
   "metadata": {},
   "source": [
    "finally, import `confusion_matrix` and `accuracy_score` from `sklearn.metrics` and fit our testing data. Assign the fitted data to `y_pred` and print the confusion matrix as well as the accuracy score"
   ]
  },
  {
   "cell_type": "code",
   "execution_count": 53,
   "metadata": {
    "scrolled": true
   },
   "outputs": [
    {
     "name": "stdout",
     "output_type": "stream",
     "text": [
      "Recall Score: 0.6122448979591837\n",
      "Accuracy Score: 0.9269662921348315\n",
      "F1 score: 0.6976744186046512\n",
      "Cohen's Kappa score: 0.6570581696924787\n"
     ]
    },
    {
     "data": {
      "image/png": "[encoded data removed]",
      "text/plain": [
       "<Figure size 360x216 with 2 Axes>"
      ]
     },
     "metadata": {
      "needs_background": "light"
     },
     "output_type": "display_data"
    }
   ],
   "source": [
    "from sklearn import metrics\n",
    "\n",
    "test_pred = log_reg.predict(x_test)\n",
    "\n",
    "df_cm = pd.DataFrame(metrics.confusion_matrix(y_test, test_pred), index = [i for i in \"AB\"], columns = [i for i in \"AB\"])\n",
    "plt.figure(figsize = (5,3))\n",
    "sn.heatmap(df_cm, annot=True)\n",
    "\n",
    "print(\"Recall Score: \"+str(metrics.recall_score(y_test, test_pred)))\n",
    "print(\"Accuracy Score: \"+str(metrics.accuracy_score(y_test, test_pred)))\n",
    "print(\"F1 score: \"+str(metrics.f1_score(y_test, test_pred)))\n",
    "print(\"Cohen's Kappa score: \"+str(metrics.cohen_kappa_score(y_test, test_pred)))"
   ]
  },
  {
   "cell_type": "markdown",
   "metadata": {},
   "source": [
    "The metrics we use to evaluate our model should always reflect our business question. As we saw earlier, the proportion of positive to negative results for the target variable is highly assymetrical: Far more websites are benign than malicious. Thus, accuracy, which is applied to symmetrical datasets, is not a good metric for our model. We will instead focus on Recall, which is useful when the cost of False Negatives is high. Intuitively, Recall measures the numer of correctly identified positive cases from all the actual positive cases. In our case, we will assume that the cost of missing a malicious website is higher than the cost of incorrecty identifying a benign one. The overall number of malicious websites is low, meaning that we can dedicate resources to analyze each website identified as malicious in detail before taking action. In addition to Recall, we'll also want to print the condusion matrix, which shows all clasifications, and COhen's Kappa score, which tells us whether our model can predict with greater accuracy than if the classifications were made by chance.\n",
    "\n",
    "Though accuracy is high and Cohen's Kappa score is positive, we have an r^2 of only around 40%, far lower than it was on our training set. One way to fix this is by scaling our variables. Let's run the model again after using a standard scaler on our X sets. Note that we do not need to scale Y, since it contains a single categorical column with values of only 1 or 0."
   ]
  },
  {
   "cell_type": "code",
   "execution_count": 54,
   "metadata": {},
   "outputs": [
    {
     "data": {
      "text/plain": [
       "LogisticRegression(max_iter=10000, random_state=0)"
      ]
     },
     "execution_count": 54,
     "metadata": {},
     "output_type": "execute_result"
    }
   ],
   "source": [
    "from sklearn.preprocessing import StandardScaler\n",
    "sc_x=StandardScaler()\n",
    "sc_x_train= sc_x.fit_transform(x_train)\n",
    "sc_x_test= sc_x.fit_transform(x_test)\n",
    "log_reg_sc=LogisticRegression(random_state=0,max_iter=10000)\n",
    "log_reg_sc.fit(sc_x_train,y_train)"
   ]
  },
  {
   "cell_type": "code",
   "execution_count": 55,
   "metadata": {
    "scrolled": true
   },
   "outputs": [
    {
     "name": "stdout",
     "output_type": "stream",
     "text": [
      "Recall Score: 0.7346938775510204\n",
      "Accuracy Score: 0.9438202247191011\n",
      "F1 score: 0.782608695652174\n",
      "Cohen's Kappa score: 0.7505080944705306\n"
     ]
    },
    {
     "data": {
      "image/png": "[encoded data removed]",
      "text/plain": [
       "<Figure size 360x216 with 2 Axes>"
      ]
     },
     "metadata": {
      "needs_background": "light"
     },
     "output_type": "display_data"
    }
   ],
   "source": [
    "test_pred = log_reg_sc.predict(sc_x_test)\n",
    "\n",
    "df_cm = pd.DataFrame(metrics.confusion_matrix(y_test, test_pred), index = [i for i in \"AB\"], columns = [i for i in \"AB\"])\n",
    "plt.figure(figsize = (5,3))\n",
    "sn.heatmap(df_cm, annot=True)\n",
    "\n",
    "print(\"Recall Score: \"+str(metrics.recall_score(y_test, test_pred)))\n",
    "print(\"Accuracy Score: \"+str(metrics.accuracy_score(y_test, test_pred)))\n",
    "print(\"F1 score: \"+str(metrics.f1_score(y_test, test_pred)))\n",
    "print(\"Cohen's Kappa score: \"+str(metrics.cohen_kappa_score(y_test, test_pred)))"
   ]
  },
  {
   "cell_type": "markdown",
   "metadata": {},
   "source": [
    "**Our Recall score improved by 31%!. You can see that the number of false engatives decreased from 20 to 12. Moreover, our F1 score and Cohen's Kappa score also improved noticeably. Scaling our variables payed off.**\n",
    "\n",
    "**Even so, let's see if we can get even better results. We'll try a different algorithm: K-Nearest Neighbors. We'll start with k=3. We'll run the algorithm with Euclidean distance, which is the default parameter (metric=\"minkowski\",p=2). We´ll also run the model with scaled data from the start.**"
   ]
  },
  {
   "cell_type": "markdown",
   "metadata": {},
   "source": [
    "#### Our second algorithm is is K-Nearest Neighbors. \n",
    "\n",
    "Though is it not required, we will fit a model using the training data and then test the performance of the model using the testing data. Start by loading `KNeighborsClassifier` from scikit-learn and then initializing and fitting the model. We'll start off with a model where k=3."
   ]
  },
  {
   "cell_type": "markdown",
   "metadata": {},
   "source": [
    "To test your model, compute the predicted values for the testing sample and print the confusion matrix as well as the accuracy score."
   ]
  },
  {
   "cell_type": "code",
   "execution_count": 58,
   "metadata": {
    "scrolled": false
   },
   "outputs": [
    {
     "name": "stdout",
     "output_type": "stream",
     "text": [
      "Recall Score: 0.7142857142857143\n",
      "Accuracy Score: 0.9438202247191011\n",
      "F1 score: 0.7777777777777778\n",
      "Cohen's Kappa score: 0.7459139247733924\n"
     ]
    },
    {
     "data": {
      "image/png": "[encoded data removed]",
      "text/plain": [
       "<Figure size 360x216 with 2 Axes>"
      ]
     },
     "metadata": {
      "needs_background": "light"
     },
     "output_type": "display_data"
    }
   ],
   "source": [
    "# KNN with 5 clusters.\n",
    "\n",
    "kn_classifier_5=KNeighborsClassifier(n_neighbors=5)\n",
    "kn_classifier_5.fit(sc_x_train,y_train)\n",
    "kn_classifier_5.score(sc_x_train,y_train)\n",
    "\n",
    "test_pred_k = kn_classifier_5.predict(sc_x_test)\n",
    "\n",
    "\n",
    "df_cm = pd.DataFrame(metrics.confusion_matrix(y_test, test_pred_k), index = [i for i in \"AB\"], columns = [i for i in \"AB\"])\n",
    "plt.figure(figsize = (5,3))\n",
    "sn.heatmap(df_cm, annot=True)\n",
    "\n",
    "\n",
    "print(\"Recall Score: \"+str(metrics.recall_score(y_test, test_pred_k)))\n",
    "print(\"Accuracy Score: \"+str(metrics.accuracy_score(y_test, test_pred_k)))\n",
    "print(\"F1 score: \"+str(metrics.f1_score(y_test, test_pred_k)))\n",
    "print(\"Cohen's Kappa score: \"+str(metrics.cohen_kappa_score(y_test, test_pred_k)))\n",
    "\n"
   ]
  },
  {
   "cell_type": "markdown",
   "metadata": {},
   "source": [
    "**Our Cohen's Kappa improves slightly, but our Recall decreased as well. Let's tune the number of clusters from 3 to 5**"
   ]
  },
  {
   "cell_type": "markdown",
   "metadata": {},
   "source": [
    "#### We'll create another K-Nearest Neighbors model with k=3. \n",
    "\n",
    "Initialize and fit the model below and print the confusion matrix and the accuracy score."
   ]
  },
  {
   "cell_type": "code",
   "execution_count": 57,
   "metadata": {
    "scrolled": false
   },
   "outputs": [
    {
     "name": "stdout",
     "output_type": "stream",
     "text": [
      "Recall Score: 0.7755102040816326\n",
      "Accuracy Score: 0.949438202247191\n",
      "F1 score: 0.8085106382978723\n",
      "Cohen's Kappa score: 0.7794451710607834\n"
     ]
    },
    {
     "data": {
      "image/png": "[encoded data removed]",
      "text/plain": [
       "<Figure size 360x216 with 2 Axes>"
      ]
     },
     "metadata": {
      "needs_background": "light"
     },
     "output_type": "display_data"
    }
   ],
   "source": [
    "from sklearn.neighbors import KNeighborsClassifier\n",
    "\n",
    "# KNN wth 3 clusters.\n",
    "\n",
    "kn_classifier=KNeighborsClassifier(n_neighbors=3)\n",
    "kn_classifier.fit(sc_x_train,y_train)\n",
    "kn_classifier.score(sc_x_train,y_train)\n",
    "\n",
    "test_pred_k = kn_classifier.predict(sc_x_test)\n",
    "\n",
    "df_cm = pd.DataFrame(metrics.confusion_matrix(y_test, test_pred_k), index = [i for i in \"AB\"], columns = [i for i in \"AB\"])\n",
    "plt.figure(figsize = (5,3))\n",
    "sn.heatmap(df_cm, annot=True)\n",
    "\n",
    "\n",
    "print(\"Recall Score: \"+str(metrics.recall_score(y_test, test_pred_k)))\n",
    "print(\"Accuracy Score: \"+str(metrics.accuracy_score(y_test, test_pred_k)))\n",
    "print(\"F1 score: \"+str(metrics.f1_score(y_test, test_pred_k)))\n",
    "print(\"Cohen's Kappa score: \"+str(metrics.cohen_kappa_score(y_test, test_pred_k)))\n",
    "\n"
   ]
  },
  {
   "cell_type": "markdown",
   "metadata": {},
   "source": [
    "**We get a 9% increase in Recall score!**"
   ]
  },
  {
   "cell_type": "code",
   "execution_count": 60,
   "metadata": {
    "collapsed": true
   },
   "outputs": [
    {
     "name": "stdout",
     "output_type": "stream",
     "text": [
      "Recall Score: 0.7755102040816326\n",
      "Recall Score: 0.6938775510204082\n",
      "Recall Score: 0.7959183673469388\n",
      "Recall Score: 0.673469387755102\n",
      "Recall Score: 0.7142857142857143\n",
      "Recall Score: 0.6938775510204082\n",
      "Recall Score: 0.7142857142857143\n",
      "Recall Score: 0.6530612244897959\n",
      "Recall Score: 0.6938775510204082\n",
      "Recall Score: 0.673469387755102\n",
      "Recall Score: 0.6938775510204082\n",
      "Recall Score: 0.673469387755102\n",
      "Recall Score: 0.6938775510204082\n",
      "Recall Score: 0.6938775510204082\n",
      "Recall Score: 0.6938775510204082\n",
      "Recall Score: 0.6530612244897959\n",
      "Recall Score: 0.6530612244897959\n",
      "Recall Score: 0.5918367346938775\n",
      "Recall Score: 0.5918367346938775\n",
      "Recall Score: 0.5918367346938775\n",
      "Recall Score: 0.5918367346938775\n",
      "Recall Score: 0.5714285714285714\n",
      "Recall Score: 0.5918367346938775\n",
      "Recall Score: 0.5510204081632653\n",
      "Recall Score: 0.5510204081632653\n",
      "Recall Score: 0.5306122448979592\n",
      "Recall Score: 0.5306122448979592\n",
      "Recall Score: 0.5306122448979592\n",
      "Recall Score: 0.5306122448979592\n",
      "Recall Score: 0.5306122448979592\n",
      "Recall Score: 0.5306122448979592\n",
      "Recall Score: 0.5306122448979592\n",
      "Recall Score: 0.5306122448979592\n",
      "Recall Score: 0.5306122448979592\n",
      "Recall Score: 0.5306122448979592\n",
      "Recall Score: 0.5306122448979592\n",
      "Recall Score: 0.5306122448979592\n",
      "Recall Score: 0.5306122448979592\n",
      "Recall Score: 0.5306122448979592\n",
      "Recall Score: 0.5306122448979592\n",
      "Recall Score: 0.5306122448979592\n",
      "Recall Score: 0.5306122448979592\n",
      "Recall Score: 0.5306122448979592\n",
      "Recall Score: 0.5306122448979592\n",
      "Recall Score: 0.5306122448979592\n",
      "Recall Score: 0.5306122448979592\n",
      "Recall Score: 0.5306122448979592\n",
      "Recall Score: 0.5306122448979592\n",
      "Recall Score: 0.5306122448979592\n",
      "Recall Score: 0.5306122448979592\n",
      "Recall Score: 0.7755102040816326\n",
      "Recall Score: 0.7755102040816326\n",
      "Recall Score: 0.7959183673469388\n",
      "Recall Score: 0.7755102040816326\n",
      "Recall Score: 0.7346938775510204\n",
      "Recall Score: 0.7755102040816326\n",
      "Recall Score: 0.7346938775510204\n",
      "Recall Score: 0.7142857142857143\n",
      "Recall Score: 0.6938775510204082\n",
      "Recall Score: 0.6938775510204082\n",
      "Recall Score: 0.6938775510204082\n",
      "Recall Score: 0.6938775510204082\n",
      "Recall Score: 0.6938775510204082\n",
      "Recall Score: 0.6938775510204082\n",
      "Recall Score: 0.6938775510204082\n",
      "Recall Score: 0.6938775510204082\n",
      "Recall Score: 0.6938775510204082\n",
      "Recall Score: 0.6938775510204082\n",
      "Recall Score: 0.6938775510204082\n",
      "Recall Score: 0.6938775510204082\n",
      "Recall Score: 0.6938775510204082\n",
      "Recall Score: 0.6938775510204082\n",
      "Recall Score: 0.6938775510204082\n",
      "Recall Score: 0.6938775510204082\n",
      "Recall Score: 0.6530612244897959\n",
      "Recall Score: 0.6530612244897959\n",
      "Recall Score: 0.6122448979591837\n",
      "Recall Score: 0.5918367346938775\n",
      "Recall Score: 0.5918367346938775\n",
      "Recall Score: 0.5918367346938775\n",
      "Recall Score: 0.5918367346938775\n",
      "Recall Score: 0.5918367346938775\n",
      "Recall Score: 0.5714285714285714\n",
      "Recall Score: 0.5714285714285714\n",
      "Recall Score: 0.5714285714285714\n",
      "Recall Score: 0.5510204081632653\n",
      "Recall Score: 0.5306122448979592\n",
      "Recall Score: 0.5306122448979592\n",
      "Recall Score: 0.5306122448979592\n",
      "Recall Score: 0.5306122448979592\n",
      "Recall Score: 0.5306122448979592\n",
      "Recall Score: 0.5306122448979592\n",
      "Recall Score: 0.5306122448979592\n",
      "Recall Score: 0.5306122448979592\n",
      "Recall Score: 0.5306122448979592\n",
      "Recall Score: 0.5306122448979592\n",
      "Recall Score: 0.5306122448979592\n",
      "Recall Score: 0.5306122448979592\n",
      "Recall Score: 0.5306122448979592\n",
      "Recall Score: 0.5306122448979592\n",
      "Recall Score: 0.7551020408163265\n",
      "Recall Score: 0.7142857142857143\n",
      "Recall Score: 0.7755102040816326\n",
      "Recall Score: 0.673469387755102\n",
      "Recall Score: 0.7142857142857143\n",
      "Recall Score: 0.6938775510204082\n",
      "Recall Score: 0.6938775510204082\n",
      "Recall Score: 0.6530612244897959\n",
      "Recall Score: 0.6530612244897959\n",
      "Recall Score: 0.6530612244897959\n",
      "Recall Score: 0.673469387755102\n",
      "Recall Score: 0.6122448979591837\n",
      "Recall Score: 0.6326530612244898\n",
      "Recall Score: 0.6326530612244898\n",
      "Recall Score: 0.673469387755102\n",
      "Recall Score: 0.6326530612244898\n",
      "Recall Score: 0.6326530612244898\n",
      "Recall Score: 0.5714285714285714\n",
      "Recall Score: 0.5714285714285714\n",
      "Recall Score: 0.5510204081632653\n",
      "Recall Score: 0.5714285714285714\n",
      "Recall Score: 0.5510204081632653\n",
      "Recall Score: 0.5714285714285714\n",
      "Recall Score: 0.5102040816326531\n",
      "Recall Score: 0.5102040816326531\n",
      "Recall Score: 0.5102040816326531\n",
      "Recall Score: 0.5102040816326531\n",
      "Recall Score: 0.5102040816326531\n",
      "Recall Score: 0.5102040816326531\n",
      "Recall Score: 0.5102040816326531\n",
      "Recall Score: 0.5102040816326531\n",
      "Recall Score: 0.5102040816326531\n",
      "Recall Score: 0.5102040816326531\n",
      "Recall Score: 0.5102040816326531\n",
      "Recall Score: 0.5102040816326531\n",
      "Recall Score: 0.5102040816326531\n",
      "Recall Score: 0.5102040816326531\n",
      "Recall Score: 0.5102040816326531\n",
      "Recall Score: 0.5102040816326531\n",
      "Recall Score: 0.5102040816326531\n",
      "Recall Score: 0.5102040816326531\n",
      "Recall Score: 0.5102040816326531\n",
      "Recall Score: 0.5102040816326531\n",
      "Recall Score: 0.5102040816326531\n",
      "Recall Score: 0.5102040816326531\n",
      "Recall Score: 0.5102040816326531\n",
      "Recall Score: 0.5102040816326531\n",
      "Recall Score: 0.5102040816326531\n",
      "Recall Score: 0.5102040816326531\n",
      "Recall Score: 0.4897959183673469\n",
      "Recall Score: 0.7551020408163265\n",
      "Recall Score: 0.7551020408163265\n",
      "Recall Score: 0.7755102040816326\n",
      "Recall Score: 0.7551020408163265\n",
      "Recall Score: 0.7142857142857143\n",
      "Recall Score: 0.7346938775510204\n",
      "Recall Score: 0.6938775510204082\n",
      "Recall Score: 0.6938775510204082\n",
      "Recall Score: 0.6530612244897959\n",
      "Recall Score: 0.6530612244897959\n",
      "Recall Score: 0.673469387755102\n",
      "Recall Score: 0.6530612244897959\n",
      "Recall Score: 0.673469387755102\n",
      "Recall Score: 0.673469387755102\n",
      "Recall Score: 0.673469387755102\n",
      "Recall Score: 0.673469387755102\n",
      "Recall Score: 0.673469387755102\n",
      "Recall Score: 0.673469387755102\n",
      "Recall Score: 0.673469387755102\n",
      "Recall Score: 0.673469387755102\n",
      "Recall Score: 0.673469387755102\n",
      "Recall Score: 0.673469387755102\n",
      "Recall Score: 0.673469387755102\n",
      "Recall Score: 0.673469387755102\n",
      "Recall Score: 0.6326530612244898\n",
      "Recall Score: 0.673469387755102\n",
      "Recall Score: 0.6326530612244898\n",
      "Recall Score: 0.6326530612244898\n",
      "Recall Score: 0.6122448979591837\n",
      "Recall Score: 0.6326530612244898\n",
      "Recall Score: 0.6326530612244898\n",
      "Recall Score: 0.6122448979591837\n",
      "Recall Score: 0.5918367346938775\n",
      "Recall Score: 0.5714285714285714\n",
      "Recall Score: 0.5306122448979592\n",
      "Recall Score: 0.5102040816326531\n",
      "Recall Score: 0.5102040816326531\n",
      "Recall Score: 0.5102040816326531\n",
      "Recall Score: 0.5102040816326531\n",
      "Recall Score: 0.5102040816326531\n",
      "Recall Score: 0.5102040816326531\n",
      "Recall Score: 0.5102040816326531\n",
      "Recall Score: 0.5102040816326531\n",
      "Recall Score: 0.5102040816326531\n",
      "Recall Score: 0.5102040816326531\n",
      "Recall Score: 0.5102040816326531\n",
      "Recall Score: 0.5102040816326531\n",
      "Recall Score: 0.5102040816326531\n",
      "Recall Score: 0.5102040816326531\n",
      "Recall Score: 0.5102040816326531\n"
     ]
    }
   ],
   "source": [
    "for p in [1,2]:\n",
    "    for w in [\"uniform\",\"distance\"]:\n",
    "        for k in range (1,51):\n",
    "            kn_classifier=KNeighborsClassifier(n_neighbors=k,weights=w,p=p)\n",
    "            kn_classifier.fit(sc_x_train,y_train)\n",
    "            test_pred_k = kn_classifier.predict(sc_x_test)\n",
    "            print(\"Recall Score: \"+str(metrics.recall_score(y_test, test_pred_k)))"
   ]
  },
  {
   "cell_type": "markdown",
   "metadata": {},
   "source": [
    "Did you see an improvement in the confusion matrix when increasing k to 5? Did you see an improvement in the accuracy score? Write your conclusions below."
   ]
  },
  {
   "cell_type": "markdown",
   "metadata": {},
   "source": [
    "# Your conclusions here:\n",
    "Small improvement in accuracy from k=3 to k=5\n",
    "\n"
   ]
  },
  {
   "cell_type": "markdown",
   "metadata": {},
   "source": [
    "# Bonus Challenge - Feature Scaling\n",
    "\n",
    "Problem-solving in machine learning is iterative. You can improve your model prediction with various techniques (there is a sweetspot for the time you spend and the improvement you receive though). Now you've completed only one iteration of ML analysis. There are more iterations you can conduct to make improvements. In order to be able to do that, you will need deeper knowledge in statistics and master more data analysis techniques. In this bootcamp, we don't have time to achieve that advanced goal. But you will make constant efforts after the bootcamp to eventually get there.\n",
    "\n",
    "However, now we do want you to learn one of the advanced techniques which is called *feature scaling*. The idea of feature scaling is to standardize/normalize the range of independent variables or features of the data. This can make the outliers more apparent so that you can remove them. This step needs to happen during Challenge 6 after you split the training and test data because you don't want to split the data again which makes it impossible to compare your results with and without feature scaling. For general concepts about feature scaling, click [here](https://en.wikipedia.org/wiki/Feature_scaling). To read deeper, click [here](https://medium.com/greyatom/why-how-and-when-to-scale-your-features-4b30ab09db5e).\n",
    "\n",
    "In the next cell, attempt to improve your model prediction accuracy by means of feature scaling. A library you can utilize is `sklearn.preprocessing.RobustScaler` ([documentation](https://scikit-learn.org/stable/modules/generated/sklearn.preprocessing.RobustScaler.html)). You'll use the `RobustScaler` to fit and transform your `X_train`, then transform `X_test`. You will use logistic regression to fit and predict your transformed data and obtain the accuracy score in the same way. Compare the accuracy score with your normalized data with the previous accuracy data. Is there an improvement?"
   ]
  },
  {
   "cell_type": "code",
   "execution_count": 38,
   "metadata": {},
   "outputs": [],
   "source": [
    "# Your code here"
   ]
  }
 ],
 "metadata": {
  "kernelspec": {
   "display_name": "Python 3",
   "language": "python",
   "name": "python3"
  },
  "language_info": {
   "codemirror_mode": {
    "name": "ipython",
    "version": 3
   },
   "file_extension": ".py",
   "mimetype": "text/x-python",
   "name": "python",
   "nbconvert_exporter": "python",
   "pygments_lexer": "ipython3",
   "version": "3.8.3"
  }
 },
 "nbformat": 4,
 "nbformat_minor": 2
}
