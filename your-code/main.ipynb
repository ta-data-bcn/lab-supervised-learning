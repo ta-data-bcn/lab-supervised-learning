{
 "cells": [
  {
   "cell_type": "markdown",
   "metadata": {},
   "source": [
    "# Before your start:\n",
    "- Read the README.md file\n",
    "- Comment as much as you can and use the resources in the README.md file\n",
    "- Happy learning!"
   ]
  },
  {
   "cell_type": "code",
   "execution_count": 1,
   "metadata": {},
   "outputs": [],
   "source": [
    "# Import your libraries:\n",
    "\n",
    "%matplotlib inline\n",
    "\n",
    "import numpy as np\n",
    "import pandas as pd"
   ]
  },
  {
   "cell_type": "markdown",
   "metadata": {},
   "source": [
    "In this lab, we will explore a dataset that describes websites with different features and labels them either benign or malicious . We will use supervised learning algorithms to figure out what feature patterns malicious websites are likely to have and use our model to predict malicious websites.\n",
    "\n",
    "# Challenge 1 - Explore The Dataset\n",
    "\n",
    "Let's start by exploring the dataset. First load the data file:"
   ]
  },
  {
   "cell_type": "code",
   "execution_count": 2,
   "metadata": {},
   "outputs": [],
   "source": [
    "websites = pd.read_csv('../data/website.csv')"
   ]
  },
  {
   "cell_type": "code",
   "execution_count": 3,
   "metadata": {},
   "outputs": [
    {
     "data": {
      "text/html": [
       "<div>\n",
       "<style scoped>\n",
       "    .dataframe tbody tr th:only-of-type {\n",
       "        vertical-align: middle;\n",
       "    }\n",
       "\n",
       "    .dataframe tbody tr th {\n",
       "        vertical-align: top;\n",
       "    }\n",
       "\n",
       "    .dataframe thead th {\n",
       "        text-align: right;\n",
       "    }\n",
       "</style>\n",
       "<table border=\"1\" class=\"dataframe\">\n",
       "  <thead>\n",
       "    <tr style=\"text-align: right;\">\n",
       "      <th></th>\n",
       "      <th>URL</th>\n",
       "      <th>URL_LENGTH</th>\n",
       "      <th>NUMBER_SPECIAL_CHARACTERS</th>\n",
       "      <th>CHARSET</th>\n",
       "      <th>SERVER</th>\n",
       "      <th>CONTENT_LENGTH</th>\n",
       "      <th>WHOIS_COUNTRY</th>\n",
       "      <th>WHOIS_STATEPRO</th>\n",
       "      <th>WHOIS_REGDATE</th>\n",
       "      <th>WHOIS_UPDATED_DATE</th>\n",
       "      <th>...</th>\n",
       "      <th>DIST_REMOTE_TCP_PORT</th>\n",
       "      <th>REMOTE_IPS</th>\n",
       "      <th>APP_BYTES</th>\n",
       "      <th>SOURCE_APP_PACKETS</th>\n",
       "      <th>REMOTE_APP_PACKETS</th>\n",
       "      <th>SOURCE_APP_BYTES</th>\n",
       "      <th>REMOTE_APP_BYTES</th>\n",
       "      <th>APP_PACKETS</th>\n",
       "      <th>DNS_QUERY_TIMES</th>\n",
       "      <th>Type</th>\n",
       "    </tr>\n",
       "  </thead>\n",
       "  <tbody>\n",
       "    <tr>\n",
       "      <th>0</th>\n",
       "      <td>M0_109</td>\n",
       "      <td>16</td>\n",
       "      <td>7</td>\n",
       "      <td>iso-8859-1</td>\n",
       "      <td>nginx</td>\n",
       "      <td>263.0</td>\n",
       "      <td>None</td>\n",
       "      <td>None</td>\n",
       "      <td>10/10/2015 18:21</td>\n",
       "      <td>None</td>\n",
       "      <td>...</td>\n",
       "      <td>0</td>\n",
       "      <td>2</td>\n",
       "      <td>700</td>\n",
       "      <td>9</td>\n",
       "      <td>10</td>\n",
       "      <td>1153</td>\n",
       "      <td>832</td>\n",
       "      <td>9</td>\n",
       "      <td>2.0</td>\n",
       "      <td>1</td>\n",
       "    </tr>\n",
       "    <tr>\n",
       "      <th>1</th>\n",
       "      <td>B0_2314</td>\n",
       "      <td>16</td>\n",
       "      <td>6</td>\n",
       "      <td>UTF-8</td>\n",
       "      <td>Apache/2.4.10</td>\n",
       "      <td>15087.0</td>\n",
       "      <td>None</td>\n",
       "      <td>None</td>\n",
       "      <td>None</td>\n",
       "      <td>None</td>\n",
       "      <td>...</td>\n",
       "      <td>7</td>\n",
       "      <td>4</td>\n",
       "      <td>1230</td>\n",
       "      <td>17</td>\n",
       "      <td>19</td>\n",
       "      <td>1265</td>\n",
       "      <td>1230</td>\n",
       "      <td>17</td>\n",
       "      <td>0.0</td>\n",
       "      <td>0</td>\n",
       "    </tr>\n",
       "    <tr>\n",
       "      <th>2</th>\n",
       "      <td>B0_911</td>\n",
       "      <td>16</td>\n",
       "      <td>6</td>\n",
       "      <td>us-ascii</td>\n",
       "      <td>Microsoft-HTTPAPI/2.0</td>\n",
       "      <td>324.0</td>\n",
       "      <td>None</td>\n",
       "      <td>None</td>\n",
       "      <td>None</td>\n",
       "      <td>None</td>\n",
       "      <td>...</td>\n",
       "      <td>0</td>\n",
       "      <td>0</td>\n",
       "      <td>0</td>\n",
       "      <td>0</td>\n",
       "      <td>0</td>\n",
       "      <td>0</td>\n",
       "      <td>0</td>\n",
       "      <td>0</td>\n",
       "      <td>0.0</td>\n",
       "      <td>0</td>\n",
       "    </tr>\n",
       "    <tr>\n",
       "      <th>3</th>\n",
       "      <td>B0_113</td>\n",
       "      <td>17</td>\n",
       "      <td>6</td>\n",
       "      <td>ISO-8859-1</td>\n",
       "      <td>nginx</td>\n",
       "      <td>162.0</td>\n",
       "      <td>US</td>\n",
       "      <td>AK</td>\n",
       "      <td>7/10/1997 4:00</td>\n",
       "      <td>12/09/2013 0:45</td>\n",
       "      <td>...</td>\n",
       "      <td>22</td>\n",
       "      <td>3</td>\n",
       "      <td>3812</td>\n",
       "      <td>39</td>\n",
       "      <td>37</td>\n",
       "      <td>18784</td>\n",
       "      <td>4380</td>\n",
       "      <td>39</td>\n",
       "      <td>8.0</td>\n",
       "      <td>0</td>\n",
       "    </tr>\n",
       "    <tr>\n",
       "      <th>4</th>\n",
       "      <td>B0_403</td>\n",
       "      <td>17</td>\n",
       "      <td>6</td>\n",
       "      <td>UTF-8</td>\n",
       "      <td>None</td>\n",
       "      <td>124140.0</td>\n",
       "      <td>US</td>\n",
       "      <td>TX</td>\n",
       "      <td>12/05/1996 0:00</td>\n",
       "      <td>11/04/2017 0:00</td>\n",
       "      <td>...</td>\n",
       "      <td>2</td>\n",
       "      <td>5</td>\n",
       "      <td>4278</td>\n",
       "      <td>61</td>\n",
       "      <td>62</td>\n",
       "      <td>129889</td>\n",
       "      <td>4586</td>\n",
       "      <td>61</td>\n",
       "      <td>4.0</td>\n",
       "      <td>0</td>\n",
       "    </tr>\n",
       "  </tbody>\n",
       "</table>\n",
       "<p>5 rows × 21 columns</p>\n",
       "</div>"
      ],
      "text/plain": [
       "       URL  URL_LENGTH  NUMBER_SPECIAL_CHARACTERS     CHARSET  \\\n",
       "0   M0_109          16                          7  iso-8859-1   \n",
       "1  B0_2314          16                          6       UTF-8   \n",
       "2   B0_911          16                          6    us-ascii   \n",
       "3   B0_113          17                          6  ISO-8859-1   \n",
       "4   B0_403          17                          6       UTF-8   \n",
       "\n",
       "                  SERVER  CONTENT_LENGTH WHOIS_COUNTRY WHOIS_STATEPRO  \\\n",
       "0                  nginx           263.0          None           None   \n",
       "1          Apache/2.4.10         15087.0          None           None   \n",
       "2  Microsoft-HTTPAPI/2.0           324.0          None           None   \n",
       "3                  nginx           162.0            US             AK   \n",
       "4                   None        124140.0            US             TX   \n",
       "\n",
       "      WHOIS_REGDATE WHOIS_UPDATED_DATE  ...  DIST_REMOTE_TCP_PORT  REMOTE_IPS  \\\n",
       "0  10/10/2015 18:21               None  ...                     0           2   \n",
       "1              None               None  ...                     7           4   \n",
       "2              None               None  ...                     0           0   \n",
       "3    7/10/1997 4:00    12/09/2013 0:45  ...                    22           3   \n",
       "4   12/05/1996 0:00    11/04/2017 0:00  ...                     2           5   \n",
       "\n",
       "   APP_BYTES  SOURCE_APP_PACKETS  REMOTE_APP_PACKETS  SOURCE_APP_BYTES  \\\n",
       "0        700                   9                  10              1153   \n",
       "1       1230                  17                  19              1265   \n",
       "2          0                   0                   0                 0   \n",
       "3       3812                  39                  37             18784   \n",
       "4       4278                  61                  62            129889   \n",
       "\n",
       "   REMOTE_APP_BYTES  APP_PACKETS  DNS_QUERY_TIMES  Type  \n",
       "0               832            9              2.0     1  \n",
       "1              1230           17              0.0     0  \n",
       "2                 0            0              0.0     0  \n",
       "3              4380           39              8.0     0  \n",
       "4              4586           61              4.0     0  \n",
       "\n",
       "[5 rows x 21 columns]"
      ]
     },
     "execution_count": 3,
     "metadata": {},
     "output_type": "execute_result"
    }
   ],
   "source": [
    "websites.head()"
   ]
  },
  {
   "cell_type": "markdown",
   "metadata": {},
   "source": [
    "#### Explore the data from an bird's-eye view.\n",
    "\n",
    "You should already been very familiar with the procedures now so we won't provide the instructions step by step. Reflect on what you did in the previous labs and explore the dataset.\n",
    "\n",
    "Things you'll be looking for:\n",
    "\n",
    "* What the dataset looks like?\n",
    "* What are the data types?\n",
    "* Which columns contain the features of the websites?\n",
    "* Which column contains the feature we will predict? What is the code standing for benign vs malicious websites?\n",
    "* Do we need to transform any of the columns from categorical to ordinal values? If so what are these columns?\n",
    "\n",
    "Feel free to add additional cells for your explorations. Make sure to comment what you find out."
   ]
  },
  {
   "cell_type": "code",
   "execution_count": 4,
   "metadata": {},
   "outputs": [
    {
     "data": {
      "text/plain": [
       "URL                           object\n",
       "URL_LENGTH                     int64\n",
       "NUMBER_SPECIAL_CHARACTERS      int64\n",
       "CHARSET                       object\n",
       "SERVER                        object\n",
       "CONTENT_LENGTH               float64\n",
       "WHOIS_COUNTRY                 object\n",
       "WHOIS_STATEPRO                object\n",
       "WHOIS_REGDATE                 object\n",
       "WHOIS_UPDATED_DATE            object\n",
       "TCP_CONVERSATION_EXCHANGE      int64\n",
       "DIST_REMOTE_TCP_PORT           int64\n",
       "REMOTE_IPS                     int64\n",
       "APP_BYTES                      int64\n",
       "SOURCE_APP_PACKETS             int64\n",
       "REMOTE_APP_PACKETS             int64\n",
       "SOURCE_APP_BYTES               int64\n",
       "REMOTE_APP_BYTES               int64\n",
       "APP_PACKETS                    int64\n",
       "DNS_QUERY_TIMES              float64\n",
       "Type                           int64\n",
       "dtype: object"
      ]
     },
     "execution_count": 4,
     "metadata": {},
     "output_type": "execute_result"
    }
   ],
   "source": [
    "# Your code here\n",
    "websites.dtypes"
   ]
  },
  {
   "cell_type": "code",
   "execution_count": 5,
   "metadata": {},
   "outputs": [],
   "source": [
    "# Your comment here\n",
    "# There are numerical and categorical values"
   ]
  },
  {
   "cell_type": "markdown",
   "metadata": {},
   "source": [
    "#### Next, evaluate if the columns in this dataset are strongly correlated.\n",
    "\n",
    "If our dataset has strongly correlated columns, we need to choose certain ML algorithms instead of others. We need to evaluate this for our dataset now.\n",
    "\n",
    "Luckily, most of the columns in this dataset are ordinal which makes things a lot easier for us. In the next cells below, evaluate the level of collinearity of the data.\n",
    "\n",
    "We provide some general directions for you to consult in order to complete this step:\n",
    "\n",
    "1. You will create a correlation matrix using the numeric columns in the dataset.\n",
    "\n",
    "1. Create a heatmap using `seaborn` to visualize which columns have high collinearity.\n",
    "\n",
    "1. Comment on which columns you might need to remove due to high collinearity."
   ]
  },
  {
   "cell_type": "code",
   "execution_count": 6,
   "metadata": {},
   "outputs": [],
   "source": [
    "import seaborn as sns\n",
    "import matplotlib.pyplot as plt"
   ]
  },
  {
   "cell_type": "code",
   "execution_count": 7,
   "metadata": {},
   "outputs": [
    {
     "data": {
      "text/plain": [
       "<AxesSubplot:>"
      ]
     },
     "execution_count": 7,
     "metadata": {},
     "output_type": "execute_result"
    },
    {
     "data": {
      "image/png": "[encoded data removed]",
      "text/plain": [
       "<Figure size 720x576 with 2 Axes>"
      ]
     },
     "metadata": {
      "needs_background": "light"
     },
     "output_type": "display_data"
    }
   ],
   "source": [
    "# Your code here\n",
    "websites_ordinal = websites.select_dtypes(include=['int64','float64'])\n",
    "websites_ordinal.corr()\n",
    "corr = websites_ordinal.corr()\n",
    "\n",
    "f, ax = plt.subplots(figsize=(10,8))\n",
    "mask_web = np.triu(np.ones_like(corr, dtype=np.bool))\n",
    "\n",
    "\n",
    "colors = sns.diverging_palette(20, 100, as_cmap=True)\n",
    "sns.heatmap(corr, mask = mask_web, cmap=colors)\n",
    "\n"
   ]
  },
  {
   "cell_type": "code",
   "execution_count": 8,
   "metadata": {},
   "outputs": [],
   "source": [
    "# Your comment here\n",
    "#TCP_CONVERSATION_EXCHANGE\n",
    "#SOURCE_APP_PACKETS\n",
    "#REMOTE_APP_PACKETS"
   ]
  },
  {
   "cell_type": "markdown",
   "metadata": {},
   "source": [
    "# Challenge 2 - Remove Column Collinearity.\n",
    "\n",
    "From the heatmap you created, you should have seen at least 3 columns that can be removed due to high collinearity. Remove these columns from the dataset.\n",
    "\n",
    "Note that you should remove as few columns as you can. You don't have to remove all the columns at once. But instead, try removing one column, then produce the heatmap again to determine if additional columns should be removed. As long as the dataset no longer contains columns that are correlated for over 90%, you can stop. Also, keep in mind when two columns have high collinearity, you only need to remove one of them but not both.\n",
    "\n",
    "In the cells below, remove as few columns as you can to eliminate the high collinearity in the dataset. Make sure to comment on your way so that the instructional team can learn about your thinking process which allows them to give feedback. At the end, print the heatmap again."
   ]
  },
  {
   "cell_type": "code",
   "execution_count": 9,
   "metadata": {},
   "outputs": [],
   "source": [
    "# Your code here\n",
    "websites.drop(columns=['TCP_CONVERSATION_EXCHANGE'], inplace=True)"
   ]
  },
  {
   "cell_type": "code",
   "execution_count": 10,
   "metadata": {},
   "outputs": [],
   "source": [
    "websites.drop(columns=['SOURCE_APP_PACKETS'], inplace=True)"
   ]
  },
  {
   "cell_type": "code",
   "execution_count": 11,
   "metadata": {},
   "outputs": [],
   "source": [
    "websites.drop(columns=['REMOTE_APP_BYTES'], inplace=True)"
   ]
  },
  {
   "cell_type": "code",
   "execution_count": 12,
   "metadata": {},
   "outputs": [],
   "source": [
    "# Your comment here"
   ]
  },
  {
   "cell_type": "code",
   "execution_count": 13,
   "metadata": {},
   "outputs": [
    {
     "data": {
      "text/plain": [
       "<AxesSubplot:>"
      ]
     },
     "execution_count": 13,
     "metadata": {},
     "output_type": "execute_result"
    },
    {
     "data": {
      "image/png": "[encoded data removed]",
      "text/plain": [
       "<Figure size 720x576 with 2 Axes>"
      ]
     },
     "metadata": {
      "needs_background": "light"
     },
     "output_type": "display_data"
    }
   ],
   "source": [
    "# Print heatmap again\n",
    "websites_ordinal = websites.select_dtypes(include=['int64','float64'])\n",
    "websites_ordinal.corr()\n",
    "corr = websites_ordinal.corr()\n",
    "\n",
    "f, ax = plt.subplots(figsize=(10,8))\n",
    "mask_web = np.triu(np.ones_like(corr, dtype=np.bool))\n",
    "\n",
    "\n",
    "colors = sns.diverging_palette(20, 100, as_cmap=True)\n",
    "sns.heatmap(corr, mask = mask_web, cmap=colors)\n",
    "\n"
   ]
  },
  {
   "cell_type": "markdown",
   "metadata": {},
   "source": [
    "# Challenge 3 - Handle Missing Values\n",
    "\n",
    "The next step would be handling missing values. **We start by examining the number of missing values in each column, which you will do in the next cell.**"
   ]
  },
  {
   "cell_type": "code",
   "execution_count": 14,
   "metadata": {},
   "outputs": [
    {
     "data": {
      "text/plain": [
       "URL                            0\n",
       "URL_LENGTH                     0\n",
       "NUMBER_SPECIAL_CHARACTERS      0\n",
       "CHARSET                        0\n",
       "SERVER                         1\n",
       "CONTENT_LENGTH               812\n",
       "WHOIS_COUNTRY                  0\n",
       "WHOIS_STATEPRO                 0\n",
       "WHOIS_REGDATE                  0\n",
       "WHOIS_UPDATED_DATE             0\n",
       "DIST_REMOTE_TCP_PORT           0\n",
       "REMOTE_IPS                     0\n",
       "APP_BYTES                      0\n",
       "REMOTE_APP_PACKETS             0\n",
       "SOURCE_APP_BYTES               0\n",
       "APP_PACKETS                    0\n",
       "DNS_QUERY_TIMES                1\n",
       "Type                           0\n",
       "dtype: int64"
      ]
     },
     "execution_count": 14,
     "metadata": {},
     "output_type": "execute_result"
    }
   ],
   "source": [
    "# Your code here\n",
    "websites.isna().sum()"
   ]
  },
  {
   "cell_type": "markdown",
   "metadata": {},
   "source": [
    "If you remember in the previous labs, we drop a column if the column contains a high proportion of missing values. After dropping those problematic columns, we drop the rows with missing values.\n",
    "\n",
    "#### In the cells below, handle the missing values from the dataset. Remember to comment the rationale of your decisions."
   ]
  },
  {
   "cell_type": "code",
   "execution_count": 15,
   "metadata": {},
   "outputs": [],
   "source": [
    "# Your code here\n",
    "websites.drop(columns=['CONTENT_LENGTH'], inplace=True)"
   ]
  },
  {
   "cell_type": "code",
   "execution_count": 16,
   "metadata": {},
   "outputs": [],
   "source": [
    "websites=websites.dropna()"
   ]
  },
  {
   "cell_type": "code",
   "execution_count": 17,
   "metadata": {},
   "outputs": [],
   "source": [
    "# Your comment here\n",
    "#drop due to many missing values"
   ]
  },
  {
   "cell_type": "markdown",
   "metadata": {},
   "source": [
    "#### Again, examine the number of missing values in each column. \n",
    "\n",
    "If all cleaned, proceed. Otherwise, go back and do more cleaning."
   ]
  },
  {
   "cell_type": "code",
   "execution_count": 18,
   "metadata": {},
   "outputs": [
    {
     "data": {
      "text/plain": [
       "URL                          0\n",
       "URL_LENGTH                   0\n",
       "NUMBER_SPECIAL_CHARACTERS    0\n",
       "CHARSET                      0\n",
       "SERVER                       0\n",
       "WHOIS_COUNTRY                0\n",
       "WHOIS_STATEPRO               0\n",
       "WHOIS_REGDATE                0\n",
       "WHOIS_UPDATED_DATE           0\n",
       "DIST_REMOTE_TCP_PORT         0\n",
       "REMOTE_IPS                   0\n",
       "APP_BYTES                    0\n",
       "REMOTE_APP_PACKETS           0\n",
       "SOURCE_APP_BYTES             0\n",
       "APP_PACKETS                  0\n",
       "DNS_QUERY_TIMES              0\n",
       "Type                         0\n",
       "dtype: int64"
      ]
     },
     "execution_count": 18,
     "metadata": {},
     "output_type": "execute_result"
    }
   ],
   "source": [
    "# Examine missing values in each column\n",
    "websites.isna().sum()"
   ]
  },
  {
   "cell_type": "markdown",
   "metadata": {},
   "source": [
    "# Challenge 4 - Handle `WHOIS_*` Categorical Data"
   ]
  },
  {
   "cell_type": "markdown",
   "metadata": {},
   "source": [
    "There are several categorical columns we need to handle. These columns are:\n",
    "\n",
    "* `URL`\n",
    "* `CHARSET`\n",
    "* `SERVER`\n",
    "* `WHOIS_COUNTRY`\n",
    "* `WHOIS_STATEPRO`\n",
    "* `WHOIS_REGDATE`\n",
    "* `WHOIS_UPDATED_DATE`\n",
    "\n",
    "How to handle string columns is always case by case. Let's start by working on `WHOIS_COUNTRY`. Your steps are:\n",
    "\n",
    "1. List out the unique values of `WHOIS_COUNTRY`.\n",
    "1. Consolidate the country values with consistent country codes. For example, the following values refer to the same country and should use consistent country code:\n",
    "    * `CY` and `Cyprus`\n",
    "    * `US` and `us`\n",
    "    * `SE` and `se`\n",
    "    * `GB`, `United Kingdom`, and `[u'GB'; u'UK']`\n",
    "\n",
    "#### In the cells below, fix the country values as intructed above."
   ]
  },
  {
   "cell_type": "code",
   "execution_count": 19,
   "metadata": {},
   "outputs": [
    {
     "data": {
      "text/plain": [
       "array(['None', 'US', 'SC', 'GB', 'UK', 'RU', 'AU', 'CA', 'PA', 'se', 'IN',\n",
       "       'LU', 'TH', \"[u'GB'; u'UK']\", 'FR', 'NL', 'UG', 'JP', 'CN', 'SE',\n",
       "       'SI', 'IL', 'ru', 'KY', 'AT', 'CZ', 'PH', 'BE', 'NO', 'TR', 'LV',\n",
       "       'DE', 'ES', 'BR', 'us', 'KR', 'HK', 'UA', 'CH', 'United Kingdom',\n",
       "       'BS', 'PK', 'IT', 'Cyprus', 'BY', 'AE', 'IE', 'UY', 'KG'],\n",
       "      dtype=object)"
      ]
     },
     "execution_count": 19,
     "metadata": {},
     "output_type": "execute_result"
    }
   ],
   "source": [
    "# Your code here\n",
    "websites.WHOIS_COUNTRY.unique()"
   ]
  },
  {
   "cell_type": "code",
   "execution_count": 20,
   "metadata": {},
   "outputs": [],
   "source": [
    "websites[\"WHOIS_COUNTRY\"] = websites[\"WHOIS_COUNTRY\"].replace({\"Cyprus\": \"CY\", \"us\":\"US\", \"se\":\"SE\", \n",
    "                                                               \"United Kingdom\":\"UK\", \"GB\":\"UK\", \"[u'GB'; u'UK']\":\"UK\", 'ru':'RU'})"
   ]
  },
  {
   "cell_type": "code",
   "execution_count": 21,
   "metadata": {},
   "outputs": [
    {
     "data": {
      "text/plain": [
       "array(['None', 'US', 'SC', 'UK', 'RU', 'AU', 'CA', 'PA', 'SE', 'IN', 'LU',\n",
       "       'TH', 'FR', 'NL', 'UG', 'JP', 'CN', 'SI', 'IL', 'KY', 'AT', 'CZ',\n",
       "       'PH', 'BE', 'NO', 'TR', 'LV', 'DE', 'ES', 'BR', 'KR', 'HK', 'UA',\n",
       "       'CH', 'BS', 'PK', 'IT', 'CY', 'BY', 'AE', 'IE', 'UY', 'KG'],\n",
       "      dtype=object)"
      ]
     },
     "execution_count": 21,
     "metadata": {},
     "output_type": "execute_result"
    }
   ],
   "source": [
    "websites['WHOIS_COUNTRY'].unique()"
   ]
  },
  {
   "cell_type": "markdown",
   "metadata": {},
   "source": [
    "Since we have fixed the country values, can we convert this column to ordinal now?\n",
    "\n",
    "Not yet. If you reflect on the previous labs how we handle categorical columns, you probably remember we ended up dropping a lot of those columns because there are too many unique values. Too many unique values in a column is not desirable in machine learning because it makes prediction inaccurate. But there are workarounds under certain conditions. One of the fixable conditions is:\n",
    "\n",
    "#### If a limited number of values account for the majority of data, we can retain these top values and re-label all other rare values.\n",
    "\n",
    "The `WHOIS_COUNTRY` column happens to be this case. You can verify it by print a bar chart of the `value_counts` in the next cell to verify:"
   ]
  },
  {
   "cell_type": "code",
   "execution_count": 22,
   "metadata": {},
   "outputs": [
    {
     "data": {
      "text/plain": [
       "<AxesSubplot:>"
      ]
     },
     "execution_count": 22,
     "metadata": {},
     "output_type": "execute_result"
    },
    {
     "data": {
      "image/png": "[encoded data removed]",
      "text/plain": [
       "<Figure size 720x360 with 1 Axes>"
      ]
     },
     "metadata": {
      "needs_background": "light"
     },
     "output_type": "display_data"
    }
   ],
   "source": [
    "websites['WHOIS_COUNTRY'].value_counts().plot(kind='bar', figsize=(10, 5))# Your code here"
   ]
  },
  {
   "cell_type": "markdown",
   "metadata": {},
   "source": [
    "#### After verifying, now let's keep the top 10 values of the column and re-label other columns with `OTHER`."
   ]
  },
  {
   "cell_type": "code",
   "execution_count": 23,
   "metadata": {
    "scrolled": true
   },
   "outputs": [
    {
     "data": {
      "text/plain": [
       "['CZ',\n",
       " 'FR',\n",
       " 'RU',\n",
       " 'NL',\n",
       " 'CH',\n",
       " 'KR',\n",
       " 'PH',\n",
       " 'AT',\n",
       " 'BS',\n",
       " 'SE',\n",
       " 'TR',\n",
       " 'BE',\n",
       " 'DE',\n",
       " 'KY',\n",
       " 'SC',\n",
       " 'HK',\n",
       " 'UY',\n",
       " 'CY',\n",
       " 'KG',\n",
       " 'IL',\n",
       " 'UA',\n",
       " 'NO',\n",
       " 'BR',\n",
       " 'SI',\n",
       " 'PK',\n",
       " 'BY',\n",
       " 'IE',\n",
       " 'IT',\n",
       " 'LU',\n",
       " 'TH',\n",
       " 'UG',\n",
       " 'LV',\n",
       " 'AE']"
      ]
     },
     "execution_count": 23,
     "metadata": {},
     "output_type": "execute_result"
    }
   ],
   "source": [
    "# Your code here\n",
    "other_countries = list(websites['WHOIS_COUNTRY'].value_counts()[10:].index)\n",
    "other_countries"
   ]
  },
  {
   "cell_type": "code",
   "execution_count": 24,
   "metadata": {},
   "outputs": [
    {
     "data": {
      "text/plain": [
       "US       1105\n",
       "None      306\n",
       "OTHER     100\n",
       "CA         83\n",
       "ES         63\n",
       "UK         35\n",
       "AU         35\n",
       "PA         21\n",
       "JP         11\n",
       "CN         10\n",
       "IN         10\n",
       "Name: WHOIS_COUNTRY, dtype: int64"
      ]
     },
     "execution_count": 24,
     "metadata": {},
     "output_type": "execute_result"
    }
   ],
   "source": [
    "websites = websites.replace(other_countries, 'OTHER')\n",
    "\n",
    "websites['WHOIS_COUNTRY'].value_counts()"
   ]
  },
  {
   "cell_type": "markdown",
   "metadata": {},
   "source": [
    "Now since `WHOIS_COUNTRY` has been re-labelled, we don't need `WHOIS_STATEPRO` any more because the values of the states or provinces may not be relevant any more. We'll drop this column.\n",
    "\n",
    "In addition, we will also drop `WHOIS_REGDATE` and `WHOIS_UPDATED_DATE`. These are the registration and update dates of the website domains. Not of our concerns.\n",
    "\n",
    "#### In the next cell, drop `['WHOIS_STATEPRO', 'WHOIS_REGDATE', 'WHOIS_UPDATED_DATE']`."
   ]
  },
  {
   "cell_type": "code",
   "execution_count": 25,
   "metadata": {},
   "outputs": [],
   "source": [
    "# Your code here\n",
    "websites.drop(['WHOIS_STATEPRO', 'WHOIS_REGDATE', 'WHOIS_UPDATED_DATE'],axis=1,inplace=True)"
   ]
  },
  {
   "cell_type": "markdown",
   "metadata": {},
   "source": [
    "# Challenge 5 - Handle Remaining Categorical Data & Convert to Ordinal\n",
    "\n",
    "Now print the `dtypes` of the data again. Besides `WHOIS_COUNTRY` which we already fixed, there should be 3 categorical columns left: `URL`, `CHARSET`, and `SERVER`."
   ]
  },
  {
   "cell_type": "code",
   "execution_count": 26,
   "metadata": {},
   "outputs": [
    {
     "data": {
      "text/plain": [
       "URL                           object\n",
       "URL_LENGTH                     int64\n",
       "NUMBER_SPECIAL_CHARACTERS      int64\n",
       "CHARSET                       object\n",
       "SERVER                        object\n",
       "WHOIS_COUNTRY                 object\n",
       "DIST_REMOTE_TCP_PORT           int64\n",
       "REMOTE_IPS                     int64\n",
       "APP_BYTES                      int64\n",
       "REMOTE_APP_PACKETS             int64\n",
       "SOURCE_APP_BYTES               int64\n",
       "APP_PACKETS                    int64\n",
       "DNS_QUERY_TIMES              float64\n",
       "Type                           int64\n",
       "dtype: object"
      ]
     },
     "execution_count": 26,
     "metadata": {},
     "output_type": "execute_result"
    }
   ],
   "source": [
    "# Your code here\n",
    "websites.dtypes"
   ]
  },
  {
   "cell_type": "markdown",
   "metadata": {},
   "source": [
    "#### `URL` is easy. We'll simply drop it because it has too many unique values that there's no way for us to consolidate."
   ]
  },
  {
   "cell_type": "code",
   "execution_count": 27,
   "metadata": {},
   "outputs": [],
   "source": [
    "# Your code here\n",
    "websites.drop([\"URL\"],axis=1,inplace=True)"
   ]
  },
  {
   "cell_type": "markdown",
   "metadata": {},
   "source": [
    "#### Print the unique value counts of `CHARSET`. You see there are only a few unique values. So we can keep it as it is."
   ]
  },
  {
   "cell_type": "code",
   "execution_count": 28,
   "metadata": {},
   "outputs": [
    {
     "data": {
      "text/plain": [
       "UTF-8           674\n",
       "ISO-8859-1      427\n",
       "utf-8           379\n",
       "us-ascii        155\n",
       "iso-8859-1      134\n",
       "None              7\n",
       "windows-1251      1\n",
       "ISO-8859          1\n",
       "windows-1252      1\n",
       "Name: CHARSET, dtype: int64"
      ]
     },
     "execution_count": 28,
     "metadata": {},
     "output_type": "execute_result"
    }
   ],
   "source": [
    "# Your code here\n",
    "websites.CHARSET.value_counts()"
   ]
  },
  {
   "cell_type": "markdown",
   "metadata": {},
   "source": [
    "`SERVER` is a little more complicated. Print its unique values and think about how you can consolidate those values.\n",
    "\n",
    "#### Before you think of your own solution, don't read the instructions that come next."
   ]
  },
  {
   "cell_type": "code",
   "execution_count": 29,
   "metadata": {},
   "outputs": [
    {
     "data": {
      "text/plain": [
       "Apache                                                                             385\n",
       "nginx                                                                              211\n",
       "None                                                                               175\n",
       "Microsoft-HTTPAPI/2.0                                                              113\n",
       "cloudflare-nginx                                                                    94\n",
       "                                                                                  ... \n",
       "Apache/2.2.14 (Unix) mod_ssl/2.2.14 OpenSSL/0.9.8e-fips-rhel5                        1\n",
       "Apache/2.2.20 (Unix)                                                                 1\n",
       "Apache/2.2.29 (Unix) mod_ssl/2.2.29 OpenSSL/1.0.1e-fips DAV/2 mod_bwlimited/1.4      1\n",
       "Apache/2.4.23 (Unix)                                                                 1\n",
       "marrakesh 1.12.2                                                                     1\n",
       "Name: SERVER, Length: 239, dtype: int64"
      ]
     },
     "execution_count": 29,
     "metadata": {},
     "output_type": "execute_result"
    }
   ],
   "source": [
    "# Your code here\n",
    "websites.SERVER.value_counts()"
   ]
  },
  {
   "cell_type": "markdown",
   "metadata": {},
   "source": [
    "![Think Hard](../images/think-hard.jpg)"
   ]
  },
  {
   "cell_type": "code",
   "execution_count": 30,
   "metadata": {},
   "outputs": [],
   "source": [
    "# Your comment here\n",
    "# can be grouped by server"
   ]
  },
  {
   "cell_type": "markdown",
   "metadata": {},
   "source": [
    "Although there are so many unique values in the `SERVER` column, there are actually only 3 main server types: `Microsoft`, `Apache`, and `nginx`. Just check if each `SERVER` value contains any of those server types and re-label them. For `SERVER` values that don't contain any of those substrings, label with `Other`.\n",
    "\n",
    "At the end, your `SERVER` column should only contain 4 unique values: `Microsoft`, `Apache`, `nginx`, and `Other`."
   ]
  },
  {
   "cell_type": "code",
   "execution_count": 31,
   "metadata": {},
   "outputs": [],
   "source": [
    "# Your code here\n",
    "def server_check(i):\n",
    "    if 'Microsoft' in i:\n",
    "        return 'Microsoft'\n",
    "    elif 'Apache' in i:\n",
    "        return 'Apache'\n",
    "    elif 'nginx' in i:\n",
    "        return 'nginx'\n",
    "    else:\n",
    "        return 'Other'\n",
    "\n",
    "websites.SERVER = websites.SERVER.apply(server_check)"
   ]
  },
  {
   "cell_type": "code",
   "execution_count": 32,
   "metadata": {
    "scrolled": false
   },
   "outputs": [
    {
     "data": {
      "text/plain": [
       "Apache       642\n",
       "Other        504\n",
       "nginx        435\n",
       "Microsoft    198\n",
       "Name: SERVER, dtype: int64"
      ]
     },
     "execution_count": 32,
     "metadata": {},
     "output_type": "execute_result"
    }
   ],
   "source": [
    "# Count `SERVER` value counts here\n",
    "websites.SERVER.value_counts()"
   ]
  },
  {
   "cell_type": "markdown",
   "metadata": {},
   "source": [
    "OK, all our categorical data are fixed now. **Let's convert them to ordinal data using Pandas' `get_dummies` function ([documentation](https://pandas.pydata.org/pandas-docs/stable/generated/pandas.get_dummies.html)).** Make sure you drop the categorical columns by passing `drop_first=True` to `get_dummies` as we don't need them any more. **Also, assign the data with dummy values to a new variable `website_dummy`.**"
   ]
  },
  {
   "cell_type": "code",
   "execution_count": 33,
   "metadata": {},
   "outputs": [],
   "source": [
    "# Your code here\n",
    "website_dummy = pd.get_dummies(websites, drop_first=True)"
   ]
  },
  {
   "cell_type": "code",
   "execution_count": 34,
   "metadata": {},
   "outputs": [
    {
     "data": {
      "text/html": [
       "<div>\n",
       "<style scoped>\n",
       "    .dataframe tbody tr th:only-of-type {\n",
       "        vertical-align: middle;\n",
       "    }\n",
       "\n",
       "    .dataframe tbody tr th {\n",
       "        vertical-align: top;\n",
       "    }\n",
       "\n",
       "    .dataframe thead th {\n",
       "        text-align: right;\n",
       "    }\n",
       "</style>\n",
       "<table border=\"1\" class=\"dataframe\">\n",
       "  <thead>\n",
       "    <tr style=\"text-align: right;\">\n",
       "      <th></th>\n",
       "      <th>URL_LENGTH</th>\n",
       "      <th>NUMBER_SPECIAL_CHARACTERS</th>\n",
       "      <th>DIST_REMOTE_TCP_PORT</th>\n",
       "      <th>REMOTE_IPS</th>\n",
       "      <th>APP_BYTES</th>\n",
       "      <th>REMOTE_APP_PACKETS</th>\n",
       "      <th>SOURCE_APP_BYTES</th>\n",
       "      <th>APP_PACKETS</th>\n",
       "      <th>DNS_QUERY_TIMES</th>\n",
       "      <th>Type</th>\n",
       "      <th>...</th>\n",
       "      <th>WHOIS_COUNTRY_CA</th>\n",
       "      <th>WHOIS_COUNTRY_CN</th>\n",
       "      <th>WHOIS_COUNTRY_ES</th>\n",
       "      <th>WHOIS_COUNTRY_IN</th>\n",
       "      <th>WHOIS_COUNTRY_JP</th>\n",
       "      <th>WHOIS_COUNTRY_None</th>\n",
       "      <th>WHOIS_COUNTRY_OTHER</th>\n",
       "      <th>WHOIS_COUNTRY_PA</th>\n",
       "      <th>WHOIS_COUNTRY_UK</th>\n",
       "      <th>WHOIS_COUNTRY_US</th>\n",
       "    </tr>\n",
       "  </thead>\n",
       "  <tbody>\n",
       "    <tr>\n",
       "      <th>0</th>\n",
       "      <td>16</td>\n",
       "      <td>7</td>\n",
       "      <td>0</td>\n",
       "      <td>2</td>\n",
       "      <td>700</td>\n",
       "      <td>10</td>\n",
       "      <td>1153</td>\n",
       "      <td>9</td>\n",
       "      <td>2.0</td>\n",
       "      <td>1</td>\n",
       "      <td>...</td>\n",
       "      <td>0</td>\n",
       "      <td>0</td>\n",
       "      <td>0</td>\n",
       "      <td>0</td>\n",
       "      <td>0</td>\n",
       "      <td>1</td>\n",
       "      <td>0</td>\n",
       "      <td>0</td>\n",
       "      <td>0</td>\n",
       "      <td>0</td>\n",
       "    </tr>\n",
       "    <tr>\n",
       "      <th>1</th>\n",
       "      <td>16</td>\n",
       "      <td>6</td>\n",
       "      <td>7</td>\n",
       "      <td>4</td>\n",
       "      <td>1230</td>\n",
       "      <td>19</td>\n",
       "      <td>1265</td>\n",
       "      <td>17</td>\n",
       "      <td>0.0</td>\n",
       "      <td>0</td>\n",
       "      <td>...</td>\n",
       "      <td>0</td>\n",
       "      <td>0</td>\n",
       "      <td>0</td>\n",
       "      <td>0</td>\n",
       "      <td>0</td>\n",
       "      <td>1</td>\n",
       "      <td>0</td>\n",
       "      <td>0</td>\n",
       "      <td>0</td>\n",
       "      <td>0</td>\n",
       "    </tr>\n",
       "    <tr>\n",
       "      <th>2</th>\n",
       "      <td>16</td>\n",
       "      <td>6</td>\n",
       "      <td>0</td>\n",
       "      <td>0</td>\n",
       "      <td>0</td>\n",
       "      <td>0</td>\n",
       "      <td>0</td>\n",
       "      <td>0</td>\n",
       "      <td>0.0</td>\n",
       "      <td>0</td>\n",
       "      <td>...</td>\n",
       "      <td>0</td>\n",
       "      <td>0</td>\n",
       "      <td>0</td>\n",
       "      <td>0</td>\n",
       "      <td>0</td>\n",
       "      <td>1</td>\n",
       "      <td>0</td>\n",
       "      <td>0</td>\n",
       "      <td>0</td>\n",
       "      <td>0</td>\n",
       "    </tr>\n",
       "    <tr>\n",
       "      <th>3</th>\n",
       "      <td>17</td>\n",
       "      <td>6</td>\n",
       "      <td>22</td>\n",
       "      <td>3</td>\n",
       "      <td>3812</td>\n",
       "      <td>37</td>\n",
       "      <td>18784</td>\n",
       "      <td>39</td>\n",
       "      <td>8.0</td>\n",
       "      <td>0</td>\n",
       "      <td>...</td>\n",
       "      <td>0</td>\n",
       "      <td>0</td>\n",
       "      <td>0</td>\n",
       "      <td>0</td>\n",
       "      <td>0</td>\n",
       "      <td>0</td>\n",
       "      <td>0</td>\n",
       "      <td>0</td>\n",
       "      <td>0</td>\n",
       "      <td>1</td>\n",
       "    </tr>\n",
       "    <tr>\n",
       "      <th>4</th>\n",
       "      <td>17</td>\n",
       "      <td>6</td>\n",
       "      <td>2</td>\n",
       "      <td>5</td>\n",
       "      <td>4278</td>\n",
       "      <td>62</td>\n",
       "      <td>129889</td>\n",
       "      <td>61</td>\n",
       "      <td>4.0</td>\n",
       "      <td>0</td>\n",
       "      <td>...</td>\n",
       "      <td>0</td>\n",
       "      <td>0</td>\n",
       "      <td>0</td>\n",
       "      <td>0</td>\n",
       "      <td>0</td>\n",
       "      <td>0</td>\n",
       "      <td>0</td>\n",
       "      <td>0</td>\n",
       "      <td>0</td>\n",
       "      <td>1</td>\n",
       "    </tr>\n",
       "  </tbody>\n",
       "</table>\n",
       "<p>5 rows × 31 columns</p>\n",
       "</div>"
      ],
      "text/plain": [
       "   URL_LENGTH  NUMBER_SPECIAL_CHARACTERS  DIST_REMOTE_TCP_PORT  REMOTE_IPS  \\\n",
       "0          16                          7                     0           2   \n",
       "1          16                          6                     7           4   \n",
       "2          16                          6                     0           0   \n",
       "3          17                          6                    22           3   \n",
       "4          17                          6                     2           5   \n",
       "\n",
       "   APP_BYTES  REMOTE_APP_PACKETS  SOURCE_APP_BYTES  APP_PACKETS  \\\n",
       "0        700                  10              1153            9   \n",
       "1       1230                  19              1265           17   \n",
       "2          0                   0                 0            0   \n",
       "3       3812                  37             18784           39   \n",
       "4       4278                  62            129889           61   \n",
       "\n",
       "   DNS_QUERY_TIMES  Type  ...  WHOIS_COUNTRY_CA  WHOIS_COUNTRY_CN  \\\n",
       "0              2.0     1  ...                 0                 0   \n",
       "1              0.0     0  ...                 0                 0   \n",
       "2              0.0     0  ...                 0                 0   \n",
       "3              8.0     0  ...                 0                 0   \n",
       "4              4.0     0  ...                 0                 0   \n",
       "\n",
       "   WHOIS_COUNTRY_ES  WHOIS_COUNTRY_IN  WHOIS_COUNTRY_JP  WHOIS_COUNTRY_None  \\\n",
       "0                 0                 0                 0                   1   \n",
       "1                 0                 0                 0                   1   \n",
       "2                 0                 0                 0                   1   \n",
       "3                 0                 0                 0                   0   \n",
       "4                 0                 0                 0                   0   \n",
       "\n",
       "   WHOIS_COUNTRY_OTHER  WHOIS_COUNTRY_PA  WHOIS_COUNTRY_UK  WHOIS_COUNTRY_US  \n",
       "0                    0                 0                 0                 0  \n",
       "1                    0                 0                 0                 0  \n",
       "2                    0                 0                 0                 0  \n",
       "3                    0                 0                 0                 1  \n",
       "4                    0                 0                 0                 1  \n",
       "\n",
       "[5 rows x 31 columns]"
      ]
     },
     "execution_count": 34,
     "metadata": {},
     "output_type": "execute_result"
    }
   ],
   "source": [
    "website_dummy.head()"
   ]
  },
  {
   "cell_type": "markdown",
   "metadata": {},
   "source": [
    "Now, inspect `website_dummy` to make sure the data and types are intended - there shouldn't be any categorical columns at this point."
   ]
  },
  {
   "cell_type": "code",
   "execution_count": 35,
   "metadata": {},
   "outputs": [
    {
     "data": {
      "text/plain": [
       "URL_LENGTH                     int64\n",
       "NUMBER_SPECIAL_CHARACTERS      int64\n",
       "DIST_REMOTE_TCP_PORT           int64\n",
       "REMOTE_IPS                     int64\n",
       "APP_BYTES                      int64\n",
       "REMOTE_APP_PACKETS             int64\n",
       "SOURCE_APP_BYTES               int64\n",
       "APP_PACKETS                    int64\n",
       "DNS_QUERY_TIMES              float64\n",
       "Type                           int64\n",
       "CHARSET_ISO-8859-1             uint8\n",
       "CHARSET_None                   uint8\n",
       "CHARSET_UTF-8                  uint8\n",
       "CHARSET_iso-8859-1             uint8\n",
       "CHARSET_us-ascii               uint8\n",
       "CHARSET_utf-8                  uint8\n",
       "CHARSET_windows-1251           uint8\n",
       "CHARSET_windows-1252           uint8\n",
       "SERVER_Microsoft               uint8\n",
       "SERVER_Other                   uint8\n",
       "SERVER_nginx                   uint8\n",
       "WHOIS_COUNTRY_CA               uint8\n",
       "WHOIS_COUNTRY_CN               uint8\n",
       "WHOIS_COUNTRY_ES               uint8\n",
       "WHOIS_COUNTRY_IN               uint8\n",
       "WHOIS_COUNTRY_JP               uint8\n",
       "WHOIS_COUNTRY_None             uint8\n",
       "WHOIS_COUNTRY_OTHER            uint8\n",
       "WHOIS_COUNTRY_PA               uint8\n",
       "WHOIS_COUNTRY_UK               uint8\n",
       "WHOIS_COUNTRY_US               uint8\n",
       "dtype: object"
      ]
     },
     "execution_count": 35,
     "metadata": {},
     "output_type": "execute_result"
    }
   ],
   "source": [
    "# Your code here\n",
    "website_dummy.dtypes"
   ]
  },
  {
   "cell_type": "markdown",
   "metadata": {},
   "source": [
    "# Challenge 6 - Modeling, Prediction, and Evaluation\n",
    "\n",
    "We'll start off this section by splitting the data to train and test. **Name your 4 variables `X_train`, `X_test`, `y_train`, and `y_test`. Select 80% of the data for training and 20% for testing.**"
   ]
  },
  {
   "cell_type": "code",
   "execution_count": 41,
   "metadata": {},
   "outputs": [],
   "source": [
    "from sklearn.model_selection import train_test_split\n",
    "\n",
    "# Your code here:\n",
    "\n",
    "X = website_dummy.drop(columns=['Type']).copy()\n",
    "y = website_dummy['Type']\n",
    "\n",
    "X_train, X_test, y_train, y_test = train_test_split(X, y, test_size=0.2, random_state=123)"
   ]
  },
  {
   "cell_type": "markdown",
   "metadata": {},
   "source": [
    "#### In this lab, we will try two different models and compare our results.\n",
    "\n",
    "The first model we will use in this lab is logistic regression. We have previously learned about logistic regression as a classification algorithm. In the cell below, load `LogisticRegression` from scikit-learn and initialize the model."
   ]
  },
  {
   "cell_type": "code",
   "execution_count": 37,
   "metadata": {},
   "outputs": [],
   "source": [
    "# Your code here:\n",
    "from sklearn.linear_model import LogisticRegression"
   ]
  },
  {
   "cell_type": "markdown",
   "metadata": {},
   "source": [
    "Next, fit the model to our training data. We have already separated our data into 4 parts. Use those in your model."
   ]
  },
  {
   "cell_type": "code",
   "execution_count": 48,
   "metadata": {},
   "outputs": [
    {
     "data": {
      "text/plain": [
       "668     0\n",
       "148     0\n",
       "1719    1\n",
       "1720    0\n",
       "150     0\n",
       "       ..\n",
       "1122    0\n",
       "1347    0\n",
       "1407    0\n",
       "1390    0\n",
       "1535    0\n",
       "Name: Type, Length: 1423, dtype: int64"
      ]
     },
     "execution_count": 48,
     "metadata": {},
     "output_type": "execute_result"
    }
   ],
   "source": [
    "y_train"
   ]
  },
  {
   "cell_type": "code",
   "execution_count": 49,
   "metadata": {},
   "outputs": [],
   "source": [
    "# Your code here:\n",
    "website_model = LogisticRegression(max_iter=1000000).fit(X_train, y_train)\n"
   ]
  },
  {
   "cell_type": "markdown",
   "metadata": {},
   "source": [
    "finally, import `confusion_matrix` and `accuracy_score` from `sklearn.metrics` and fit our testing data. Assign the fitted data to `y_pred` and print the confusion matrix as well as the accuracy score"
   ]
  },
  {
   "cell_type": "code",
   "execution_count": 50,
   "metadata": {},
   "outputs": [],
   "source": [
    "from sklearn.metrics import confusion_matrix\n",
    "from sklearn.metrics import accuracy_score"
   ]
  },
  {
   "cell_type": "code",
   "execution_count": 51,
   "metadata": {},
   "outputs": [
    {
     "name": "stdout",
     "output_type": "stream",
     "text": [
      "[[306   5]\n",
      " [ 16  29]]\n",
      "0.9410112359550562\n"
     ]
    }
   ],
   "source": [
    "# Your code here:\n",
    "y_pred = website_model.predict(X_test)\n",
    "\n",
    "print(confusion_matrix(y_test, y_pred))\n",
    "print(accuracy_score(y_test, y_pred))"
   ]
  },
  {
   "cell_type": "markdown",
   "metadata": {},
   "source": [
    "What are your thoughts on the performance of the model? Write your conclusions below."
   ]
  },
  {
   "cell_type": "code",
   "execution_count": 52,
   "metadata": {},
   "outputs": [],
   "source": [
    "# Your conclusions here:\n",
    "\n"
   ]
  },
  {
   "cell_type": "markdown",
   "metadata": {},
   "source": [
    "\n",
    "#### Our second algorithm is is K-Nearest Neighbors. \n",
    "\n",
    "Though is it not required, we will fit a model using the training data and then test the performance of the model using the testing data. Start by loading `KNeighborsClassifier` from scikit-learn and then initializing and fitting the model. We'll start off with a model where k=3."
   ]
  },
  {
   "cell_type": "code",
   "execution_count": 53,
   "metadata": {},
   "outputs": [
    {
     "data": {
      "text/plain": [
       "KNeighborsClassifier(n_neighbors=3)"
      ]
     },
     "execution_count": 53,
     "metadata": {},
     "output_type": "execute_result"
    }
   ],
   "source": [
    "# Your code here:\n",
    "from sklearn.neighbors import KNeighborsClassifier\n",
    "\n",
    "neigh = KNeighborsClassifier(n_neighbors=3)\n",
    "neigh.fit(X_train, y_train)"
   ]
  },
  {
   "cell_type": "markdown",
   "metadata": {},
   "source": [
    "To test your model, compute the predicted values for the testing sample and print the confusion matrix as well as the accuracy score."
   ]
  },
  {
   "cell_type": "code",
   "execution_count": 54,
   "metadata": {},
   "outputs": [
    {
     "name": "stdout",
     "output_type": "stream",
     "text": [
      "[[306   5]\n",
      " [ 10  35]]\n",
      "0.9578651685393258\n"
     ]
    }
   ],
   "source": [
    "# Your code here:\n",
    "y_pred1 = neigh.predict(X_test)\n",
    "\n",
    "print(confusion_matrix(y_test, y_pred1))\n",
    "print(accuracy_score(y_test, y_pred1))\n"
   ]
  },
  {
   "cell_type": "markdown",
   "metadata": {},
   "source": [
    "#### We'll create another K-Nearest Neighbors model with k=5. \n",
    "\n",
    "Initialize and fit the model below and print the confusion matrix and the accuracy score."
   ]
  },
  {
   "cell_type": "code",
   "execution_count": 55,
   "metadata": {},
   "outputs": [
    {
     "data": {
      "text/plain": [
       "array([0, 0, 1, ..., 0, 0, 0])"
      ]
     },
     "execution_count": 55,
     "metadata": {},
     "output_type": "execute_result"
    }
   ],
   "source": [
    "y_train.ravel()"
   ]
  },
  {
   "cell_type": "code",
   "execution_count": 56,
   "metadata": {},
   "outputs": [
    {
     "data": {
      "text/plain": [
       "KNeighborsClassifier()"
      ]
     },
     "execution_count": 56,
     "metadata": {},
     "output_type": "execute_result"
    }
   ],
   "source": [
    "# Your code here:\n",
    "neigh2 = KNeighborsClassifier(n_neighbors=5)\n",
    "neigh2.fit(X_train,y_train)"
   ]
  },
  {
   "cell_type": "markdown",
   "metadata": {},
   "source": [
    "Did you see an improvement in the confusion matrix when increasing k to 5? Did you see an improvement in the accuracy score? Write your conclusions below."
   ]
  },
  {
   "cell_type": "code",
   "execution_count": 57,
   "metadata": {},
   "outputs": [
    {
     "name": "stdout",
     "output_type": "stream",
     "text": [
      "[[305   6]\n",
      " [ 11  34]]\n",
      "0.952247191011236\n"
     ]
    }
   ],
   "source": [
    "y_pred2 = neigh2.predict(X_test)\n",
    "\n",
    "print(confusion_matrix(y_test, y_pred2))\n",
    "print(accuracy_score(y_test, y_pred2))"
   ]
  },
  {
   "cell_type": "code",
   "execution_count": null,
   "metadata": {},
   "outputs": [],
   "source": [
    "# Your conclusions here:"
   ]
  },
  {
   "cell_type": "markdown",
   "metadata": {},
   "source": [
    "# Tursday lab"
   ]
  },
  {
   "cell_type": "code",
   "execution_count": 58,
   "metadata": {},
   "outputs": [],
   "source": [
    "from sklearn.ensemble import RandomForestClassifier\n",
    "from sklearn.feature_selection import RFECV"
   ]
  },
  {
   "cell_type": "code",
   "execution_count": 59,
   "metadata": {},
   "outputs": [],
   "source": [
    "from sklearn.feature_selection import SelectFromModel"
   ]
  },
  {
   "cell_type": "code",
   "execution_count": 60,
   "metadata": {},
   "outputs": [],
   "source": [
    "#initialize model\n",
    "#fill data\n",
    "#predict\n"
   ]
  },
  {
   "cell_type": "code",
   "execution_count": 61,
   "metadata": {},
   "outputs": [],
   "source": [
    "RF = RandomForestClassifier()"
   ]
  },
  {
   "cell_type": "code",
   "execution_count": 62,
   "metadata": {},
   "outputs": [
    {
     "data": {
      "text/plain": [
       "0.9662921348314607"
      ]
     },
     "execution_count": 62,
     "metadata": {},
     "output_type": "execute_result"
    }
   ],
   "source": [
    "RF.fit(X_train, y_train)\n",
    "predictions = RF.predict(X_test)\n",
    "accuracy_score(y_test, predictions)"
   ]
  },
  {
   "cell_type": "code",
   "execution_count": 63,
   "metadata": {},
   "outputs": [],
   "source": [
    "RF2 = RandomForestClassifier()\n",
    "select_RF2 = SelectFromModel(RF2)\n",
    "train_X_prep_RFBest = select_RF2.fit_transform(X_train, y_train)"
   ]
  },
  {
   "cell_type": "code",
   "execution_count": 64,
   "metadata": {},
   "outputs": [],
   "source": [
    "test_X_prep_RFBest= select_RF2.transform(X_test,)"
   ]
  },
  {
   "cell_type": "code",
   "execution_count": 65,
   "metadata": {},
   "outputs": [
    {
     "data": {
      "text/plain": [
       "0.9662921348314607"
      ]
     },
     "execution_count": 65,
     "metadata": {},
     "output_type": "execute_result"
    }
   ],
   "source": [
    "RF2.fit(train_X_prep_RFBest, y_train)\n",
    "predictions = RF2.predict(test_X_prep_RFBest)\n",
    "accuracy_score(y_test, predictions)"
   ]
  },
  {
   "cell_type": "code",
   "execution_count": 69,
   "metadata": {},
   "outputs": [],
   "source": [
    "from sklearn.tree import plot_tree"
   ]
  },
  {
   "cell_type": "code",
   "execution_count": 70,
   "metadata": {},
   "outputs": [],
   "source": [
    "#from sklearn.tree import export_graphviz\n",
    "estimator = RF2.estimators_[5]\n",
    "# Export as dot file\n",
    "export_graphviz(estimator, \n",
    "                out_file='tree.dot')\n"
   ]
  },
  {
   "cell_type": "code",
   "execution_count": 76,
   "metadata": {},
   "outputs": [
    {
     "data": {
      "text/plain": [
       "[Text(464.18595840301003, 1060.02, 'X[1] <= 19.5\\ngini = 0.217\\nsamples = 891\\nvalue = [1247, 176]'),\n",
       " Text(365.09401128762545, 1005.6600000000001, 'X[1] <= 9.5\\ngini = 0.182\\nsamples = 835\\nvalue = [1206, 136]'),\n",
       " Text(222.89673913043478, 951.3000000000001, 'X[2] <= 1.5\\ngini = 0.094\\nsamples = 402\\nvalue = [618, 32]'),\n",
       " Text(211.6994147157191, 896.94, 'X[5] <= 0.5\\ngini = 0.163\\nsamples = 219\\nvalue = [325, 32]'),\n",
       " Text(200.50209030100336, 842.58, 'gini = 0.0\\nsamples = 142\\nvalue = [235, 0]'),\n",
       " Text(222.89673913043478, 842.58, 'X[5] <= 13.5\\ngini = 0.387\\nsamples = 77\\nvalue = [90, 32]'),\n",
       " Text(165.8603678929766, 788.22, 'X[4] <= 1231.5\\ngini = 0.496\\nsamples = 39\\nvalue = [32, 27]'),\n",
       " Text(118.97157190635453, 733.8600000000001, 'X[3] <= 2.5\\ngini = 0.477\\nsamples = 35\\nvalue = [31, 20]'),\n",
       " Text(58.785953177257525, 679.5, 'X[6] <= 199.5\\ngini = 0.499\\nsamples = 21\\nvalue = [15, 16]'),\n",
       " Text(22.39464882943144, 625.1400000000001, 'X[6] <= 93.0\\ngini = 0.278\\nsamples = 4\\nvalue = [5, 1]'),\n",
       " Text(11.19732441471572, 570.7800000000001, 'gini = 0.0\\nsamples = 1\\nvalue = [0, 1]'),\n",
       " Text(33.591973244147155, 570.7800000000001, 'gini = 0.0\\nsamples = 3\\nvalue = [5, 0]'),\n",
       " Text(95.17725752508362, 625.1400000000001, 'X[4] <= 726.0\\ngini = 0.48\\nsamples = 17\\nvalue = [10, 15]'),\n",
       " Text(55.9866220735786, 570.7800000000001, 'X[0] <= 33.5\\ngini = 0.346\\nsamples = 11\\nvalue = [4, 14]'),\n",
       " Text(33.591973244147155, 516.4200000000001, 'X[3] <= 1.5\\ngini = 0.231\\nsamples = 8\\nvalue = [2, 13]'),\n",
       " Text(22.39464882943144, 462.06000000000006, 'X[7] <= 7.5\\ngini = 0.408\\nsamples = 4\\nvalue = [2, 5]'),\n",
       " Text(11.19732441471572, 407.70000000000005, 'gini = 0.0\\nsamples = 2\\nvalue = [0, 5]'),\n",
       " Text(33.591973244147155, 407.70000000000005, 'gini = 0.0\\nsamples = 2\\nvalue = [2, 0]'),\n",
       " Text(44.78929765886288, 462.06000000000006, 'gini = 0.0\\nsamples = 4\\nvalue = [0, 8]'),\n",
       " Text(78.38127090301003, 516.4200000000001, 'X[1] <= 8.5\\ngini = 0.444\\nsamples = 3\\nvalue = [2, 1]'),\n",
       " Text(67.18394648829431, 462.06000000000006, 'gini = 0.0\\nsamples = 2\\nvalue = [2, 0]'),\n",
       " Text(89.57859531772576, 462.06000000000006, 'gini = 0.0\\nsamples = 1\\nvalue = [0, 1]'),\n",
       " Text(134.36789297658862, 570.7800000000001, 'X[4] <= 931.0\\ngini = 0.245\\nsamples = 6\\nvalue = [6, 1]'),\n",
       " Text(123.17056856187291, 516.4200000000001, 'X[2] <= 0.5\\ngini = 0.444\\nsamples = 2\\nvalue = [2, 1]'),\n",
       " Text(111.9732441471572, 462.06000000000006, 'gini = 0.0\\nsamples = 1\\nvalue = [2, 0]'),\n",
       " Text(134.36789297658862, 462.06000000000006, 'gini = 0.0\\nsamples = 1\\nvalue = [0, 1]'),\n",
       " Text(145.56521739130434, 516.4200000000001, 'gini = 0.0\\nsamples = 4\\nvalue = [4, 0]'),\n",
       " Text(179.1571906354515, 679.5, 'X[0] <= 26.5\\ngini = 0.32\\nsamples = 14\\nvalue = [16, 4]'),\n",
       " Text(167.9598662207358, 625.1400000000001, 'X[1] <= 6.5\\ngini = 0.444\\nsamples = 4\\nvalue = [2, 4]'),\n",
       " Text(156.76254180602007, 570.7800000000001, 'gini = 0.0\\nsamples = 2\\nvalue = [2, 0]'),\n",
       " Text(179.1571906354515, 570.7800000000001, 'gini = 0.0\\nsamples = 2\\nvalue = [0, 4]'),\n",
       " Text(190.35451505016724, 625.1400000000001, 'gini = 0.0\\nsamples = 10\\nvalue = [14, 0]'),\n",
       " Text(212.74916387959868, 733.8600000000001, 'X[7] <= 15.5\\ngini = 0.219\\nsamples = 4\\nvalue = [1, 7]'),\n",
       " Text(201.55183946488296, 679.5, 'gini = 0.0\\nsamples = 2\\nvalue = [0, 6]'),\n",
       " Text(223.9464882943144, 679.5, 'X[3] <= 4.0\\ngini = 0.5\\nsamples = 2\\nvalue = [1, 1]'),\n",
       " Text(212.74916387959868, 625.1400000000001, 'gini = 0.0\\nsamples = 1\\nvalue = [1, 0]'),\n",
       " Text(235.1438127090301, 625.1400000000001, 'gini = 0.0\\nsamples = 1\\nvalue = [0, 1]'),\n",
       " Text(279.933110367893, 788.22, 'X[4] <= 2308.0\\ngini = 0.146\\nsamples = 38\\nvalue = [58, 5]'),\n",
       " Text(268.73578595317724, 733.8600000000001, 'gini = 0.0\\nsamples = 17\\nvalue = [31, 0]'),\n",
       " Text(291.1304347826087, 733.8600000000001, 'X[4] <= 2633.5\\ngini = 0.264\\nsamples = 21\\nvalue = [27, 5]'),\n",
       " Text(268.73578595317724, 679.5, 'X[6] <= 30511.0\\ngini = 0.375\\nsamples = 4\\nvalue = [1, 3]'),\n",
       " Text(257.53846153846155, 625.1400000000001, 'gini = 0.0\\nsamples = 3\\nvalue = [0, 3]'),\n",
       " Text(279.933110367893, 625.1400000000001, 'gini = 0.0\\nsamples = 1\\nvalue = [1, 0]'),\n",
       " Text(313.52508361204013, 679.5, 'X[6] <= 35489.0\\ngini = 0.133\\nsamples = 17\\nvalue = [26, 2]'),\n",
       " Text(302.32775919732444, 625.1400000000001, 'X[0] <= 38.0\\ngini = 0.408\\nsamples = 3\\nvalue = [5, 2]'),\n",
       " Text(291.1304347826087, 570.7800000000001, 'gini = 0.0\\nsamples = 1\\nvalue = [0, 2]'),\n",
       " Text(313.52508361204013, 570.7800000000001, 'gini = 0.0\\nsamples = 2\\nvalue = [5, 0]'),\n",
       " Text(324.7224080267559, 625.1400000000001, 'gini = 0.0\\nsamples = 14\\nvalue = [21, 0]'),\n",
       " Text(234.0940635451505, 896.94, 'gini = 0.0\\nsamples = 183\\nvalue = [293, 0]'),\n",
       " Text(507.2912834448161, 951.3000000000001, 'X[6] <= 62.0\\ngini = 0.255\\nsamples = 433\\nvalue = [588, 104]'),\n",
       " Text(496.09395903010034, 896.94, 'gini = 0.0\\nsamples = 135\\nvalue = [210, 0]'),\n",
       " Text(518.4886078595318, 896.94, 'X[4] <= 315.0\\ngini = 0.338\\nsamples = 298\\nvalue = [378, 104]'),\n",
       " Text(391.90635451505017, 842.58, 'X[5] <= 2.5\\ngini = 0.26\\nsamples = 12\\nvalue = [4, 22]'),\n",
       " Text(380.7090301003345, 788.22, 'X[4] <= 66.0\\ngini = 0.408\\nsamples = 6\\nvalue = [4, 10]'),\n",
       " Text(369.5117056856187, 733.8600000000001, 'X[0] <= 55.0\\ngini = 0.278\\nsamples = 5\\nvalue = [2, 10]'),\n",
       " Text(358.314381270903, 679.5, 'X[1] <= 10.5\\ngini = 0.48\\nsamples = 2\\nvalue = [2, 3]'),\n",
       " Text(347.11705685618733, 625.1400000000001, 'gini = 0.0\\nsamples = 1\\nvalue = [0, 3]'),\n",
       " Text(369.5117056856187, 625.1400000000001, 'gini = 0.0\\nsamples = 1\\nvalue = [2, 0]'),\n",
       " Text(380.7090301003345, 679.5, 'gini = 0.0\\nsamples = 3\\nvalue = [0, 7]'),\n",
       " Text(391.90635451505017, 733.8600000000001, 'gini = 0.0\\nsamples = 1\\nvalue = [2, 0]'),\n",
       " Text(403.1036789297659, 788.22, 'gini = 0.0\\nsamples = 6\\nvalue = [0, 12]'),\n",
       " Text(645.0708612040135, 842.58, 'X[10] <= 0.5\\ngini = 0.295\\nsamples = 286\\nvalue = [374, 82]'),\n",
       " Text(570.7136287625418, 788.22, 'X[4] <= 2363.0\\ngini = 0.427\\nsamples = 126\\nvalue = [145, 65]'),\n",
       " Text(511.57775919732444, 733.8600000000001, 'X[4] <= 2119.5\\ngini = 0.46\\nsamples = 91\\nvalue = [100, 56]'),\n",
       " Text(460.48996655518397, 679.5, 'X[0] <= 50.5\\ngini = 0.405\\nsamples = 81\\nvalue = [99, 39]'),\n",
       " Text(391.90635451505017, 625.1400000000001, 'X[3] <= 5.5\\ngini = 0.411\\nsamples = 24\\nvalue = [13, 32]'),\n",
       " Text(352.7157190635452, 570.7800000000001, 'X[6] <= 9689.0\\ngini = 0.251\\nsamples = 19\\nvalue = [5, 29]'),\n",
       " Text(330.32107023411373, 516.4200000000001, 'X[7] <= 5.5\\ngini = 0.133\\nsamples = 15\\nvalue = [2, 26]'),\n",
       " Text(319.123745819398, 462.06000000000006, 'gini = 0.0\\nsamples = 1\\nvalue = [1, 0]'),\n",
       " Text(341.5183946488294, 462.06000000000006, 'X[6] <= 2189.5\\ngini = 0.071\\nsamples = 14\\nvalue = [1, 26]'),\n",
       " Text(330.32107023411373, 407.70000000000005, 'gini = 0.0\\nsamples = 9\\nvalue = [0, 18]'),\n",
       " Text(352.7157190635452, 407.70000000000005, 'X[7] <= 13.5\\ngini = 0.198\\nsamples = 5\\nvalue = [1, 8]'),\n",
       " Text(341.5183946488294, 353.34000000000003, 'gini = 0.0\\nsamples = 1\\nvalue = [1, 0]'),\n",
       " Text(363.9130434782609, 353.34000000000003, 'gini = 0.0\\nsamples = 4\\nvalue = [0, 8]'),\n",
       " Text(375.1103678929766, 516.4200000000001, 'X[3] <= 3.5\\ngini = 0.5\\nsamples = 4\\nvalue = [3, 3]'),\n",
       " Text(363.9130434782609, 462.06000000000006, 'gini = 0.0\\nsamples = 2\\nvalue = [0, 3]'),\n",
       " Text(386.3076923076923, 462.06000000000006, 'gini = 0.0\\nsamples = 2\\nvalue = [3, 0]'),\n",
       " Text(431.0969899665552, 570.7800000000001, 'X[4] <= 1661.0\\ngini = 0.397\\nsamples = 5\\nvalue = [8, 3]'),\n",
       " Text(419.89966555183946, 516.4200000000001, 'X[4] <= 1065.0\\ngini = 0.198\\nsamples = 4\\nvalue = [8, 1]'),\n",
       " Text(408.70234113712377, 462.06000000000006, 'gini = 0.0\\nsamples = 1\\nvalue = [0, 1]'),\n",
       " Text(431.0969899665552, 462.06000000000006, 'gini = 0.0\\nsamples = 3\\nvalue = [8, 0]'),\n",
       " Text(442.2943143812709, 516.4200000000001, 'gini = 0.0\\nsamples = 1\\nvalue = [0, 2]'),\n",
       " Text(529.0735785953177, 625.1400000000001, 'X[8] <= 5.0\\ngini = 0.139\\nsamples = 57\\nvalue = [86, 7]'),\n",
       " Text(481.48494983277595, 570.7800000000001, 'X[5] <= 8.5\\ngini = 0.091\\nsamples = 50\\nvalue = [80, 4]'),\n",
       " Text(470.2876254180602, 516.4200000000001, 'gini = 0.0\\nsamples = 12\\nvalue = [20, 0]'),\n",
       " Text(492.68227424749165, 516.4200000000001, 'X[0] <= 56.5\\ngini = 0.117\\nsamples = 38\\nvalue = [60, 4]'),\n",
       " Text(453.49163879598666, 462.06000000000006, 'X[3] <= 2.5\\ngini = 0.32\\nsamples = 11\\nvalue = [12, 3]'),\n",
       " Text(431.0969899665552, 407.70000000000005, 'X[1] <= 10.5\\ngini = 0.444\\nsamples = 2\\nvalue = [1, 2]'),\n",
       " Text(419.89966555183946, 353.34000000000003, 'gini = 0.0\\nsamples = 1\\nvalue = [1, 0]'),\n",
       " Text(442.2943143812709, 353.34000000000003, 'gini = 0.0\\nsamples = 1\\nvalue = [0, 2]'),\n",
       " Text(475.8862876254181, 407.70000000000005, 'X[3] <= 7.5\\ngini = 0.153\\nsamples = 9\\nvalue = [11, 1]'),\n",
       " Text(464.68896321070235, 353.34000000000003, 'gini = 0.0\\nsamples = 6\\nvalue = [8, 0]'),\n",
       " Text(487.0836120401338, 353.34000000000003, 'X[7] <= 19.0\\ngini = 0.375\\nsamples = 3\\nvalue = [3, 1]'),\n",
       " Text(475.8862876254181, 298.98, 'gini = 0.0\\nsamples = 1\\nvalue = [0, 1]'),\n",
       " Text(498.2809364548495, 298.98, 'gini = 0.0\\nsamples = 2\\nvalue = [3, 0]'),\n",
       " Text(531.8729096989966, 462.06000000000006, 'X[2] <= 0.5\\ngini = 0.04\\nsamples = 27\\nvalue = [48, 1]'),\n",
       " Text(520.6755852842809, 407.70000000000005, 'X[4] <= 1369.5\\ngini = 0.245\\nsamples = 3\\nvalue = [6, 1]'),\n",
       " Text(509.47826086956525, 353.34000000000003, 'gini = 0.0\\nsamples = 1\\nvalue = [0, 1]'),\n",
       " Text(531.8729096989966, 353.34000000000003, 'gini = 0.0\\nsamples = 2\\nvalue = [6, 0]'),\n",
       " Text(543.0702341137124, 407.70000000000005, 'gini = 0.0\\nsamples = 24\\nvalue = [42, 0]'),\n",
       " Text(576.6622073578595, 570.7800000000001, 'X[2] <= 1.5\\ngini = 0.444\\nsamples = 7\\nvalue = [6, 3]'),\n",
       " Text(565.4648829431438, 516.4200000000001, 'X[7] <= 17.5\\ngini = 0.5\\nsamples = 5\\nvalue = [3, 3]'),\n",
       " Text(554.2675585284281, 462.06000000000006, 'gini = 0.0\\nsamples = 2\\nvalue = [2, 0]'),\n",
       " Text(576.6622073578595, 462.06000000000006, 'X[5] <= 22.0\\ngini = 0.375\\nsamples = 3\\nvalue = [1, 3]'),\n",
       " Text(565.4648829431438, 407.70000000000005, 'gini = 0.0\\nsamples = 2\\nvalue = [0, 3]'),\n",
       " Text(587.8595317725752, 407.70000000000005, 'gini = 0.0\\nsamples = 1\\nvalue = [1, 0]'),\n",
       " Text(587.8595317725752, 516.4200000000001, 'gini = 0.0\\nsamples = 2\\nvalue = [3, 0]'),\n",
       " Text(562.6655518394649, 679.5, 'X[0] <= 83.0\\ngini = 0.105\\nsamples = 10\\nvalue = [1, 17]'),\n",
       " Text(551.4682274247492, 625.1400000000001, 'gini = 0.0\\nsamples = 9\\nvalue = [0, 17]'),\n",
       " Text(573.8628762541806, 625.1400000000001, 'gini = 0.0\\nsamples = 1\\nvalue = [1, 0]'),\n",
       " Text(629.8494983277592, 733.8600000000001, 'X[3] <= 1.5\\ngini = 0.278\\nsamples = 35\\nvalue = [45, 9]'),\n",
       " Text(607.4548494983278, 679.5, 'X[8] <= 3.0\\ngini = 0.463\\nsamples = 6\\nvalue = [4, 7]'),\n",
       " Text(596.2575250836121, 625.1400000000001, 'gini = 0.0\\nsamples = 3\\nvalue = [0, 7]'),\n",
       " Text(618.6521739130435, 625.1400000000001, 'gini = 0.0\\nsamples = 3\\nvalue = [4, 0]'),\n",
       " Text(652.2441471571907, 679.5, 'X[1] <= 12.5\\ngini = 0.089\\nsamples = 29\\nvalue = [41, 2]'),\n",
       " Text(641.046822742475, 625.1400000000001, 'X[0] <= 42.0\\ngini = 0.117\\nsamples = 20\\nvalue = [30, 2]'),\n",
       " Text(629.8494983277592, 570.7800000000001, 'gini = 0.0\\nsamples = 1\\nvalue = [0, 1]'),\n",
       " Text(652.2441471571907, 570.7800000000001, 'X[4] <= 3185.5\\ngini = 0.062\\nsamples = 19\\nvalue = [30, 1]'),\n",
       " Text(641.046822742475, 516.4200000000001, 'gini = 0.0\\nsamples = 10\\nvalue = [20, 0]'),\n",
       " Text(663.4414715719064, 516.4200000000001, 'X[0] <= 58.0\\ngini = 0.165\\nsamples = 9\\nvalue = [10, 1]'),\n",
       " Text(652.2441471571907, 462.06000000000006, 'X[6] <= 19887.0\\ngini = 0.32\\nsamples = 4\\nvalue = [4, 1]'),\n",
       " Text(641.046822742475, 407.70000000000005, 'gini = 0.0\\nsamples = 1\\nvalue = [0, 1]'),\n",
       " Text(663.4414715719064, 407.70000000000005, 'gini = 0.0\\nsamples = 3\\nvalue = [4, 0]'),\n",
       " Text(674.6387959866221, 462.06000000000006, 'gini = 0.0\\nsamples = 5\\nvalue = [6, 0]'),\n",
       " Text(663.4414715719064, 625.1400000000001, 'gini = 0.0\\nsamples = 9\\nvalue = [11, 0]'),\n",
       " Text(719.428093645485, 788.22, 'X[6] <= 9909.5\\ngini = 0.129\\nsamples = 160\\nvalue = [229, 17]'),\n",
       " Text(708.2307692307693, 733.8600000000001, 'X[6] <= 9691.0\\ngini = 0.22\\nsamples = 87\\nvalue = [118, 17]'),\n",
       " Text(697.0334448160536, 679.5, 'X[7] <= 8.5\\ngini = 0.19\\nsamples = 85\\nvalue = [118, 14]'),\n",
       " Text(685.8361204013378, 625.1400000000001, 'gini = 0.0\\nsamples = 30\\nvalue = [45, 0]'),\n",
       " Text(708.2307692307693, 625.1400000000001, 'X[3] <= 1.5\\ngini = 0.27\\nsamples = 55\\nvalue = [73, 14]'),\n",
       " Text(697.0334448160536, 570.7800000000001, 'gini = 0.0\\nsamples = 3\\nvalue = [0, 5]'),\n",
       " Text(719.428093645485, 570.7800000000001, 'X[4] <= 749.0\\ngini = 0.195\\nsamples = 52\\nvalue = [73, 9]'),\n",
       " Text(708.2307692307693, 516.4200000000001, 'gini = 0.0\\nsamples = 2\\nvalue = [0, 4]'),\n",
       " Text(730.6254180602007, 516.4200000000001, 'X[3] <= 7.5\\ngini = 0.12\\nsamples = 50\\nvalue = [73, 5]'),\n",
       " Text(719.428093645485, 462.06000000000006, 'X[5] <= 6.5\\ngini = 0.158\\nsamples = 38\\nvalue = [53, 5]'),\n",
       " Text(708.2307692307693, 407.70000000000005, 'gini = 0.0\\nsamples = 1\\nvalue = [0, 1]'),\n",
       " Text(730.6254180602007, 407.70000000000005, 'X[7] <= 13.5\\ngini = 0.131\\nsamples = 37\\nvalue = [53, 4]'),\n",
       " Text(719.428093645485, 353.34000000000003, 'gini = 0.0\\nsamples = 12\\nvalue = [20, 0]'),\n",
       " Text(741.8227424749164, 353.34000000000003, 'X[7] <= 15.0\\ngini = 0.193\\nsamples = 25\\nvalue = [33, 4]'),\n",
       " Text(702.6321070234114, 298.98, 'X[5] <= 12.5\\ngini = 0.444\\nsamples = 3\\nvalue = [1, 2]'),\n",
       " Text(691.4347826086957, 244.62, 'gini = 0.0\\nsamples = 1\\nvalue = [0, 1]'),\n",
       " Text(713.8294314381271, 244.62, 'X[4] <= 1390.5\\ngini = 0.5\\nsamples = 2\\nvalue = [1, 1]'),\n",
       " Text(702.6321070234114, 190.2600000000001, 'gini = 0.0\\nsamples = 1\\nvalue = [1, 0]'),\n",
       " Text(725.0267558528428, 190.2600000000001, 'gini = 0.0\\nsamples = 1\\nvalue = [0, 1]'),\n",
       " Text(781.0133779264214, 298.98, 'X[3] <= 6.5\\ngini = 0.111\\nsamples = 22\\nvalue = [32, 2]'),\n",
       " Text(758.61872909699, 244.62, 'X[5] <= 17.5\\ngini = 0.067\\nsamples = 18\\nvalue = [28, 1]'),\n",
       " Text(747.4214046822743, 190.2600000000001, 'X[2] <= 0.5\\ngini = 0.198\\nsamples = 6\\nvalue = [8, 1]'),\n",
       " Text(736.2240802675585, 135.9000000000001, 'gini = 0.0\\nsamples = 3\\nvalue = [6, 0]'),\n",
       " Text(758.61872909699, 135.9000000000001, 'X[3] <= 4.0\\ngini = 0.444\\nsamples = 3\\nvalue = [2, 1]'),\n",
       " Text(747.4214046822743, 81.54000000000008, 'gini = 0.0\\nsamples = 1\\nvalue = [1, 0]'),\n",
       " Text(769.8160535117057, 81.54000000000008, 'X[0] <= 60.5\\ngini = 0.5\\nsamples = 2\\nvalue = [1, 1]'),\n",
       " Text(758.61872909699, 27.180000000000064, 'gini = 0.0\\nsamples = 1\\nvalue = [1, 0]'),\n",
       " Text(781.0133779264214, 27.180000000000064, 'gini = 0.0\\nsamples = 1\\nvalue = [0, 1]'),\n",
       " Text(769.8160535117057, 190.2600000000001, 'gini = 0.0\\nsamples = 12\\nvalue = [20, 0]'),\n",
       " Text(803.4080267558529, 244.62, 'X[0] <= 63.5\\ngini = 0.32\\nsamples = 4\\nvalue = [4, 1]'),\n",
       " Text(792.2107023411371, 190.2600000000001, 'gini = 0.0\\nsamples = 2\\nvalue = [3, 0]'),\n",
       " Text(814.6053511705686, 190.2600000000001, 'X[0] <= 74.5\\ngini = 0.5\\nsamples = 2\\nvalue = [1, 1]'),\n",
       " Text(803.4080267558529, 135.9000000000001, 'gini = 0.0\\nsamples = 1\\nvalue = [0, 1]'),\n",
       " Text(825.8026755852843, 135.9000000000001, 'gini = 0.0\\nsamples = 1\\nvalue = [1, 0]'),\n",
       " Text(741.8227424749164, 462.06000000000006, 'gini = 0.0\\nsamples = 12\\nvalue = [20, 0]'),\n",
       " Text(719.428093645485, 679.5, 'gini = 0.0\\nsamples = 2\\nvalue = [0, 3]'),\n",
       " Text(730.6254180602007, 733.8600000000001, 'gini = 0.0\\nsamples = 73\\nvalue = [111, 0]'),\n",
       " Text(563.2779055183947, 1005.6600000000001, 'X[2] <= 1.5\\ngini = 0.5\\nsamples = 56\\nvalue = [41, 40]'),\n",
       " Text(552.0805811036789, 951.3000000000001, 'X[9] <= 0.5\\ngini = 0.408\\nsamples = 38\\nvalue = [16, 40]'),\n",
       " Text(540.8832566889632, 896.94, 'gini = 0.0\\nsamples = 10\\nvalue = [16, 0]'),\n",
       " Text(563.2779055183947, 896.94, 'gini = 0.0\\nsamples = 28\\nvalue = [0, 40]'),\n",
       " Text(574.4752299331104, 951.3000000000001, 'gini = 0.0\\nsamples = 18\\nvalue = [25, 0]')]"
      ]
     },
     "execution_count": 76,
     "metadata": {},
     "output_type": "execute_result"
    },
    {
     "data": {
      "image/png": "[encoded data removed]",
      "text/plain": [
       "<Figure size 1080x1440 with 1 Axes>"
      ]
     },
     "metadata": {
      "needs_background": "light"
     },
     "output_type": "display_data"
    }
   ],
   "source": [
    "plt.figure(figsize=[15,20])\n",
    "plot_tree(estimator)\n"
   ]
  },
  {
   "cell_type": "markdown",
   "metadata": {},
   "source": [
    "# Bonus Challenge - Feature Scaling\n",
    "\n",
    "Problem-solving in machine learning is iterative. You can improve your model prediction with various techniques (there is a sweetspot for the time you spend and the improvement you receive though). Now you've completed only one iteration of ML analysis. There are more iterations you can conduct to make improvements. In order to be able to do that, you will need deeper knowledge in statistics and master more data analysis techniques. In this bootcamp, we don't have time to achieve that advanced goal. But you will make constant efforts after the bootcamp to eventually get there.\n",
    "\n",
    "However, now we do want you to learn one of the advanced techniques which is called *feature scaling*. The idea of feature scaling is to standardize/normalize the range of independent variables or features of the data. This can make the outliers more apparent so that you can remove them. This step needs to happen during Challenge 6 after you split the training and test data because you don't want to split the data again which makes it impossible to compare your results with and without feature scaling. For general concepts about feature scaling, click [here](https://en.wikipedia.org/wiki/Feature_scaling). To read deeper, click [here](https://medium.com/greyatom/why-how-and-when-to-scale-your-features-4b30ab09db5e).\n",
    "\n",
    "In the next cell, attempt to improve your model prediction accuracy by means of feature scaling. A library you can utilize is `sklearn.preprocessing.RobustScaler` ([documentation](https://scikit-learn.org/stable/modules/generated/sklearn.preprocessing.RobustScaler.html)). You'll use the `RobustScaler` to fit and transform your `X_train`, then transform `X_test`. You will use logistic regression to fit and predict your transformed data and obtain the accuracy score in the same way. Compare the accuracy score with your normalized data with the previous accuracy data. Is there an improvement?"
   ]
  },
  {
   "cell_type": "code",
   "execution_count": null,
   "metadata": {},
   "outputs": [],
   "source": [
    "# Your code here"
   ]
  }
 ],
 "metadata": {
  "kernelspec": {
   "display_name": "Python 3",
   "language": "python",
   "name": "python3"
  },
  "language_info": {
   "codemirror_mode": {
    "name": "ipython",
    "version": 3
   },
   "file_extension": ".py",
   "mimetype": "text/x-python",
   "name": "python",
   "nbconvert_exporter": "python",
   "pygments_lexer": "ipython3",
   "version": "3.8.6"
  }
 },
 "nbformat": 4,
 "nbformat_minor": 2
}
