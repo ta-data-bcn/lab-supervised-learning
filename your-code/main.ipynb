{
 "cells": [
  {
   "cell_type": "markdown",
   "metadata": {},
   "source": [
    "# Before your start:\n",
    "- Read the README.md file\n",
    "- Comment as much as you can and use the resources in the README.md file\n",
    "- Happy learning!"
   ]
  },
  {
   "cell_type": "code",
   "execution_count": 1,
   "metadata": {},
   "outputs": [],
   "source": [
    "# Import your libraries:\n",
    "import numpy as np\n",
    "import pandas as pd\n",
    "import matplotlib.pyplot as plt\n",
    "import matplotlib.gridspec as gridspec\n",
    "import seaborn as sns\n",
    "from datetime import datetime\n",
    "from sklearn.model_selection import train_test_split\n",
    "from sklearn.preprocessing import Normalizer\n",
    "from sklearn.preprocessing import RobustScaler\n",
    "from sklearn.linear_model import LogisticRegression\n",
    "from sklearn.neighbors import KNeighborsClassifier\n",
    "from sklearn.metrics import confusion_matrix"
   ]
  },
  {
   "cell_type": "markdown",
   "metadata": {},
   "source": [
    "In this lab, we will explore a dataset that describes websites with different features and labels them either benign or malicious . We will use supervised learning algorithms to figure out what feature patterns malicious websites are likely to have and use our model to predict malicious websites.\n",
    "\n",
    "# Challenge 1 - Explore The Dataset\n",
    "\n",
    "Let's start by exploring the dataset. First load the data file:"
   ]
  },
  {
   "cell_type": "code",
   "execution_count": 2,
   "metadata": {},
   "outputs": [],
   "source": [
    "websites = pd.read_csv('../data/website.csv')"
   ]
  },
  {
   "cell_type": "markdown",
   "metadata": {},
   "source": [
    "#### Explore the data from an bird's-eye view.\n",
    "\n",
    "You should already been very familiar with the procedures now so we won't provide the instructions step by step. Reflect on what you did in the previous labs and explore the dataset.\n",
    "\n",
    "Things you'll be looking for:\n",
    "\n",
    "* What the dataset looks like?\n",
    "* What are the data types?\n",
    "* Which columns contain the features of the websites?\n",
    "* Which column contains the feature we will predict? What is the code standing for benign vs malicious websites?\n",
    "* Do we need to transform any of the columns from categorical to ordinal values? If so what are these columns?\n",
    "\n",
    "Feel free to add additional cells for your explorations. Make sure to comment what you find out."
   ]
  },
  {
   "cell_type": "code",
   "execution_count": 3,
   "metadata": {},
   "outputs": [
    {
     "name": "stdout",
     "output_type": "stream",
     "text": [
      "<class 'pandas.core.frame.DataFrame'>\n",
      "RangeIndex: 1781 entries, 0 to 1780\n",
      "Data columns (total 21 columns):\n",
      " #   Column                     Non-Null Count  Dtype  \n",
      "---  ------                     --------------  -----  \n",
      " 0   URL                        1781 non-null   object \n",
      " 1   URL_LENGTH                 1781 non-null   int64  \n",
      " 2   NUMBER_SPECIAL_CHARACTERS  1781 non-null   int64  \n",
      " 3   CHARSET                    1781 non-null   object \n",
      " 4   SERVER                     1780 non-null   object \n",
      " 5   CONTENT_LENGTH             969 non-null    float64\n",
      " 6   WHOIS_COUNTRY              1781 non-null   object \n",
      " 7   WHOIS_STATEPRO             1781 non-null   object \n",
      " 8   WHOIS_REGDATE              1781 non-null   object \n",
      " 9   WHOIS_UPDATED_DATE         1781 non-null   object \n",
      " 10  TCP_CONVERSATION_EXCHANGE  1781 non-null   int64  \n",
      " 11  DIST_REMOTE_TCP_PORT       1781 non-null   int64  \n",
      " 12  REMOTE_IPS                 1781 non-null   int64  \n",
      " 13  APP_BYTES                  1781 non-null   int64  \n",
      " 14  SOURCE_APP_PACKETS         1781 non-null   int64  \n",
      " 15  REMOTE_APP_PACKETS         1781 non-null   int64  \n",
      " 16  SOURCE_APP_BYTES           1781 non-null   int64  \n",
      " 17  REMOTE_APP_BYTES           1781 non-null   int64  \n",
      " 18  APP_PACKETS                1781 non-null   int64  \n",
      " 19  DNS_QUERY_TIMES            1780 non-null   float64\n",
      " 20  Type                       1781 non-null   int64  \n",
      "dtypes: float64(2), int64(12), object(7)\n",
      "memory usage: 292.3+ KB\n"
     ]
    }
   ],
   "source": [
    "# Your code here\n",
    "websites.info()"
   ]
  },
  {
   "cell_type": "code",
   "execution_count": 4,
   "metadata": {
    "scrolled": true
   },
   "outputs": [
    {
     "data": {
      "text/html": [
       "<div>\n",
       "<style scoped>\n",
       "    .dataframe tbody tr th:only-of-type {\n",
       "        vertical-align: middle;\n",
       "    }\n",
       "\n",
       "    .dataframe tbody tr th {\n",
       "        vertical-align: top;\n",
       "    }\n",
       "\n",
       "    .dataframe thead th {\n",
       "        text-align: right;\n",
       "    }\n",
       "</style>\n",
       "<table border=\"1\" class=\"dataframe\">\n",
       "  <thead>\n",
       "    <tr style=\"text-align: right;\">\n",
       "      <th></th>\n",
       "      <th>URL</th>\n",
       "      <th>URL_LENGTH</th>\n",
       "      <th>NUMBER_SPECIAL_CHARACTERS</th>\n",
       "      <th>CHARSET</th>\n",
       "      <th>SERVER</th>\n",
       "      <th>CONTENT_LENGTH</th>\n",
       "      <th>WHOIS_COUNTRY</th>\n",
       "      <th>WHOIS_STATEPRO</th>\n",
       "      <th>WHOIS_REGDATE</th>\n",
       "      <th>WHOIS_UPDATED_DATE</th>\n",
       "      <th>TCP_CONVERSATION_EXCHANGE</th>\n",
       "      <th>DIST_REMOTE_TCP_PORT</th>\n",
       "      <th>REMOTE_IPS</th>\n",
       "      <th>APP_BYTES</th>\n",
       "      <th>SOURCE_APP_PACKETS</th>\n",
       "      <th>REMOTE_APP_PACKETS</th>\n",
       "      <th>SOURCE_APP_BYTES</th>\n",
       "      <th>REMOTE_APP_BYTES</th>\n",
       "      <th>APP_PACKETS</th>\n",
       "      <th>DNS_QUERY_TIMES</th>\n",
       "      <th>Type</th>\n",
       "    </tr>\n",
       "  </thead>\n",
       "  <tbody>\n",
       "    <tr>\n",
       "      <th>0</th>\n",
       "      <td>M0_109</td>\n",
       "      <td>16</td>\n",
       "      <td>7</td>\n",
       "      <td>iso-8859-1</td>\n",
       "      <td>nginx</td>\n",
       "      <td>263.0</td>\n",
       "      <td>None</td>\n",
       "      <td>None</td>\n",
       "      <td>10/10/2015 18:21</td>\n",
       "      <td>None</td>\n",
       "      <td>7</td>\n",
       "      <td>0</td>\n",
       "      <td>2</td>\n",
       "      <td>700</td>\n",
       "      <td>9</td>\n",
       "      <td>10</td>\n",
       "      <td>1153</td>\n",
       "      <td>832</td>\n",
       "      <td>9</td>\n",
       "      <td>2.0</td>\n",
       "      <td>1</td>\n",
       "    </tr>\n",
       "    <tr>\n",
       "      <th>1</th>\n",
       "      <td>B0_2314</td>\n",
       "      <td>16</td>\n",
       "      <td>6</td>\n",
       "      <td>UTF-8</td>\n",
       "      <td>Apache/2.4.10</td>\n",
       "      <td>15087.0</td>\n",
       "      <td>None</td>\n",
       "      <td>None</td>\n",
       "      <td>None</td>\n",
       "      <td>None</td>\n",
       "      <td>17</td>\n",
       "      <td>7</td>\n",
       "      <td>4</td>\n",
       "      <td>1230</td>\n",
       "      <td>17</td>\n",
       "      <td>19</td>\n",
       "      <td>1265</td>\n",
       "      <td>1230</td>\n",
       "      <td>17</td>\n",
       "      <td>0.0</td>\n",
       "      <td>0</td>\n",
       "    </tr>\n",
       "    <tr>\n",
       "      <th>2</th>\n",
       "      <td>B0_911</td>\n",
       "      <td>16</td>\n",
       "      <td>6</td>\n",
       "      <td>us-ascii</td>\n",
       "      <td>Microsoft-HTTPAPI/2.0</td>\n",
       "      <td>324.0</td>\n",
       "      <td>None</td>\n",
       "      <td>None</td>\n",
       "      <td>None</td>\n",
       "      <td>None</td>\n",
       "      <td>0</td>\n",
       "      <td>0</td>\n",
       "      <td>0</td>\n",
       "      <td>0</td>\n",
       "      <td>0</td>\n",
       "      <td>0</td>\n",
       "      <td>0</td>\n",
       "      <td>0</td>\n",
       "      <td>0</td>\n",
       "      <td>0.0</td>\n",
       "      <td>0</td>\n",
       "    </tr>\n",
       "    <tr>\n",
       "      <th>3</th>\n",
       "      <td>B0_113</td>\n",
       "      <td>17</td>\n",
       "      <td>6</td>\n",
       "      <td>ISO-8859-1</td>\n",
       "      <td>nginx</td>\n",
       "      <td>162.0</td>\n",
       "      <td>US</td>\n",
       "      <td>AK</td>\n",
       "      <td>7/10/1997 4:00</td>\n",
       "      <td>12/09/2013 0:45</td>\n",
       "      <td>31</td>\n",
       "      <td>22</td>\n",
       "      <td>3</td>\n",
       "      <td>3812</td>\n",
       "      <td>39</td>\n",
       "      <td>37</td>\n",
       "      <td>18784</td>\n",
       "      <td>4380</td>\n",
       "      <td>39</td>\n",
       "      <td>8.0</td>\n",
       "      <td>0</td>\n",
       "    </tr>\n",
       "    <tr>\n",
       "      <th>4</th>\n",
       "      <td>B0_403</td>\n",
       "      <td>17</td>\n",
       "      <td>6</td>\n",
       "      <td>UTF-8</td>\n",
       "      <td>None</td>\n",
       "      <td>124140.0</td>\n",
       "      <td>US</td>\n",
       "      <td>TX</td>\n",
       "      <td>12/05/1996 0:00</td>\n",
       "      <td>11/04/2017 0:00</td>\n",
       "      <td>57</td>\n",
       "      <td>2</td>\n",
       "      <td>5</td>\n",
       "      <td>4278</td>\n",
       "      <td>61</td>\n",
       "      <td>62</td>\n",
       "      <td>129889</td>\n",
       "      <td>4586</td>\n",
       "      <td>61</td>\n",
       "      <td>4.0</td>\n",
       "      <td>0</td>\n",
       "    </tr>\n",
       "  </tbody>\n",
       "</table>\n",
       "</div>"
      ],
      "text/plain": [
       "       URL  URL_LENGTH  NUMBER_SPECIAL_CHARACTERS     CHARSET  \\\n",
       "0   M0_109          16                          7  iso-8859-1   \n",
       "1  B0_2314          16                          6       UTF-8   \n",
       "2   B0_911          16                          6    us-ascii   \n",
       "3   B0_113          17                          6  ISO-8859-1   \n",
       "4   B0_403          17                          6       UTF-8   \n",
       "\n",
       "                  SERVER  CONTENT_LENGTH WHOIS_COUNTRY WHOIS_STATEPRO  \\\n",
       "0                  nginx           263.0          None           None   \n",
       "1          Apache/2.4.10         15087.0          None           None   \n",
       "2  Microsoft-HTTPAPI/2.0           324.0          None           None   \n",
       "3                  nginx           162.0            US             AK   \n",
       "4                   None        124140.0            US             TX   \n",
       "\n",
       "      WHOIS_REGDATE WHOIS_UPDATED_DATE  TCP_CONVERSATION_EXCHANGE  \\\n",
       "0  10/10/2015 18:21               None                          7   \n",
       "1              None               None                         17   \n",
       "2              None               None                          0   \n",
       "3    7/10/1997 4:00    12/09/2013 0:45                         31   \n",
       "4   12/05/1996 0:00    11/04/2017 0:00                         57   \n",
       "\n",
       "   DIST_REMOTE_TCP_PORT  REMOTE_IPS  APP_BYTES  SOURCE_APP_PACKETS  \\\n",
       "0                     0           2        700                   9   \n",
       "1                     7           4       1230                  17   \n",
       "2                     0           0          0                   0   \n",
       "3                    22           3       3812                  39   \n",
       "4                     2           5       4278                  61   \n",
       "\n",
       "   REMOTE_APP_PACKETS  SOURCE_APP_BYTES  REMOTE_APP_BYTES  APP_PACKETS  \\\n",
       "0                  10              1153               832            9   \n",
       "1                  19              1265              1230           17   \n",
       "2                   0                 0                 0            0   \n",
       "3                  37             18784              4380           39   \n",
       "4                  62            129889              4586           61   \n",
       "\n",
       "   DNS_QUERY_TIMES  Type  \n",
       "0              2.0     1  \n",
       "1              0.0     0  \n",
       "2              0.0     0  \n",
       "3              8.0     0  \n",
       "4              4.0     0  "
      ]
     },
     "execution_count": 4,
     "metadata": {},
     "output_type": "execute_result"
    }
   ],
   "source": [
    "pd.set_option('display.max_columns', None)\n",
    "websites.head()"
   ]
  },
  {
   "cell_type": "code",
   "execution_count": 5,
   "metadata": {},
   "outputs": [
    {
     "data": {
      "text/html": [
       "<div>\n",
       "<style scoped>\n",
       "    .dataframe tbody tr th:only-of-type {\n",
       "        vertical-align: middle;\n",
       "    }\n",
       "\n",
       "    .dataframe tbody tr th {\n",
       "        vertical-align: top;\n",
       "    }\n",
       "\n",
       "    .dataframe thead th {\n",
       "        text-align: right;\n",
       "    }\n",
       "</style>\n",
       "<table border=\"1\" class=\"dataframe\">\n",
       "  <thead>\n",
       "    <tr style=\"text-align: right;\">\n",
       "      <th></th>\n",
       "      <th>URL</th>\n",
       "      <th>URL_LENGTH</th>\n",
       "      <th>NUMBER_SPECIAL_CHARACTERS</th>\n",
       "      <th>CHARSET</th>\n",
       "      <th>SERVER</th>\n",
       "      <th>CONTENT_LENGTH</th>\n",
       "      <th>WHOIS_COUNTRY</th>\n",
       "      <th>WHOIS_STATEPRO</th>\n",
       "      <th>WHOIS_REGDATE</th>\n",
       "      <th>WHOIS_UPDATED_DATE</th>\n",
       "      <th>TCP_CONVERSATION_EXCHANGE</th>\n",
       "      <th>DIST_REMOTE_TCP_PORT</th>\n",
       "      <th>REMOTE_IPS</th>\n",
       "      <th>APP_BYTES</th>\n",
       "      <th>SOURCE_APP_PACKETS</th>\n",
       "      <th>REMOTE_APP_PACKETS</th>\n",
       "      <th>SOURCE_APP_BYTES</th>\n",
       "      <th>REMOTE_APP_BYTES</th>\n",
       "      <th>APP_PACKETS</th>\n",
       "      <th>DNS_QUERY_TIMES</th>\n",
       "      <th>Type</th>\n",
       "    </tr>\n",
       "  </thead>\n",
       "  <tbody>\n",
       "    <tr>\n",
       "      <th>1776</th>\n",
       "      <td>M4_48</td>\n",
       "      <td>194</td>\n",
       "      <td>16</td>\n",
       "      <td>UTF-8</td>\n",
       "      <td>Apache</td>\n",
       "      <td>NaN</td>\n",
       "      <td>ES</td>\n",
       "      <td>Barcelona</td>\n",
       "      <td>17/09/2008 0:00</td>\n",
       "      <td>2/09/2016 0:00</td>\n",
       "      <td>0</td>\n",
       "      <td>0</td>\n",
       "      <td>0</td>\n",
       "      <td>0</td>\n",
       "      <td>0</td>\n",
       "      <td>3</td>\n",
       "      <td>186</td>\n",
       "      <td>0</td>\n",
       "      <td>0</td>\n",
       "      <td>0.0</td>\n",
       "      <td>1</td>\n",
       "    </tr>\n",
       "    <tr>\n",
       "      <th>1777</th>\n",
       "      <td>M4_41</td>\n",
       "      <td>198</td>\n",
       "      <td>17</td>\n",
       "      <td>UTF-8</td>\n",
       "      <td>Apache</td>\n",
       "      <td>NaN</td>\n",
       "      <td>ES</td>\n",
       "      <td>Barcelona</td>\n",
       "      <td>17/09/2008 0:00</td>\n",
       "      <td>2/09/2016 0:00</td>\n",
       "      <td>0</td>\n",
       "      <td>0</td>\n",
       "      <td>0</td>\n",
       "      <td>0</td>\n",
       "      <td>0</td>\n",
       "      <td>2</td>\n",
       "      <td>124</td>\n",
       "      <td>0</td>\n",
       "      <td>0</td>\n",
       "      <td>0.0</td>\n",
       "      <td>1</td>\n",
       "    </tr>\n",
       "    <tr>\n",
       "      <th>1778</th>\n",
       "      <td>B0_162</td>\n",
       "      <td>201</td>\n",
       "      <td>34</td>\n",
       "      <td>utf-8</td>\n",
       "      <td>Apache/2.2.16 (Debian)</td>\n",
       "      <td>8904.0</td>\n",
       "      <td>US</td>\n",
       "      <td>FL</td>\n",
       "      <td>15/02/1999 0:00</td>\n",
       "      <td>15/07/2015 0:00</td>\n",
       "      <td>83</td>\n",
       "      <td>2</td>\n",
       "      <td>6</td>\n",
       "      <td>6631</td>\n",
       "      <td>87</td>\n",
       "      <td>89</td>\n",
       "      <td>132181</td>\n",
       "      <td>6945</td>\n",
       "      <td>87</td>\n",
       "      <td>4.0</td>\n",
       "      <td>0</td>\n",
       "    </tr>\n",
       "    <tr>\n",
       "      <th>1779</th>\n",
       "      <td>B0_1152</td>\n",
       "      <td>234</td>\n",
       "      <td>34</td>\n",
       "      <td>ISO-8859-1</td>\n",
       "      <td>cloudflare-nginx</td>\n",
       "      <td>NaN</td>\n",
       "      <td>US</td>\n",
       "      <td>CA</td>\n",
       "      <td>1/04/1998 0:00</td>\n",
       "      <td>9/12/2016 0:00</td>\n",
       "      <td>0</td>\n",
       "      <td>0</td>\n",
       "      <td>0</td>\n",
       "      <td>0</td>\n",
       "      <td>0</td>\n",
       "      <td>0</td>\n",
       "      <td>0</td>\n",
       "      <td>0</td>\n",
       "      <td>0</td>\n",
       "      <td>0.0</td>\n",
       "      <td>0</td>\n",
       "    </tr>\n",
       "    <tr>\n",
       "      <th>1780</th>\n",
       "      <td>B0_676</td>\n",
       "      <td>249</td>\n",
       "      <td>40</td>\n",
       "      <td>utf-8</td>\n",
       "      <td>Microsoft-IIS/8.5</td>\n",
       "      <td>24435.0</td>\n",
       "      <td>US</td>\n",
       "      <td>Wisconsin</td>\n",
       "      <td>14/11/2008 0:00</td>\n",
       "      <td>20/11/2013 0:00</td>\n",
       "      <td>19</td>\n",
       "      <td>6</td>\n",
       "      <td>11</td>\n",
       "      <td>2314</td>\n",
       "      <td>25</td>\n",
       "      <td>28</td>\n",
       "      <td>3039</td>\n",
       "      <td>2776</td>\n",
       "      <td>25</td>\n",
       "      <td>6.0</td>\n",
       "      <td>0</td>\n",
       "    </tr>\n",
       "  </tbody>\n",
       "</table>\n",
       "</div>"
      ],
      "text/plain": [
       "          URL  URL_LENGTH  NUMBER_SPECIAL_CHARACTERS     CHARSET  \\\n",
       "1776    M4_48         194                         16       UTF-8   \n",
       "1777    M4_41         198                         17       UTF-8   \n",
       "1778   B0_162         201                         34       utf-8   \n",
       "1779  B0_1152         234                         34  ISO-8859-1   \n",
       "1780   B0_676         249                         40       utf-8   \n",
       "\n",
       "                      SERVER  CONTENT_LENGTH WHOIS_COUNTRY WHOIS_STATEPRO  \\\n",
       "1776                  Apache             NaN            ES      Barcelona   \n",
       "1777                  Apache             NaN            ES      Barcelona   \n",
       "1778  Apache/2.2.16 (Debian)          8904.0            US             FL   \n",
       "1779        cloudflare-nginx             NaN            US             CA   \n",
       "1780       Microsoft-IIS/8.5         24435.0            US      Wisconsin   \n",
       "\n",
       "        WHOIS_REGDATE WHOIS_UPDATED_DATE  TCP_CONVERSATION_EXCHANGE  \\\n",
       "1776  17/09/2008 0:00     2/09/2016 0:00                          0   \n",
       "1777  17/09/2008 0:00     2/09/2016 0:00                          0   \n",
       "1778  15/02/1999 0:00    15/07/2015 0:00                         83   \n",
       "1779   1/04/1998 0:00     9/12/2016 0:00                          0   \n",
       "1780  14/11/2008 0:00    20/11/2013 0:00                         19   \n",
       "\n",
       "      DIST_REMOTE_TCP_PORT  REMOTE_IPS  APP_BYTES  SOURCE_APP_PACKETS  \\\n",
       "1776                     0           0          0                   0   \n",
       "1777                     0           0          0                   0   \n",
       "1778                     2           6       6631                  87   \n",
       "1779                     0           0          0                   0   \n",
       "1780                     6          11       2314                  25   \n",
       "\n",
       "      REMOTE_APP_PACKETS  SOURCE_APP_BYTES  REMOTE_APP_BYTES  APP_PACKETS  \\\n",
       "1776                   3               186                 0            0   \n",
       "1777                   2               124                 0            0   \n",
       "1778                  89            132181              6945           87   \n",
       "1779                   0                 0                 0            0   \n",
       "1780                  28              3039              2776           25   \n",
       "\n",
       "      DNS_QUERY_TIMES  Type  \n",
       "1776              0.0     1  \n",
       "1777              0.0     1  \n",
       "1778              4.0     0  \n",
       "1779              0.0     0  \n",
       "1780              6.0     0  "
      ]
     },
     "execution_count": 5,
     "metadata": {},
     "output_type": "execute_result"
    }
   ],
   "source": [
    "websites.tail()"
   ]
  },
  {
   "cell_type": "markdown",
   "metadata": {},
   "source": [
    "#### Comments about the dataset\n",
    "- The identification of *benign vs malicious* is done by the 'URL' column: first letter (either 'B' or 'M' respectively) and this also corresponds to column 'Type' (either 0 or 1 respectively).\n",
    "- At first sight, I would consider the following features for the website: *URL_length, Number_Special_Characters, Charset, Server, Content_length, Country, Registered and Updated Dates, Dist_TCP_Port, Remote_IPS, Source_Packets, Remote_Packets, Source_bytes, Remote_bytes and DNS_query times*.\n",
    "- Yes there are categorical columns that need to be converted to numerical, for example: Charset, Server, Country."
   ]
  },
  {
   "cell_type": "markdown",
   "metadata": {},
   "source": [
    "#### Next, evaluate if the columns in this dataset are strongly correlated.\n",
    "\n",
    "If our dataset has strongly correlated columns, we need to choose certain ML algorithms instead of others. We need to evaluate this for our dataset now.\n",
    "\n",
    "Luckily, most of the columns in this dataset are ordinal which makes things a lot easier for us. In the next cells below, evaluate the level of collinearity of the data.\n",
    "\n",
    "We provide some general directions for you to consult in order to complete this step:\n",
    "\n",
    "1. You will create a correlation matrix using the numeric columns in the dataset.\n",
    "\n",
    "1. Create a heatmap using `seaborn` to visualize which columns have high collinearity.\n",
    "\n",
    "1. Comment on which columns you might need to remove due to high collinearity."
   ]
  },
  {
   "cell_type": "code",
   "execution_count": 6,
   "metadata": {},
   "outputs": [],
   "source": [
    "# Change dates to numeric ?\n",
    "# websites_num.WHOIS_REGDATE = pd.to_datetime(websites_num.WHOIS_REGDATE).apply(datetime.toordinal)\n",
    "# websites_num.WHOIS_UPDATED_DATE = pd.to_datetime(websites_num.WHOIS_UPDATED_DATE).apply(datetime.toordinal)"
   ]
  },
  {
   "cell_type": "code",
   "execution_count": 7,
   "metadata": {},
   "outputs": [
    {
     "data": {
      "image/png": "[encoded data removed]",
      "text/plain": [
       "<Figure size 792x648 with 2 Axes>"
      ]
     },
     "metadata": {
      "needs_background": "light"
     },
     "output_type": "display_data"
    }
   ],
   "source": [
    "# Your code here\n",
    "cat_columns = ['URL','CHARSET','SERVER','WHOIS_COUNTRY','WHOIS_STATEPRO','WHOIS_REGDATE','WHOIS_UPDATED_DATE']\n",
    "websites_num = websites.drop(columns=cat_columns)\n",
    "# Compute the correlation matrix on numeric variables\n",
    "corr = websites_num.corr()\n",
    "\n",
    "# Generate a mask for the upper triangle\n",
    "mask = np.triu(np.ones_like(corr, dtype=np.bool))\n",
    "# Set up the matplotlib figure\n",
    "f, ax = plt.subplots(figsize=(11, 9))\n",
    "# Generate a custom diverging colormap\n",
    "cmap = sns.diverging_palette(220, 10, as_cmap=True)\n",
    "\n",
    "# Draw the heatmap with the mask and correct aspect ratio\n",
    "# careful about the maximum ! -->  \n",
    "g = sns.heatmap(corr,mask=mask,cmap=cmap,square=True,linewidths=.5,cbar_kws={\"shrink\": .5})\n",
    "plt.xticks(fontsize=10)\n",
    "plt.yticks(fontsize=10)\n",
    "# use matplotlib.colorbar.Colorbar object\n",
    "cbar = g.collections[0].colorbar\n",
    "# here set the labelsize\n",
    "cbar.ax.tick_params(labelsize=13)"
   ]
  },
  {
   "cell_type": "markdown",
   "metadata": {},
   "source": [
    "#### Comments on high collinearity\n",
    "- We observe that *App_packets* is exactly the same variable as *Source_App_packets* and strongly correlated to *Remote_App_packets* and *TCP_conversation_exchange*. Thus, I would just keep one of these four features to proceed into Machine Learning analysis.\n",
    "- In addition, *Remote_App_bytes* and *App_bytes* are also near collinearity so I would just keep one of them for the analysis.\n",
    "- I might also need to consider removing collinearity between *Url_length* and *Number_Special_Characters*."
   ]
  },
  {
   "cell_type": "markdown",
   "metadata": {},
   "source": [
    "# Challenge 2 - Remove Column Collinearity.\n",
    "\n",
    "From the heatmap you created, you should have seen at least 3 columns that can be removed due to high collinearity. Remove these columns from the dataset.\n",
    "\n",
    "Note that you should remove as few columns as you can. You don't have to remove all the columns at once. But instead, try removing one column, then produce the heatmap again to determine if additional columns should be removed. As long as the dataset no longer contains columns that are correlated for over 90%, you can stop. Also, keep in mind when two columns have high collinearity, you only need to remove one of them but not both.\n",
    "\n",
    "In the cells below, remove as few columns as you can to eliminate the high collinearity in the dataset. Make sure to comment on your way so that the instructional team can learn about your thinking process which allows them to give feedback. At the end, print the heatmap again."
   ]
  },
  {
   "cell_type": "code",
   "execution_count": 8,
   "metadata": {},
   "outputs": [
    {
     "name": "stdout",
     "output_type": "stream",
     "text": [
      "Maximum correlation coefficient absolute value is:\n",
      "0.8655800464278235\n"
     ]
    }
   ],
   "source": [
    "# Your code here\n",
    "coll_columns = ['SOURCE_APP_PACKETS','REMOTE_APP_PACKETS','APP_PACKETS','REMOTE_APP_BYTES','URL_LENGTH']\n",
    "websites_num_LI = websites_num.drop(columns=coll_columns)\n",
    "\n",
    "# Compute the correlation matrix on numeric variables\n",
    "corr = websites_num_LI.corr()\n",
    "\n",
    "# Display maximum correlation coefficient (absolute value)\n",
    "print(f\"Maximum correlation coefficient absolute value is:\")\n",
    "\n",
    "print(np.absolute(np.triu(corr.values,k=1)).max())\n"
   ]
  },
  {
   "cell_type": "markdown",
   "metadata": {},
   "source": [
    "#### Comments on handle collinearity\n",
    "Basically, I conducted the elimination of collinear columns following previous analysis and measuring the maximum absolute value comming from the off-diagonal terms of the correlation matrix, until I reached the point of having a collinearity below 90%."
   ]
  },
  {
   "cell_type": "code",
   "execution_count": 9,
   "metadata": {},
   "outputs": [
    {
     "data": {
      "image/png": "[encoded data removed]",
      "text/plain": [
       "<Figure size 792x648 with 2 Axes>"
      ]
     },
     "metadata": {
      "needs_background": "light"
     },
     "output_type": "display_data"
    }
   ],
   "source": [
    "# Print heatmap again\n",
    "\n",
    "# Generate a mask for the upper triangle\n",
    "mask = np.triu(np.ones_like(corr, dtype=np.bool))\n",
    "# Set up the matplotlib figure\n",
    "f, ax = plt.subplots(figsize=(11, 9))\n",
    "# Generate a custom diverging colormap\n",
    "cmap = sns.diverging_palette(220, 10, as_cmap=True)\n",
    "\n",
    "# Get the maximum and minimum values of correlation to set color bar!\n",
    "max_corr = np.triu(corr.values,k=1).max()\n",
    "min_corr = np.triu(corr.values,k=1).min()\n",
    "\n",
    "# Draw the heatmap with the mask and correct aspect ratio\n",
    "g = sns.heatmap(corr,mask=mask,cmap=cmap,square=True,linewidths=.5,cbar_kws={\"shrink\": .5},vmin=min_corr,vmax=max_corr)\n",
    "plt.xticks(fontsize=10)\n",
    "plt.yticks(fontsize=10)\n",
    "# use matplotlib.colorbar.Colorbar object\n",
    "cbar = g.collections[0].colorbar\n",
    "# here set the labelsize\n",
    "cbar.ax.tick_params(labelsize=13)\n"
   ]
  },
  {
   "cell_type": "markdown",
   "metadata": {},
   "source": [
    "# Challenge 3 - Handle Missing Values\n",
    "\n",
    "The next step would be handling missing values. **We start by examining the number of missing values in each column, which you will do in the next cell.**"
   ]
  },
  {
   "cell_type": "code",
   "execution_count": 10,
   "metadata": {},
   "outputs": [
    {
     "name": "stdout",
     "output_type": "stream",
     "text": [
      "Proportion of NaN values in columns:\n",
      "CONTENT_LENGTH               45.59\n",
      "DNS_QUERY_TIMES               0.06\n",
      "Type                          0.00\n",
      "SOURCE_APP_BYTES              0.00\n",
      "APP_BYTES                     0.00\n",
      "REMOTE_IPS                    0.00\n",
      "DIST_REMOTE_TCP_PORT          0.00\n",
      "TCP_CONVERSATION_EXCHANGE     0.00\n",
      "NUMBER_SPECIAL_CHARACTERS     0.00\n",
      "dtype: float64\n",
      "Proportion of Zero numeric values in columns:\n",
      "Type                         87.87\n",
      "DNS_QUERY_TIMES              54.80\n",
      "DIST_REMOTE_TCP_PORT         51.43\n",
      "APP_BYTES                    36.89\n",
      "REMOTE_IPS                   36.89\n",
      "TCP_CONVERSATION_EXCHANGE    36.89\n",
      "SOURCE_APP_BYTES             33.13\n",
      "CONTENT_LENGTH                0.28\n",
      "NUMBER_SPECIAL_CHARACTERS     0.00\n",
      "dtype: float64\n"
     ]
    }
   ],
   "source": [
    "# Your code here\n",
    "prop_nan = websites_num_LI.isna().sum().sort_values(ascending=False)/len(websites_num_LI)*100\n",
    "print(f\"Proportion of NaN values in columns:\\n{round(prop_nan,2)}\")\n",
    "# check also zero values (integer & float types)!\n",
    "prop_0 = (websites_num_LI == 0).sum().sort_values(ascending=False)/len(websites_num_LI)*100\n",
    "print(f\"Proportion of Zero numeric values in columns:\\n{round(prop_0,2)}\")"
   ]
  },
  {
   "cell_type": "markdown",
   "metadata": {},
   "source": [
    "If you remember in the previous labs, we drop a column if the column contains a high proportion of missing values. After dropping those problematic columns, we drop the rows with missing values.\n",
    "\n",
    "#### In the cells below, handle the missing values from the dataset. Remember to comment the rationale of your decisions."
   ]
  },
  {
   "cell_type": "code",
   "execution_count": 11,
   "metadata": {
    "scrolled": true
   },
   "outputs": [
    {
     "name": "stdout",
     "output_type": "stream",
     "text": [
      "Non zero entries from APP_BYTES coincide with REMOTE_IPS: True\n",
      "Non zero entries from REMOTE_IPS coincide with TCP_EXCHANGE: True\n"
     ]
    }
   ],
   "source": [
    "# Your code here\n",
    "# Discard column of content_length (above 45% of NaN)\n",
    "websites_num_clean = websites_num_LI.drop(columns='CONTENT_LENGTH')\n",
    "# Drop 1 entry with NaN in 'DNS_QUERY_TIMES'\n",
    "websites_num_clean = websites_num_clean.dropna()\n",
    "# Note zero entries in App_Bytes correspond exactly with Remote_IPS and TCP_exchange\n",
    "# Also their indices correspond\n",
    "bool1 = websites_num_clean.APP_BYTES != 0\n",
    "bool2 = websites_num_clean.REMOTE_IPS != 0\n",
    "bool3 = websites_num_clean.TCP_CONVERSATION_EXCHANGE != 0\n",
    "print(f\"Non zero entries from APP_BYTES coincide with REMOTE_IPS: {bool1.equals(bool2)}\")\n",
    "print(f\"Non zero entries from REMOTE_IPS coincide with TCP_EXCHANGE: {bool2.equals(bool3)}\")\n",
    "# Then all zero values from these rows are droped\n",
    "websites_num_noZero = websites_num_clean.loc[bool1]\n",
    "# websites_num_noZero = websites_num_clean"
   ]
  },
  {
   "cell_type": "markdown",
   "metadata": {},
   "source": [
    "Comments about missing values:\n",
    "- Column 'CONTENT_LENGTH' discarded (+45% NaN entries).\n",
    "- Drop an entry with NaN in 'DNS_QUERY_TIMES'\n",
    "- Drop all zero entries from APP_Bytes also removes zero entries from SOURCE_APP_BYTES, REMOTE_IPS and TCP_CONVERSATION_EXCHANGE"
   ]
  },
  {
   "cell_type": "markdown",
   "metadata": {},
   "source": [
    "#### Again, examine the number of missing values in each column. \n",
    "\n",
    "If all cleaned, proceed. Otherwise, go back and do more cleaning."
   ]
  },
  {
   "cell_type": "code",
   "execution_count": 12,
   "metadata": {},
   "outputs": [
    {
     "name": "stdout",
     "output_type": "stream",
     "text": [
      "Proportion of Zero numeric values in columns:\n",
      "Type                         86.46\n",
      "DNS_QUERY_TIMES              28.58\n",
      "DIST_REMOTE_TCP_PORT         23.06\n",
      "SOURCE_APP_BYTES              0.00\n",
      "APP_BYTES                     0.00\n",
      "REMOTE_IPS                    0.00\n",
      "TCP_CONVERSATION_EXCHANGE     0.00\n",
      "NUMBER_SPECIAL_CHARACTERS     0.00\n",
      "dtype: float64\n"
     ]
    },
    {
     "data": {
      "text/plain": [
       "Text(0.5, 0, 'DIST_REMOTE_TCP_PORT')"
      ]
     },
     "execution_count": 12,
     "metadata": {},
     "output_type": "execute_result"
    },
    {
     "data": {
      "image/png": "[encoded data removed]",
      "text/plain": [
       "<Figure size 864x432 with 2 Axes>"
      ]
     },
     "metadata": {
      "needs_background": "light"
     },
     "output_type": "display_data"
    }
   ],
   "source": [
    "# Examine missing values in each column\n",
    "# There are still zero values remaining in features\n",
    "prop_0 = (websites_num_noZero == 0).sum().sort_values(ascending=False)/len(websites_num_noZero)*100\n",
    "print(f\"Proportion of Zero numeric values in columns:\\n{round(prop_0,2)}\")\n",
    "\n",
    "# Inspect the distributions from DNS and DIST_REMOTE\n",
    "fig = plt.figure(figsize=[12,6],constrained_layout=True)\n",
    "fig.suptitle('Distributions: DNS_QUERY and DIST_REMOTE', size=16, weight='bold',y=1.05)\n",
    "spec = gridspec.GridSpec(ncols=2, nrows=1, figure=fig)\n",
    "ax1 = fig.add_subplot(spec[0, 0])\n",
    "ax2 = fig.add_subplot(spec[0, 1])\n",
    "sns.distplot(websites_num_noZero.DNS_QUERY_TIMES,ax=ax1,norm_hist=True)\n",
    "sns.distplot(websites_num_noZero.DIST_REMOTE_TCP_PORT,ax=ax2,norm_hist=True,bins=100)\n",
    "\n",
    "# Tweak using Matplotlib\n",
    "plt.sca(ax1)\n",
    "plt.xticks(fontsize=12)\n",
    "plt.yticks(fontsize=12)\n",
    "label_prop = {'size':14,'family':'fantasy','style':'oblique'}\n",
    "plt.xlabel('DNS_QUERY_TIMES',fontdict=label_prop)\n",
    "plt.sca(ax2)\n",
    "plt.ylim(0,0.11)\n",
    "plt.xticks(fontsize=12)\n",
    "plt.yticks(fontsize=12)\n",
    "plt.xlabel('DIST_REMOTE_TCP_PORT',fontdict=label_prop)\n",
    "\n",
    "# print(f\"Value counts from DIST_REMOTE_TCP_PORT are:\\n{websites_num_noZero.DIST_REMOTE_TCP_PORT.value_counts()}\")"
   ]
  },
  {
   "cell_type": "code",
   "execution_count": 13,
   "metadata": {},
   "outputs": [
    {
     "name": "stdout",
     "output_type": "stream",
     "text": [
      "From the original dataset, 12.13 % of the site entries were malicious.\n",
      "After cleaning, 13.54 % of the site entries are malicious (same proportion almost).\n",
      "34.36 % of websites with DIST_REMOTE_TCP_PORT are malignous, thus I keep those entries.\n"
     ]
    }
   ],
   "source": [
    "# Compare proportion of malignous sites (original vs cleaned)\n",
    "prop_org = (websites.Type == 1).sum()/len(websites)*100\n",
    "print(f\"From the original dataset, {round(prop_org,2)} % of the site entries were malicious.\")\n",
    "prop_clean = (websites_num_noZero.Type == 1).sum()/len(websites_num_noZero)*100\n",
    "print(f\"After cleaning, {round(prop_clean,2)} % of the site entries are malicious (same proportion almost).\")\n",
    "# I can't eliminate zero entries for DIST_REMOTE_TCP_PORT even if the distribution is hihgly skewed\n",
    "# It will change the proportion of malignous sites contained in the original dataset\n",
    "idx = websites_num_noZero.DIST_REMOTE_TCP_PORT == 0\n",
    "prop_malig_dist_zero = websites_num_noZero[idx].Type.sum()/idx.sum()*100\n",
    "print(f\"{round(prop_malig_dist_zero,2)} % of websites with DIST_REMOTE_TCP_PORT are malignous, thus I keep those entries.\")"
   ]
  },
  {
   "cell_type": "markdown",
   "metadata": {},
   "source": [
    "# Challenge 4 - Handle `WHOIS_*` Categorical Data"
   ]
  },
  {
   "cell_type": "markdown",
   "metadata": {},
   "source": [
    "There are several categorical columns we need to handle. These columns are:\n",
    "\n",
    "* `URL`\n",
    "* `CHARSET`\n",
    "* `SERVER`\n",
    "* `WHOIS_COUNTRY`\n",
    "* `WHOIS_STATEPRO`\n",
    "* `WHOIS_REGDATE`\n",
    "* `WHOIS_UPDATED_DATE`\n",
    "\n",
    "How to handle string columns is always case by case. Let's start by working on `WHOIS_COUNTRY`. Your steps are:\n",
    "\n",
    "1. List out the unique values of `WHOIS_COUNTRY`.\n",
    "1. Consolidate the country values with consistent country codes. For example, the following values refer to the same country and should use consistent country code:\n",
    "    * `CY` and `Cyprus`\n",
    "    * `US` and `us`\n",
    "    * `SE` and `se`\n",
    "    * `GB`, `United Kingdom`, and `[u'GB'; u'UK']`\n",
    "\n",
    "#### In the cells below, fix the country values as intructed above."
   ]
  },
  {
   "cell_type": "code",
   "execution_count": 14,
   "metadata": {},
   "outputs": [
    {
     "name": "stdout",
     "output_type": "stream",
     "text": [
      "Value counts in WHOIS_COUNTRY (only for numerical clean entries):\n",
      "US                662\n",
      "None              252\n",
      "CA                 49\n",
      "AU                 19\n",
      "GB                 13\n",
      "PA                 11\n",
      "CN                  9\n",
      "ES                  9\n",
      "CZ                  9\n",
      "IN                  8\n",
      "JP                  8\n",
      "FR                  6\n",
      "UK                  5\n",
      "ru                  4\n",
      "NL                  4\n",
      "CH                  4\n",
      "KR                  4\n",
      "PH                  3\n",
      "BS                  3\n",
      "SC                  3\n",
      "KG                  2\n",
      "Cyprus              2\n",
      "AT                  2\n",
      "RU                  2\n",
      "UY                  2\n",
      "SE                  2\n",
      "NO                  2\n",
      "BR                  2\n",
      "HK                  2\n",
      "[u'GB'; u'UK']      2\n",
      "BE                  2\n",
      "UA                  2\n",
      "IE                  1\n",
      "BY                  1\n",
      "TH                  1\n",
      "IT                  1\n",
      "us                  1\n",
      "TR                  1\n",
      "LV                  1\n",
      "UG                  1\n",
      "SI                  1\n",
      "IL                  1\n",
      "PK                  1\n",
      "LU                  1\n",
      "AE                  1\n",
      "KY                  1\n",
      "Name: WHOIS_COUNTRY, dtype: int64\n",
      "Value counts in WHOIS_COUNTRY with consistent codes:\n",
      "US      663\n",
      "None    252\n",
      "CA       49\n",
      "UK       20\n",
      "AU       19\n",
      "PA       11\n",
      "CZ        9\n",
      "ES        9\n",
      "CN        9\n",
      "JP        8\n",
      "IN        8\n",
      "RU        6\n",
      "FR        6\n",
      "KR        4\n",
      "NL        4\n",
      "CH        4\n",
      "SC        3\n",
      "BS        3\n",
      "PH        3\n",
      "KG        2\n",
      "CY        2\n",
      "AT        2\n",
      "SE        2\n",
      "NO        2\n",
      "BE        2\n",
      "HK        2\n",
      "UA        2\n",
      "UY        2\n",
      "BR        2\n",
      "IL        1\n",
      "SI        1\n",
      "UG        1\n",
      "TR        1\n",
      "PK        1\n",
      "LU        1\n",
      "LV        1\n",
      "IT        1\n",
      "TH        1\n",
      "KY        1\n",
      "AE        1\n",
      "BY        1\n",
      "IE        1\n",
      "Name: WHOIS_COUNTRY, dtype: int64\n",
      "24.6 % of websites with country 'None' are malignous, thus I keep those entries.\n"
     ]
    }
   ],
   "source": [
    "# Your code here\n",
    "# Work only over the clean indexes already\n",
    "countries = websites.WHOIS_COUNTRY.loc[websites_num_noZero.index]\n",
    "print(f\"Value counts in WHOIS_COUNTRY (only for numerical clean entries):\\n{countries.value_counts()}\")\n",
    "\n",
    "# Unify some country codes. [ ('se', 'SE'), ('United Kingdom','UK') ] --> already cleaned\n",
    "mapping = [('Cyprus','CY'), ('us','US'), (\"[u'GB'; u'UK']\",'UK'), ('GB','UK'), ('ru', 'RU')]\n",
    "for k, v in mapping:\n",
    "    countries = countries.replace(k,v)\n",
    "\n",
    "print(f\"Value counts in WHOIS_COUNTRY with consistent codes:\\n{countries.value_counts()}\")\n",
    "\n",
    "idx = countries == 'None'\n",
    "prop_malig_none_country = websites_num_noZero[idx].Type.sum()/idx.sum()*100\n",
    "print(f\"{round(prop_malig_none_country,2)} % of websites with country 'None' are malignous, thus I keep those entries.\")\n"
   ]
  },
  {
   "cell_type": "markdown",
   "metadata": {},
   "source": [
    "Since we have fixed the country values, can we convert this column to ordinal now?\n",
    "\n",
    "Not yet. If you reflect on the previous labs how we handle categorical columns, you probably remember we ended up dropping a lot of those columns because there are too many unique values. Too many unique values in a column is not desirable in machine learning because it makes prediction inaccurate. But there are workarounds under certain conditions. One of the fixable conditions is:\n",
    "\n",
    "#### If a limited number of values account for the majority of data, we can retain these top values and re-label all other rare values.\n",
    "\n",
    "The `WHOIS_COUNTRY` column happens to be this case. You can verify it by print a bar chart of the `value_counts` in the next cell to verify:"
   ]
  },
  {
   "cell_type": "code",
   "execution_count": 15,
   "metadata": {},
   "outputs": [
    {
     "data": {
      "text/plain": [
       "Text(0, 0.5, 'Frequencies')"
      ]
     },
     "execution_count": 15,
     "metadata": {},
     "output_type": "execute_result"
    },
    {
     "data": {
      "image/png": "[encoded data removed]",
      "text/plain": [
       "<Figure size 720x288 with 1 Axes>"
      ]
     },
     "metadata": {
      "needs_background": "light"
     },
     "output_type": "display_data"
    }
   ],
   "source": [
    "# Your code here\n",
    "\n",
    "plt.figure(figsize=[10,4])\n",
    "plot_bar = countries.value_counts().plot.bar(color='tomato')\n",
    "plt.title('WHOIS_COUNTRY frequencies', size=16, weight='bold',y=1.05)\n",
    "\n",
    "plt.sca(plot_bar)\n",
    "plt.xticks(fontsize=12)\n",
    "plt.yticks(fontsize=12)\n",
    "plt.ylim(0,700)\n",
    "label_prop = {'size':15,'weight':'bold','family':'fantasy','style':'oblique'}\n",
    "plt.xlabel('Countries',fontdict=label_prop)\n",
    "plt.ylabel('Frequencies',fontdict=label_prop)\n"
   ]
  },
  {
   "cell_type": "markdown",
   "metadata": {},
   "source": [
    "#### After verifying, now let's keep the top 10 values of the column and re-label other columns with `OTHERS`.\n",
    "Having many country entries as `None`, this category will also be placed as `OTHERS`"
   ]
  },
  {
   "cell_type": "code",
   "execution_count": 16,
   "metadata": {
    "scrolled": true
   },
   "outputs": [
    {
     "data": {
      "text/plain": [
       "Text(0, 0.5, 'Frequencies')"
      ]
     },
     "execution_count": 16,
     "metadata": {},
     "output_type": "execute_result"
    },
    {
     "data": {
      "image/png": "[encoded data removed]",
      "text/plain": [
       "<Figure size 720x288 with 1 Axes>"
      ]
     },
     "metadata": {
      "needs_background": "light"
     },
     "output_type": "display_data"
    }
   ],
   "source": [
    "# Your code here\n",
    "\n",
    "country_counts = dict(countries.value_counts())\n",
    "top_10 = [\"US\", \"CA\", \"UK\", \"AU\", \"PA\", \"CZ\" ,\"CN\", \"ES\", \"JP\", \"IN\"]\n",
    "for i in top_10:\n",
    "    del country_counts[i]\n",
    "    \n",
    "for key, value in country_counts.items():\n",
    "    country_counts[key] = 'OTHERS'\n",
    "    \n",
    "countries_relabel = countries.replace(country_counts)\n",
    "\n",
    "plt.figure(figsize=[10,4])\n",
    "plot_bar = countries_relabel.value_counts().plot.bar(color='tomato')\n",
    "plt.title('Re-label Countries frequencies', size=16, weight='bold',y=1.03)\n",
    "\n",
    "plt.sca(plot_bar)\n",
    "plt.xticks(fontsize=12)\n",
    "plt.yticks(fontsize=12)\n",
    "plt.ylim(0,700)\n",
    "label_prop = {'size':15,'weight':'bold','family':'fantasy','style':'oblique'}\n",
    "plt.xlabel('Countries',fontdict=label_prop)\n",
    "plot_bar.xaxis.set_label_coords(0.5, -0.2)\n",
    "plt.ylabel('Frequencies',fontdict=label_prop)\n"
   ]
  },
  {
   "cell_type": "markdown",
   "metadata": {},
   "source": [
    "Now since `WHOIS_COUNTRY` has been re-labelled, we don't need `WHOIS_STATEPRO` any more because the values of the states or provinces may not be relevant any more. We'll drop this column.\n",
    "\n",
    "In addition, we will also drop `WHOIS_REGDATE` and `WHOIS_UPDATED_DATE`. These are the registration and update dates of the website domains. Not of our concerns.\n",
    "\n",
    "#### In the next cell, drop `['WHOIS_STATEPRO', 'WHOIS_REGDATE', 'WHOIS_UPDATED_DATE']`."
   ]
  },
  {
   "cell_type": "code",
   "execution_count": 17,
   "metadata": {},
   "outputs": [],
   "source": [
    "# Your code here\n",
    "# No need for me to drop columns, just join 'countries_relabel' with numerical cleaned data 'websites_num_noZero'\n",
    "# This is done together with the rest of categorical data in next Challenge"
   ]
  },
  {
   "cell_type": "markdown",
   "metadata": {},
   "source": [
    "# Challenge 5 - Handle Remaining Categorical Data & Convert to Ordinal\n",
    "\n",
    "Besides `WHOIS_COUNTRY` which we already fixed, there are 3 categorical columns left: `URL`, `CHARSET`, and `SERVER`. `URL` doesn't provide any useful information, thus is automatically discarded."
   ]
  },
  {
   "cell_type": "markdown",
   "metadata": {},
   "source": [
    "#### Print the unique value counts of `CHARSET` and conduct a data cleaning."
   ]
  },
  {
   "cell_type": "code",
   "execution_count": 18,
   "metadata": {},
   "outputs": [
    {
     "name": "stdout",
     "output_type": "stream",
     "text": [
      "Value counts in CHARSET (only for numerical clean entries):\n",
      "UTF-8           430\n",
      "ISO-8859-1      265\n",
      "utf-8           238\n",
      "us-ascii         96\n",
      "iso-8859-1       86\n",
      "None              5\n",
      "windows-1252      1\n",
      "ISO-8859          1\n",
      "windows-1251      1\n",
      "Name: CHARSET, dtype: int64\n",
      "Value counts in CHARSET with consistent codes:\n",
      "UTF-8       668\n",
      "ISO-8859    352\n",
      "us-ascii     96\n",
      "Others        7\n",
      "Name: CHARSET, dtype: int64\n"
     ]
    }
   ],
   "source": [
    "# Your code here\n",
    "# Work only over the clean indexes already\n",
    "charset = websites.CHARSET.loc[websites_num_noZero.index]\n",
    "print(f\"Value counts in CHARSET (only for numerical clean entries):\\n{charset.value_counts()}\")\n",
    "# Modify labels consistently in CHARSET\n",
    "mapping = {'utf-8':'UTF-8','ISO-8859-1':'ISO-8859','iso-8859-1':'ISO-8859',\\\n",
    "           'None':'Others','windows-1252':'Others','windows-1251':'Others'}\n",
    "charset_relabel = charset.replace(mapping)\n",
    "print(f\"Value counts in CHARSET with consistent codes:\\n{charset_relabel.value_counts()}\")"
   ]
  },
  {
   "cell_type": "markdown",
   "metadata": {},
   "source": [
    "`SERVER` is a little more complicated. Print its unique values and think about how you can consolidate those values.\n",
    "\n",
    "#### Before you think of your own solution, don't read the instructions that come next."
   ]
  },
  {
   "cell_type": "code",
   "execution_count": 19,
   "metadata": {},
   "outputs": [
    {
     "name": "stdout",
     "output_type": "stream",
     "text": [
      "Value counts in SERVER (only for numerical clean entries):\n",
      "Apache                                                                                220\n",
      "nginx                                                                                 152\n",
      "None                                                                                  109\n",
      "Microsoft-HTTPAPI/2.0                                                                  69\n",
      "cloudflare-nginx                                                                       58\n",
      "                                                                                     ... \n",
      "Apache/2.4.6 (CentOS) OpenSSL/1.0.1e-fips mod_fcgid/2.3.9 PHP/5.4.16 mod_jk/1.2.40      1\n",
      "Microsoft-IIS/8.0                                                                       1\n",
      "Microsoft-IIS/7.0                                                                       1\n",
      "mw2104.codfw.wmnet                                                                      1\n",
      "Tengine                                                                                 1\n",
      "Name: SERVER, Length: 191, dtype: int64\n"
     ]
    }
   ],
   "source": [
    "# Your code here\n",
    "# Work only over the clean indexes already\n",
    "server = websites.SERVER.loc[websites_num_noZero.index]\n",
    "print(f\"Value counts in SERVER (only for numerical clean entries):\\n{server.value_counts()}\")"
   ]
  },
  {
   "cell_type": "markdown",
   "metadata": {},
   "source": [
    "As observed from above, there are mainly different versions of Apache, nginx and Microsoft that could be grouped."
   ]
  },
  {
   "cell_type": "markdown",
   "metadata": {},
   "source": [
    "![Think Hard](../images/think-hard.jpg)"
   ]
  },
  {
   "cell_type": "markdown",
   "metadata": {},
   "source": [
    "Although there are so many unique values in the `SERVER` column, there are actually only 3 main server types: `Microsoft`, `Apache`, and `nginx`. Just check if each `SERVER` value contains any of those server types and re-label them. For `SERVER` values that don't contain any of those substrings, label with `Other`.\n",
    "\n",
    "At the end, your `SERVER` column should only contain 4 unique values: `Microsoft`, `Apache`, `nginx`, and `Other`."
   ]
  },
  {
   "cell_type": "code",
   "execution_count": 20,
   "metadata": {},
   "outputs": [
    {
     "name": "stdout",
     "output_type": "stream",
     "text": [
      "There are 1 NaN values in my SERVER entries.\n"
     ]
    }
   ],
   "source": [
    "# Your code here\n",
    "server_list = ['Microsoft', 'Apache', 'nginx']\n",
    "server_relabel = server.copy()\n",
    "# check for NaN\n",
    "point_nan = server_relabel.isna()\n",
    "print(f\"There are {point_nan.sum()} NaN values in my SERVER entries.\")\n",
    "# fill NaN as 'Others'\n",
    "server_relabel.loc[point_nan] = 'Other'\n",
    "idx_or = np.zeros(server_relabel.shape, dtype=bool)\n",
    "for elem in server_list:\n",
    "    idx = server_relabel.str.contains(elem,case=False)\n",
    "    server_relabel.loc[idx] = elem\n",
    "    idx_or = idx_or | idx\n",
    "server_relabel.loc[~idx_or] = 'Other'"
   ]
  },
  {
   "cell_type": "code",
   "execution_count": 21,
   "metadata": {
    "scrolled": false
   },
   "outputs": [
    {
     "name": "stdout",
     "output_type": "stream",
     "text": [
      "Value counts in SERVER re-labeled:\n",
      "Apache       395\n",
      "Other        321\n",
      "nginx        286\n",
      "Microsoft    121\n",
      "Name: SERVER, dtype: int64\n"
     ]
    }
   ],
   "source": [
    "# Count `SERVER` value counts here\n",
    "print(f\"Value counts in SERVER re-labeled:\\n{server_relabel.value_counts()}\")"
   ]
  },
  {
   "cell_type": "markdown",
   "metadata": {},
   "source": [
    "OK, all our categorical data are fixed now. **Let's convert them to ordinal data using Pandas' `get_dummies` function ([documentation](https://pandas.pydata.org/pandas-docs/stable/generated/pandas.get_dummies.html)).** Make sure you drop the categorical columns by passing `drop_first=True` to `get_dummies` as we don't need them any more. **Also, assign the data with dummy values to a new variable `website_dummy`.**"
   ]
  },
  {
   "cell_type": "code",
   "execution_count": 22,
   "metadata": {},
   "outputs": [],
   "source": [
    "# Your code here\n",
    "# Concatenate all cleaned categorical variables into one dataframe\n",
    "categorical_clean = pd.concat([countries_relabel,charset_relabel,server_relabel],axis=1)\n",
    "# Join categorical dataframe with numerical cleaned dataframe\n",
    "websites_to_model = categorical_clean.join(websites_num_noZero,how='inner').reset_index(drop=True)\n",
    "website_dummy = pd.get_dummies(websites_to_model,drop_first=True)"
   ]
  },
  {
   "cell_type": "markdown",
   "metadata": {},
   "source": [
    "Now, inspect `website_dummy` to make sure the data and types are intended - there shouldn't be any categorical columns at this point."
   ]
  },
  {
   "cell_type": "code",
   "execution_count": 23,
   "metadata": {},
   "outputs": [
    {
     "name": "stdout",
     "output_type": "stream",
     "text": [
      "<class 'pandas.core.frame.DataFrame'>\n",
      "RangeIndex: 1123 entries, 0 to 1122\n",
      "Data columns (total 24 columns):\n",
      " #   Column                     Non-Null Count  Dtype  \n",
      "---  ------                     --------------  -----  \n",
      " 0   NUMBER_SPECIAL_CHARACTERS  1123 non-null   int64  \n",
      " 1   TCP_CONVERSATION_EXCHANGE  1123 non-null   int64  \n",
      " 2   DIST_REMOTE_TCP_PORT       1123 non-null   int64  \n",
      " 3   REMOTE_IPS                 1123 non-null   int64  \n",
      " 4   APP_BYTES                  1123 non-null   int64  \n",
      " 5   SOURCE_APP_BYTES           1123 non-null   int64  \n",
      " 6   DNS_QUERY_TIMES            1123 non-null   float64\n",
      " 7   Type                       1123 non-null   int64  \n",
      " 8   WHOIS_COUNTRY_CA           1123 non-null   uint8  \n",
      " 9   WHOIS_COUNTRY_CN           1123 non-null   uint8  \n",
      " 10  WHOIS_COUNTRY_CZ           1123 non-null   uint8  \n",
      " 11  WHOIS_COUNTRY_ES           1123 non-null   uint8  \n",
      " 12  WHOIS_COUNTRY_IN           1123 non-null   uint8  \n",
      " 13  WHOIS_COUNTRY_JP           1123 non-null   uint8  \n",
      " 14  WHOIS_COUNTRY_OTHERS       1123 non-null   uint8  \n",
      " 15  WHOIS_COUNTRY_PA           1123 non-null   uint8  \n",
      " 16  WHOIS_COUNTRY_UK           1123 non-null   uint8  \n",
      " 17  WHOIS_COUNTRY_US           1123 non-null   uint8  \n",
      " 18  CHARSET_Others             1123 non-null   uint8  \n",
      " 19  CHARSET_UTF-8              1123 non-null   uint8  \n",
      " 20  CHARSET_us-ascii           1123 non-null   uint8  \n",
      " 21  SERVER_Microsoft           1123 non-null   uint8  \n",
      " 22  SERVER_Other               1123 non-null   uint8  \n",
      " 23  SERVER_nginx               1123 non-null   uint8  \n",
      "dtypes: float64(1), int64(7), uint8(16)\n",
      "memory usage: 87.9 KB\n",
      "None\n"
     ]
    },
    {
     "data": {
      "text/html": [
       "<div>\n",
       "<style scoped>\n",
       "    .dataframe tbody tr th:only-of-type {\n",
       "        vertical-align: middle;\n",
       "    }\n",
       "\n",
       "    .dataframe tbody tr th {\n",
       "        vertical-align: top;\n",
       "    }\n",
       "\n",
       "    .dataframe thead th {\n",
       "        text-align: right;\n",
       "    }\n",
       "</style>\n",
       "<table border=\"1\" class=\"dataframe\">\n",
       "  <thead>\n",
       "    <tr style=\"text-align: right;\">\n",
       "      <th></th>\n",
       "      <th>NUMBER_SPECIAL_CHARACTERS</th>\n",
       "      <th>TCP_CONVERSATION_EXCHANGE</th>\n",
       "      <th>DIST_REMOTE_TCP_PORT</th>\n",
       "      <th>REMOTE_IPS</th>\n",
       "      <th>APP_BYTES</th>\n",
       "      <th>SOURCE_APP_BYTES</th>\n",
       "      <th>DNS_QUERY_TIMES</th>\n",
       "      <th>Type</th>\n",
       "      <th>WHOIS_COUNTRY_CA</th>\n",
       "      <th>WHOIS_COUNTRY_CN</th>\n",
       "      <th>WHOIS_COUNTRY_CZ</th>\n",
       "      <th>WHOIS_COUNTRY_ES</th>\n",
       "      <th>WHOIS_COUNTRY_IN</th>\n",
       "      <th>WHOIS_COUNTRY_JP</th>\n",
       "      <th>WHOIS_COUNTRY_OTHERS</th>\n",
       "      <th>WHOIS_COUNTRY_PA</th>\n",
       "      <th>WHOIS_COUNTRY_UK</th>\n",
       "      <th>WHOIS_COUNTRY_US</th>\n",
       "      <th>CHARSET_Others</th>\n",
       "      <th>CHARSET_UTF-8</th>\n",
       "      <th>CHARSET_us-ascii</th>\n",
       "      <th>SERVER_Microsoft</th>\n",
       "      <th>SERVER_Other</th>\n",
       "      <th>SERVER_nginx</th>\n",
       "    </tr>\n",
       "  </thead>\n",
       "  <tbody>\n",
       "    <tr>\n",
       "      <th>0</th>\n",
       "      <td>7</td>\n",
       "      <td>7</td>\n",
       "      <td>0</td>\n",
       "      <td>2</td>\n",
       "      <td>700</td>\n",
       "      <td>1153</td>\n",
       "      <td>2.0</td>\n",
       "      <td>1</td>\n",
       "      <td>0</td>\n",
       "      <td>0</td>\n",
       "      <td>0</td>\n",
       "      <td>0</td>\n",
       "      <td>0</td>\n",
       "      <td>0</td>\n",
       "      <td>1</td>\n",
       "      <td>0</td>\n",
       "      <td>0</td>\n",
       "      <td>0</td>\n",
       "      <td>0</td>\n",
       "      <td>0</td>\n",
       "      <td>0</td>\n",
       "      <td>0</td>\n",
       "      <td>0</td>\n",
       "      <td>1</td>\n",
       "    </tr>\n",
       "    <tr>\n",
       "      <th>1</th>\n",
       "      <td>6</td>\n",
       "      <td>17</td>\n",
       "      <td>7</td>\n",
       "      <td>4</td>\n",
       "      <td>1230</td>\n",
       "      <td>1265</td>\n",
       "      <td>0.0</td>\n",
       "      <td>0</td>\n",
       "      <td>0</td>\n",
       "      <td>0</td>\n",
       "      <td>0</td>\n",
       "      <td>0</td>\n",
       "      <td>0</td>\n",
       "      <td>0</td>\n",
       "      <td>1</td>\n",
       "      <td>0</td>\n",
       "      <td>0</td>\n",
       "      <td>0</td>\n",
       "      <td>0</td>\n",
       "      <td>1</td>\n",
       "      <td>0</td>\n",
       "      <td>0</td>\n",
       "      <td>0</td>\n",
       "      <td>0</td>\n",
       "    </tr>\n",
       "    <tr>\n",
       "      <th>2</th>\n",
       "      <td>6</td>\n",
       "      <td>31</td>\n",
       "      <td>22</td>\n",
       "      <td>3</td>\n",
       "      <td>3812</td>\n",
       "      <td>18784</td>\n",
       "      <td>8.0</td>\n",
       "      <td>0</td>\n",
       "      <td>0</td>\n",
       "      <td>0</td>\n",
       "      <td>0</td>\n",
       "      <td>0</td>\n",
       "      <td>0</td>\n",
       "      <td>0</td>\n",
       "      <td>0</td>\n",
       "      <td>0</td>\n",
       "      <td>0</td>\n",
       "      <td>1</td>\n",
       "      <td>0</td>\n",
       "      <td>0</td>\n",
       "      <td>0</td>\n",
       "      <td>0</td>\n",
       "      <td>0</td>\n",
       "      <td>1</td>\n",
       "    </tr>\n",
       "    <tr>\n",
       "      <th>3</th>\n",
       "      <td>6</td>\n",
       "      <td>57</td>\n",
       "      <td>2</td>\n",
       "      <td>5</td>\n",
       "      <td>4278</td>\n",
       "      <td>129889</td>\n",
       "      <td>4.0</td>\n",
       "      <td>0</td>\n",
       "      <td>0</td>\n",
       "      <td>0</td>\n",
       "      <td>0</td>\n",
       "      <td>0</td>\n",
       "      <td>0</td>\n",
       "      <td>0</td>\n",
       "      <td>0</td>\n",
       "      <td>0</td>\n",
       "      <td>0</td>\n",
       "      <td>1</td>\n",
       "      <td>0</td>\n",
       "      <td>1</td>\n",
       "      <td>0</td>\n",
       "      <td>0</td>\n",
       "      <td>1</td>\n",
       "      <td>0</td>\n",
       "    </tr>\n",
       "    <tr>\n",
       "      <th>4</th>\n",
       "      <td>7</td>\n",
       "      <td>11</td>\n",
       "      <td>6</td>\n",
       "      <td>9</td>\n",
       "      <td>894</td>\n",
       "      <td>838</td>\n",
       "      <td>0.0</td>\n",
       "      <td>0</td>\n",
       "      <td>0</td>\n",
       "      <td>0</td>\n",
       "      <td>0</td>\n",
       "      <td>0</td>\n",
       "      <td>0</td>\n",
       "      <td>0</td>\n",
       "      <td>1</td>\n",
       "      <td>0</td>\n",
       "      <td>0</td>\n",
       "      <td>0</td>\n",
       "      <td>0</td>\n",
       "      <td>1</td>\n",
       "      <td>0</td>\n",
       "      <td>0</td>\n",
       "      <td>0</td>\n",
       "      <td>1</td>\n",
       "    </tr>\n",
       "  </tbody>\n",
       "</table>\n",
       "</div>"
      ],
      "text/plain": [
       "   NUMBER_SPECIAL_CHARACTERS  TCP_CONVERSATION_EXCHANGE  DIST_REMOTE_TCP_PORT  \\\n",
       "0                          7                          7                     0   \n",
       "1                          6                         17                     7   \n",
       "2                          6                         31                    22   \n",
       "3                          6                         57                     2   \n",
       "4                          7                         11                     6   \n",
       "\n",
       "   REMOTE_IPS  APP_BYTES  SOURCE_APP_BYTES  DNS_QUERY_TIMES  Type  \\\n",
       "0           2        700              1153              2.0     1   \n",
       "1           4       1230              1265              0.0     0   \n",
       "2           3       3812             18784              8.0     0   \n",
       "3           5       4278            129889              4.0     0   \n",
       "4           9        894               838              0.0     0   \n",
       "\n",
       "   WHOIS_COUNTRY_CA  WHOIS_COUNTRY_CN  WHOIS_COUNTRY_CZ  WHOIS_COUNTRY_ES  \\\n",
       "0                 0                 0                 0                 0   \n",
       "1                 0                 0                 0                 0   \n",
       "2                 0                 0                 0                 0   \n",
       "3                 0                 0                 0                 0   \n",
       "4                 0                 0                 0                 0   \n",
       "\n",
       "   WHOIS_COUNTRY_IN  WHOIS_COUNTRY_JP  WHOIS_COUNTRY_OTHERS  WHOIS_COUNTRY_PA  \\\n",
       "0                 0                 0                     1                 0   \n",
       "1                 0                 0                     1                 0   \n",
       "2                 0                 0                     0                 0   \n",
       "3                 0                 0                     0                 0   \n",
       "4                 0                 0                     1                 0   \n",
       "\n",
       "   WHOIS_COUNTRY_UK  WHOIS_COUNTRY_US  CHARSET_Others  CHARSET_UTF-8  \\\n",
       "0                 0                 0               0              0   \n",
       "1                 0                 0               0              1   \n",
       "2                 0                 1               0              0   \n",
       "3                 0                 1               0              1   \n",
       "4                 0                 0               0              1   \n",
       "\n",
       "   CHARSET_us-ascii  SERVER_Microsoft  SERVER_Other  SERVER_nginx  \n",
       "0                 0                 0             0             1  \n",
       "1                 0                 0             0             0  \n",
       "2                 0                 0             0             1  \n",
       "3                 0                 0             1             0  \n",
       "4                 0                 0             0             1  "
      ]
     },
     "execution_count": 23,
     "metadata": {},
     "output_type": "execute_result"
    }
   ],
   "source": [
    "# Your code here\n",
    "print(website_dummy.info())\n",
    "website_dummy.head()"
   ]
  },
  {
   "cell_type": "markdown",
   "metadata": {},
   "source": [
    "# Challenge 6 - Modeling, Prediction, and Evaluation\n",
    "\n",
    "We'll start off this section by splitting the data to train and test. **Name your 4 variables `X_train`, `X_test`, `y_train`, and `y_test`. Select 80% of the data for training and 20% for testing.**"
   ]
  },
  {
   "cell_type": "code",
   "execution_count": 24,
   "metadata": {},
   "outputs": [],
   "source": [
    "# Your code here:\n",
    "X = website_dummy.drop(columns='Type')\n",
    "y = website_dummy.Type\n",
    "X_train, X_test, y_train, y_test = train_test_split(X,y,test_size=0.2,random_state=42)"
   ]
  },
  {
   "cell_type": "markdown",
   "metadata": {},
   "source": [
    "#### In this lab, we will try two different models and compare our results.\n",
    "\n",
    "The first model we will use in this lab is logistic regression. We have previously learned about logistic regression as a classification algorithm. In the cell below, load `LogisticRegression` from scikit-learn and initialize the model."
   ]
  },
  {
   "cell_type": "code",
   "execution_count": 25,
   "metadata": {},
   "outputs": [],
   "source": [
    "# Your code here:\n",
    "# set multi_class as a binary classification\n",
    "log_reg = LogisticRegression(multi_class='ovr')"
   ]
  },
  {
   "cell_type": "markdown",
   "metadata": {},
   "source": [
    "Next, fit the model to our training data. We have already separated our data into 4 parts. Use those in your model."
   ]
  },
  {
   "cell_type": "code",
   "execution_count": 26,
   "metadata": {},
   "outputs": [],
   "source": [
    "# Your code here:\n",
    "# Normalize input data first\n",
    "scaler = Normalizer().fit(X_train)\n",
    "X_train_scaled = scaler.transform(X_train)\n",
    "model = log_reg.fit(X_train_scaled, y_train)\n",
    "# Ask Teachers about documentation: LogisticRegression applies L2 regularization by default?"
   ]
  },
  {
   "cell_type": "markdown",
   "metadata": {},
   "source": [
    "finally, import `confusion_matrix` and `accuracy_score` from `sklearn.metrics` and fit our testing data. Assign the fitted data to `y_pred` and print the confusion matrix as well as the accuracy score"
   ]
  },
  {
   "cell_type": "code",
   "execution_count": 27,
   "metadata": {},
   "outputs": [
    {
     "name": "stdout",
     "output_type": "stream",
     "text": [
      "Accuracy score is: 85.78 %.\n",
      "Confusion Matrix is:\n",
      "C=[[193   0]\n",
      " [ 32   0]].\n"
     ]
    }
   ],
   "source": [
    "# Your code here:\n",
    "# Normalize X_test with scale from X_train\n",
    "X_test_scaled = scaler.transform(X_test)\n",
    "# score returns mean accuracy on test data against test labels (a.k.a accuracy_score)\n",
    "model_score = model.score(X_test_scaled, y_test)\n",
    "print(f\"Accuracy score is: {round(model_score*100,2)} %.\")\n",
    "# fit test data using our model\n",
    "y_pred = model.predict(X_test_scaled)\n",
    "# confusion matrix, binary classification --> C[0,0]: true neg, C[0,1]: false neg, C[1,0]: false pos, C[1,1]: true pos\n",
    "c_mat = confusion_matrix(y_test, y_pred)\n",
    "print(f\"Confusion Matrix is:\\nC={c_mat}.\")"
   ]
  },
  {
   "cell_type": "markdown",
   "metadata": {},
   "source": [
    "What are your thoughts on the performance of the model? Write your conclusions below."
   ]
  },
  {
   "cell_type": "markdown",
   "metadata": {},
   "source": [
    "Despite having a relatively high accuracy score of $85.78\\,\\%$, the model actually can't predict any true positives (malicious websites), which actually is the purpose of the model. Thus, the model doesn't serve it purposes.\n",
    "\n",
    "It is observed a model that has basically learnt to classify every input as a benign website, a fact that could be explained by the unbalanced nature of the dataset. Indeed, this is the reason for it's high accuracy model, being the target test data mostly benign websites and the model itself unable to predict any true positives (malicious websites) at all."
   ]
  },
  {
   "cell_type": "markdown",
   "metadata": {},
   "source": [
    "#### Our second algorithm is is K-Nearest Neighbors. \n",
    "\n",
    "Though is it not required, we will fit a model using the training data and then test the performance of the model using the testing data. Start by loading `KNeighborsClassifier` from scikit-learn and then initializing and fitting the model. We'll start off with a model where k=3."
   ]
  },
  {
   "cell_type": "code",
   "execution_count": 28,
   "metadata": {},
   "outputs": [
    {
     "data": {
      "text/plain": [
       "KNeighborsClassifier(algorithm='auto', leaf_size=30, metric='euclidean',\n",
       "                     metric_params=None, n_jobs=None, n_neighbors=3, p=2,\n",
       "                     weights='uniform')"
      ]
     },
     "execution_count": 28,
     "metadata": {},
     "output_type": "execute_result"
    }
   ],
   "source": [
    "# Your code here:\n",
    "knn_clf = KNeighborsClassifier(n_neighbors=3, metric='euclidean')\n",
    "knn_clf.fit(X_train_scaled, y_train)"
   ]
  },
  {
   "cell_type": "markdown",
   "metadata": {},
   "source": [
    "To test your model, compute the predicted values for the testing sample and print the confusion matrix as well as the accuracy score."
   ]
  },
  {
   "cell_type": "code",
   "execution_count": 29,
   "metadata": {},
   "outputs": [
    {
     "name": "stdout",
     "output_type": "stream",
     "text": [
      "Confusion Matrix is:\n",
      "C=[[185   8]\n",
      " [ 24   8]].\n",
      "Accuracy score is: 85.78 %.\n"
     ]
    }
   ],
   "source": [
    "# Your code here:\n",
    "# test data predicted values\n",
    "y_pred = knn_clf.predict(X_test_scaled)\n",
    "\n",
    "# confusion matrix\n",
    "c_mat = confusion_matrix(y_test, y_pred)\n",
    "print(f\"Confusion Matrix is:\\nC={c_mat}.\")\n",
    "\n",
    "# accuracy score\n",
    "knn_score = knn_clf.score(X_test_scaled, y_test)\n",
    "print(f\"Accuracy score is: {round(knn_score*100,2)} %.\")"
   ]
  },
  {
   "cell_type": "markdown",
   "metadata": {},
   "source": [
    "#### We'll create another K-Nearest Neighbors model with k=5. \n",
    "\n",
    "Initialize and fit the model below and print the confusion matrix and the accuracy score."
   ]
  },
  {
   "cell_type": "code",
   "execution_count": 30,
   "metadata": {},
   "outputs": [
    {
     "name": "stdout",
     "output_type": "stream",
     "text": [
      "Confusion Matrix is:\n",
      "C=[[186   7]\n",
      " [ 22  10]].\n",
      "Accuracy score is: 87.11 %.\n"
     ]
    }
   ],
   "source": [
    "# Your code here:\n",
    "kn5_clf = KNeighborsClassifier(n_neighbors=5, metric='euclidean')\n",
    "kn5_clf.fit(X_train_scaled, y_train)\n",
    "\n",
    "# test data predicted values\n",
    "y_pred = kn5_clf.predict(X_test_scaled)\n",
    "\n",
    "# confusion matrix\n",
    "c_mat = confusion_matrix(y_test, y_pred)\n",
    "print(f\"Confusion Matrix is:\\nC={c_mat}.\")\n",
    "\n",
    "# accuracy score\n",
    "kn5_score = kn5_clf.score(X_test_scaled, y_test)\n",
    "print(f\"Accuracy score is: {round(kn5_score*100,2)} %.\")"
   ]
  },
  {
   "cell_type": "markdown",
   "metadata": {},
   "source": [
    "Did you see an improvement in the confusion matrix when increasing k to 5? Did you see an improvement in the accuracy score? Write your conclusions below."
   ]
  },
  {
   "cell_type": "markdown",
   "metadata": {},
   "source": [
    "When increasing *n_neighbors* from 3 to 5, we observe an improvement in the accuracy score. With respect to the confusion matrix, we observe that the improvement is bigger in the predictions of true positives compared to true negatives.\n",
    "\n",
    "In general, we observe that *KNeighborsClassifier* is better suited to handle the unbalanced nature of the dataset in the binary classification compared to the logistic regression approach."
   ]
  },
  {
   "cell_type": "markdown",
   "metadata": {},
   "source": [
    "# Bonus Challenge - Feature Scaling\n",
    "\n",
    "Problem-solving in machine learning is iterative. You can improve your model prediction with various techniques (there is a sweetspot for the time you spend and the improvement you receive though). Now you've completed only one iteration of ML analysis. There are more iterations you can conduct to make improvements. In order to be able to do that, you will need deeper knowledge in statistics and master more data analysis techniques. In this bootcamp, we don't have time to achieve that advanced goal. But you will make constant efforts after the bootcamp to eventually get there.\n",
    "\n",
    "However, now we do want you to learn one of the advanced techniques which is called *feature scaling*. The idea of feature scaling is to standardize/normalize the range of independent variables or features of the data. This can make the outliers more apparent so that you can remove them. This step needs to happen during Challenge 6 after you split the training and test data because you don't want to split the data again which makes it impossible to compare your results with and without feature scaling. For general concepts about feature scaling, click [here](https://en.wikipedia.org/wiki/Feature_scaling). To read deeper, click [here](https://medium.com/greyatom/why-how-and-when-to-scale-your-features-4b30ab09db5e).\n",
    "\n",
    "In the next cell, attempt to improve your model prediction accuracy by means of feature scaling. A library you can utilize is `sklearn.preprocessing.RobustScaler` ([documentation](https://scikit-learn.org/stable/modules/generated/sklearn.preprocessing.RobustScaler.html)). You'll use the `RobustScaler` to fit and transform your `X_train`, then transform `X_test`. You will use logistic regression to fit and predict your transformed data and obtain the accuracy score in the same way. Compare the accuracy score with your normalized data with the previous accuracy data. Is there an improvement?"
   ]
  },
  {
   "cell_type": "code",
   "execution_count": 31,
   "metadata": {},
   "outputs": [
    {
     "name": "stdout",
     "output_type": "stream",
     "text": [
      "Accuracy score is: 88.89 %.\n",
      "Confusion Matrix is:\n",
      "C=[[189   4]\n",
      " [ 21  11]].\n"
     ]
    }
   ],
   "source": [
    "# Your code here\n",
    "# set multi_class as a binary classification\n",
    "log_reg = LogisticRegression(multi_class='ovr')\n",
    "\n",
    "# Standarize input data with robust scaler (non-sensitive to outliers)\n",
    "rob_scaler = RobustScaler().fit(X_train)\n",
    "X_train_rob_scale = rob_scaler.transform(X_train)\n",
    "model_rob = log_reg.fit(X_train_rob_scale, y_train)\n",
    "\n",
    "# Standarize X_test with robust scale from X_train\n",
    "X_test_rob_scale = rob_scaler.transform(X_test)\n",
    "\n",
    "# fit test data using model with robust scaler\n",
    "y_pred = model_rob.predict(X_test_rob_scale)\n",
    "\n",
    "# accuracy score\n",
    "acc_score = model_rob.score(X_test_rob_scale, y_test)\n",
    "print(f\"Accuracy score is: {round(acc_score*100,2)} %.\")\n",
    "\n",
    "# confusion matrix\n",
    "c_mat = confusion_matrix(y_test, y_pred)\n",
    "print(f\"Confusion Matrix is:\\nC={c_mat}.\")"
   ]
  },
  {
   "cell_type": "markdown",
   "metadata": {},
   "source": [
    "Definitely the logistic regression works better with a robust scaler. With respect to accuracy score the change is not significant. The noticeable difference is observed in the confusion matrix, where non-zero true positives are captured. However, the accuracy to capture these is still very low, which shows the problem of unbalanced data.\n",
    "\n",
    "Another insight gained from this lab is that the logistic regression is performing better using the whole numeric features without cleaning outliers and applying a robust scaling method rather than removing outliers from the numeric features fed into the machine learning algorithm. This is an important aspect to consider, if we don't want to depend on the user knowledge and reduce data pre-processing time previous to the machine learning computations."
   ]
  }
 ],
 "metadata": {
  "kernelspec": {
   "display_name": "Python 3",
   "language": "python",
   "name": "python3"
  },
  "language_info": {
   "codemirror_mode": {
    "name": "ipython",
    "version": 3
   },
   "file_extension": ".py",
   "mimetype": "text/x-python",
   "name": "python",
   "nbconvert_exporter": "python",
   "pygments_lexer": "ipython3",
   "version": "3.7.6"
  }
 },
 "nbformat": 4,
 "nbformat_minor": 2
}
